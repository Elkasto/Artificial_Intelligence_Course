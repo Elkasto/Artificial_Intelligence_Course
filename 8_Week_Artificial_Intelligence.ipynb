{
  "nbformat": 4,
  "nbformat_minor": 0,
  "metadata": {
    "colab": {
      "provenance": []
    },
    "kernelspec": {
      "name": "python3",
      "display_name": "Python 3"
    },
    "language_info": {
      "name": "python"
    }
  },
  "cells": [
    {
      "cell_type": "markdown",
      "source": [
        "**Grafos y búsqueda de información**"
      ],
      "metadata": {
        "id": "VGCXRK7AEAal"
      }
    },
    {
      "cell_type": "code",
      "execution_count": null,
      "metadata": {
        "id": "uT9Eqozv7B_u"
      },
      "outputs": [],
      "source": [
        "# Crear grafo\n",
        "\n",
        "grafo = {\n",
        "    'A': [('B', 3), ('C', 5), ('D', 2), ('H', 10)],\n",
        "    'B': [('A', 3), ('C', 5), ('D', 8), ('E', 4), ('G', 6), ('H', 6)],\n",
        "    'C': [('A', 5), ('B', 5), ('E', 1), ('F', 7), ('G', 9)],\n",
        "    'D': [('A', 2), ('B', 8), ('E', 12), ('H', 14)],\n",
        "    'E': [('B', 4), ('C', 1), ('D', 12), ('G', 15)],\n",
        "    'F': [('C', 7), ('H', 9)],\n",
        "    'G': [('B', 6), ('C', 9), ('E', 15), ('H', 3)],\n",
        "    'H': [('A', 10), ('B', 6), ('D', 14), ('F', 9), ('G', 3)]\n",
        "}"
      ]
    },
    {
      "cell_type": "code",
      "source": [
        "# Crear destino más corto\n",
        "import heapq\n",
        "\n",
        "origen = 'A'\n",
        "\n",
        "distancias = {nodo: float('infinity') for nodo in grafo}\n",
        "distancias[origen] = 0\n",
        "cola = [(0, origen)]\n",
        "\n",
        "while cola:\n",
        "  acumulado_distancia, acumulado_nodo = heapq.heappop(cola)\n",
        "  if acumulado_distancia > distancias[acumulado_nodo]:\n",
        "    continue\n",
        "\n",
        "  for vecino, peso in grafo[acumulado_nodo]:\n",
        "    nueva_distancia = acumulado_distancia + peso\n",
        "    if nueva_distancia < distancias[vecino]:\n",
        "      distancias[vecino] = nueva_distancia\n",
        "\n",
        "      heapq.heappush(cola, (nueva_distancia, vecino))\n",
        "\n",
        "print(distancias)\n",
        "print(distancias[vecino])\n"
      ],
      "metadata": {
        "colab": {
          "base_uri": "https://localhost:8080/"
        },
        "id": "XC8eQjlv97hs",
        "outputId": "95315247-d845-4253-e764-4d896f9eb546"
      },
      "execution_count": null,
      "outputs": [
        {
          "output_type": "stream",
          "name": "stdout",
          "text": [
            "{'A': 0, 'B': 3, 'C': 5, 'D': 2, 'E': 6, 'F': 12, 'G': 9, 'H': 9}\n",
            "9\n"
          ]
        }
      ]
    },
    {
      "cell_type": "code",
      "source": [
        "# Sugerir nodo de inicio y nodo de fin\n",
        "\n",
        "import heapq\n",
        "\n",
        "origen = input(\"Ingrese el nodo de inicio: \").upper()\n",
        "destino = input(\"Ingrese el nodo de destino: \").upper()\n",
        "\n",
        "# Validar nodos\n",
        "if origen not in grafo or destino not in grafo:\n",
        "  print(\"Los nodos no son validos\")\n",
        "else:\n",
        "  distancias = {nodo: float('inf') for nodo in grafo}\n",
        "  distancias[origen] = 0\n",
        "  nodos_previos = {nodo: None for nodo in grafo}\n",
        "  prioridad = [(0, origen)]\n",
        "\n",
        "  while prioridad:\n",
        "    distancia_actual, nodo_actual = heapq.heappop(prioridad)\n",
        "    if nodo_actual == destino:\n",
        "      break\n",
        "    if distancia_actual > distancias[nodo_actual]:\n",
        "      continue\n",
        "    for vecino, peso in grafo[nodo_actual]:\n",
        "      nueva_distancia = distancia_actual + peso\n",
        "      if nueva_distancia < distancias[vecino]:\n",
        "        distancias[vecino] = nueva_distancia\n",
        "        nodos_previos[vecino] = nodo_actual\n",
        "        heapq.heappush(prioridad, (nueva_distancia, vecino))\n",
        "\n",
        "    camino = []\n",
        "    nodo_actual = destino\n",
        "    while nodo_actual is not None:\n",
        "      camino.append(nodo_actual)\n",
        "      nodo_actual = nodos_previos[nodo_actual]\n",
        "\n",
        "    camino = camino[::-1]\n",
        "\n",
        "  print(\"El camino mas corto es: \", camino)\n",
        "  print(\"El valor distancia: \", distancias[destino])"
      ],
      "metadata": {
        "id": "SrbJ-SOxCq_J",
        "colab": {
          "base_uri": "https://localhost:8080/"
        },
        "outputId": "ef74285c-f2c4-4f24-815f-36d95219cbc0"
      },
      "execution_count": null,
      "outputs": [
        {
          "output_type": "stream",
          "name": "stdout",
          "text": [
            "Ingrese el nodo de inicio: A\n",
            "Ingrese el nodo de destino: F\n",
            "El camino mas corto es:  ['A', 'C', 'F']\n",
            "El valor distancia:  12\n"
          ]
        }
      ]
    }
  ]
}