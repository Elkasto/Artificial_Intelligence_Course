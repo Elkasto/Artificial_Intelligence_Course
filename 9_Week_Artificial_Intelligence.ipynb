{
  "nbformat": 4,
  "nbformat_minor": 0,
  "metadata": {
    "colab": {
      "provenance": []
    },
    "kernelspec": {
      "name": "python3",
      "display_name": "Python 3"
    },
    "language_info": {
      "name": "python"
    }
  },
  "cells": [
    {
      "cell_type": "markdown",
      "source": [
        "**El algoritmo A y su solución es tomado del bootcamp de Inteligencia Artificial de la Universidad Sergio Arboleda**"
      ],
      "metadata": {
        "id": "U25tR34Zrsqz"
      }
    },
    {
      "cell_type": "markdown",
      "source": [
        "**Algoritmo A***\n",
        "\n",
        "El algoritmo A* es una técnica de búsqueda informada utilizada comúnmente en inteligencia artificial y ciencias de la computación para encontrar el camino más corto o la ruta óptima entre un nodo de inicio y un nodo de destino en un grafo ponderado. A* es una extensión del algoritmo de búsqueda de costo uniforme, que equilibra eficazmente la exhaustividad y la eficiencia al considerar tanto el costo actual para llegar a un nodo como una estimación del costo restante para llegar al objetivo.\n",
        "\n",
        "El funcionamiento del algoritmo A* se basa en el uso de una función de evaluación que calcula una puntuación para cada nodo en el grafo, combinando el costo acumulado desde el nodo inicial con una estimación heurística del costo restante hasta el nodo objetivo. Esta función de evaluación guía al algoritmo para explorar primero las rutas que parecen más prometedoras en términos de eficiencia y luego ajustar su enfoque a medida que obtiene más información sobre el entorno de búsqueda.\n",
        "\n",
        "El algoritmo A* utiliza una estructura de datos conocida como \"lista abierta\" para mantener un registro de los nodos que aún no se han explorado pero que se consideran candidatos prometedores para la expansión. En cada iteración, el algoritmo selecciona el nodo con la puntuación más baja de la lista abierta y lo expande, considerando sus nodos vecinos y actualizando sus puntuaciones según sea necesario. Este proceso continúa hasta que se alcanza el nodo objetivo o se agota la lista abierta sin encontrar una solución.\n",
        "\n",
        "La eficacia del algoritmo A* depende en gran medida de la elección de una heurística adecuada que proporcione estimaciones precisas del costo restante hasta el objetivo. Una heurística admisible es aquella que nunca sobreestima el costo real, lo que garantiza que el algoritmo encuentre siempre la solución óptima si existe. Sin embargo, las heurísticas no admisibles pueden conducir a soluciones subóptimas o incluso a un comportamiento incorrecto del algoritmo en algunos casos.\n",
        "\n",
        "En resumen, el algoritmo A* es una herramienta poderosa y versátil que se utiliza en una amplia variedad de aplicaciones, desde sistemas de navegación hasta planificación de rutas y resolución de problemas en juegos. Al combinar la eficiencia de la búsqueda de costo uniforme con la guía heurística, A* ofrece una solución efectiva para problemas de búsqueda en grafos con información parcial sobre el entorno de búsqueda."
      ],
      "metadata": {
        "id": "B3K2OwdVr8SN"
      }
    },
    {
      "cell_type": "code",
      "execution_count": null,
      "metadata": {
        "colab": {
          "base_uri": "https://localhost:8080/"
        },
        "id": "NpL3tvQHrjpa",
        "outputId": "97bc5ac3-728b-424a-9949-75af9f690bae"
      },
      "outputs": [
        {
          "output_type": "stream",
          "name": "stdout",
          "text": [
            "El camino más corto es: ['A', 'B', 'D']\n"
          ]
        }
      ],
      "source": [
        "import heapq\n",
        "\n",
        "class Nodo:\n",
        "    def __init__(self, nombre, x, y):\n",
        "        self.nombre = nombre\n",
        "        self.x = x\n",
        "        self.y = y\n",
        "        self.vecinos = []\n",
        "        self.g = float('inf')\n",
        "        self.h = 0\n",
        "        self.f = 0\n",
        "        self.padre = None\n",
        "\n",
        "    def __lt__(self, otro):\n",
        "        return self.f < otro.f\n",
        "\n",
        "class Grafo:\n",
        "    def __init__(self):\n",
        "        self.nodos = {}\n",
        "\n",
        "    def agregar_nodo(self, nodo):\n",
        "        self.nodos[nodo.nombre] = nodo\n",
        "\n",
        "    def agregar_arista(self, inicio, fin, costo):\n",
        "        self.nodos[inicio].vecinos.append((self.nodos[fin], costo))\n",
        "\n",
        "    def a_estrella(self, inicio_nombre, fin_nombre):\n",
        "        if inicio_nombre not in self.nodos or fin_nombre not in self.nodos:\n",
        "            return None\n",
        "\n",
        "        inicio = self.nodos[inicio_nombre]\n",
        "        fin = self.nodos[fin_nombre]\n",
        "\n",
        "        inicio.g = 0\n",
        "        inicio.h = self.heuristica(inicio, fin)\n",
        "        inicio.f = inicio.h\n",
        "\n",
        "        lista_abierta = [inicio]\n",
        "        heapq.heapify(lista_abierta)\n",
        "\n",
        "        while lista_abierta:\n",
        "            actual = heapq.heappop(lista_abierta)\n",
        "\n",
        "            if actual == fin:\n",
        "                camino = []\n",
        "                while actual:\n",
        "                    camino.append(actual.nombre)\n",
        "                    actual = actual.padre\n",
        "                return camino[::-1]\n",
        "\n",
        "            for vecino, costo in actual.vecinos:\n",
        "                nuevo_g = actual.g + costo\n",
        "                if nuevo_g < vecino.g:\n",
        "                    vecino.padre = actual\n",
        "                    vecino.g = nuevo_g\n",
        "                    vecino.h = self.heuristica(vecino, fin)\n",
        "                    vecino.f = vecino.g + vecino.h\n",
        "                    heapq.heappush(lista_abierta, vecino)\n",
        "\n",
        "        return None\n",
        "\n",
        "    def heuristica(self, nodo_a, nodo_b):\n",
        "        return abs(nodo_a.x - nodo_b.x) + abs(nodo_a.y - nodo_b.y)\n",
        "\n",
        "# Ejemplo de uso\n",
        "if __name__ == \"__main__\":\n",
        "    grafo = Grafo()\n",
        "\n",
        "    # Agregar nodos\n",
        "    grafo.agregar_nodo(Nodo('A', 0, 0))\n",
        "    grafo.agregar_nodo(Nodo('B', 1, 2))\n",
        "    grafo.agregar_nodo(Nodo('C', 2, 1))\n",
        "    grafo.agregar_nodo(Nodo('D', 3, 3))\n",
        "\n",
        "    # Agregar aristas\n",
        "    grafo.agregar_arista('A', 'B', 1)\n",
        "    grafo.agregar_arista('A', 'C', 2)\n",
        "    grafo.agregar_arista('B', 'D', 3)\n",
        "    grafo.agregar_arista('C', 'D', 2)\n",
        "\n",
        "    camino = grafo.a_estrella('A', 'D')\n",
        "    if camino:\n",
        "        print(\"El camino más corto es:\", camino)\n",
        "    else:\n",
        "        print(\"No se encontró un camino.\")\n"
      ]
    },
    {
      "cell_type": "markdown",
      "source": [
        "Esta implementación define dos clases, Nodo y Grafo, para representar los elementos del grafo y realizar el algoritmo A. La función a_estrella es la implementación principal del algoritmo A. En este ejemplo, se crea un grafo simple con cuatro nodos y se encuentra el camino más corto entre dos nodos específicos. La heurística utilizada en este ejemplo es la distancia de Manhattan."
      ],
      "metadata": {
        "id": "kgFjVO9JzUlZ"
      }
    },
    {
      "cell_type": "code",
      "source": [
        "import heapq\n",
        "\n",
        "class Nodo:\n",
        "    def __init__(self, estado, g=0, h=0):\n",
        "        self.estado = estado\n",
        "        self.g = g  # Costo real desde el nodo inicial hasta este nodo\n",
        "        self.h = h  # Costo heurístico desde este nodo hasta el nodo objetivo\n",
        "        self.f = g + h  # Costo total del camino desde el nodo inicial hasta el objetivo\n",
        "        self.padre = None # Initialize the padre attribute\n",
        "\n",
        "    def __lt__(self, otro):\n",
        "        return self.f < otro.f\n",
        "\n",
        "class Grafo:\n",
        "    def __init__(self):\n",
        "        self.vecinos = {}\n",
        "\n",
        "    def agregar_arista(self, inicio, fin, costo):\n",
        "        if inicio not in self.vecinos:\n",
        "            self.vecinos[inicio] = []\n",
        "        self.vecinos[inicio].append((fin, costo))\n",
        "\n",
        "    def a_estrella(self, inicio, objetivo, heuristica):\n",
        "        lista_abierta = []\n",
        "        heapq.heappush(lista_abierta, inicio)\n",
        "\n",
        "        while lista_abierta:\n",
        "            actual = heapq.heappop(lista_abierta)\n",
        "\n",
        "            if actual.estado == objetivo:\n",
        "                camino = []\n",
        "                while actual:\n",
        "                    camino.append(actual.estado)\n",
        "                    actual = actual.padre\n",
        "                return camino[::-1]\n",
        "\n",
        "            for vecino, costo in self.vecinos.get(actual.estado, []):\n",
        "                nuevo_g = actual.g + costo\n",
        "                nuevo_h = heuristica(vecino, objetivo)\n",
        "                nuevo_f = nuevo_g + nuevo_h\n",
        "\n",
        "                sucesor = Nodo(vecino, nuevo_g, nuevo_h)\n",
        "                sucesor.padre = actual\n",
        "\n",
        "                heapq.heappush(lista_abierta, sucesor)\n",
        "\n",
        "        return None\n",
        "\n",
        "# Función de heurística: distancia Manhattan\n",
        "def heuristica_manhattan(nodo_actual, objetivo):\n",
        "    x1, y1 = nodo_actual\n",
        "    x2, y2 = objetivo\n",
        "    return abs(x1 - x2) + abs(y1 - y2)\n",
        "\n",
        "# Ejemplo de uso\n",
        "if __name__ == \"__main__\":\n",
        "    grafo = Grafo()\n",
        "    grafo.agregar_arista((0, 0), (1, 0), 1)\n",
        "    grafo.agregar_arista((1, 0), (1, 1), 1)\n",
        "    grafo.agregar_arista((1, 1), (2, 1), 1)\n",
        "    grafo.agregar_arista((2, 1), (2, 2), 1)\n",
        "    grafo.agregar_arista((2, 2), (3, 2), 1)\n",
        "    grafo.agregar_arista((3, 2), (3, 3), 1)\n",
        "    grafo.agregar_arista((3, 3), (4, 3), 1)\n",
        "\n",
        "    inicio = Nodo((0, 0))\n",
        "    objetivo = (4, 3)\n",
        "\n",
        "    camino = grafo.a_estrella(inicio, objetivo, heuristica_manhattan)\n",
        "    if camino:\n",
        "        print(\"El camino más corto es:\", camino)\n",
        "    else:\n",
        "        print(\"No se encontró un camino.\")\n"
      ],
      "metadata": {
        "colab": {
          "base_uri": "https://localhost:8080/"
        },
        "id": "efvi07aEzT28",
        "outputId": "4c21cfd6-6940-4c3e-e639-481f5721b074"
      },
      "execution_count": null,
      "outputs": [
        {
          "output_type": "stream",
          "name": "stdout",
          "text": [
            "El camino más corto es: [(0, 0), (1, 0), (1, 1), (2, 1), (2, 2), (3, 2), (3, 3), (4, 3)]\n"
          ]
        }
      ]
    },
    {
      "cell_type": "markdown",
      "source": [
        "En este ejemplo, tenemos un grafo que representa un laberinto simple. Cada celda del laberinto se representa como un par de coordenadas (x, y). La función heuristica_manhattan calcula la distancia de Manhattan entre dos celdas del laberinto, que se utiliza como heurística en el algoritmo A. El algoritmo A se ejecuta para encontrar el camino más corto desde la celda inicial (0, 0) hasta la celda objetivo (4, 3)."
      ],
      "metadata": {
        "id": "_oEdoYOlYHls"
      }
    },
    {
      "cell_type": "markdown",
      "source": [
        "**A continuación, desarrollaremos un ejercicio tomando como referencia el algoritmo A***"
      ],
      "metadata": {
        "id": "F-Z9jb8QevJB"
      }
    },
    {
      "cell_type": "markdown",
      "source": [
        "**Ejercicio 1:**\n",
        "\n",
        "**Problema: En un juego de laberinto, un jugador desea encontrar el camino más corto desde la casilla de inicio hasta la casilla de salida.**\n",
        "\n",
        "El laberinto está representado por una cuadrícula de celdas, donde algunas celdas pueden estar bloqueadas (paredes) y otras son transitables.\n",
        "Cada celda tiene coordenadas (x, y).\n",
        "El jugador puede moverse en cuatro direcciones: arriba, abajo, izquierda y derecha.\n",
        "El costo de moverse de una celda a otra es 1.\n",
        "El jugador tiene información sobre la posición de la casilla de inicio y la casilla de salida.\n",
        "El objetivo es encontrar el camino más corto desde la casilla de inicio hasta la casilla de salida, evitando las celdas bloqueadas.\n",
        "Este problema se puede resolver utilizando el algoritmo A* con una heurística adecuada, como la distancia de Manhattan o la distancia euclidiana entre las celdas. El algoritmo A* encontrará el camino óptimo que minimiza la distancia total recorrida desde la casilla de inicio hasta la casilla de salida, evitando las celdas bloqueadas en el camino."
      ],
      "metadata": {
        "id": "pbqIg8XGYNFA"
      }
    },
    {
      "cell_type": "code",
      "source": [
        "import heapq\n",
        "\n",
        "# Definimos la clase Nodo para almacenar la información de cada celda\n",
        "\"\"\"Cada celda del laberinto se representa como un nodo que almacena sus coordenadas,\n",
        "el costo acumulado para llegar a ella, la heurística (estimación de la distancia al objetivo)\n",
        "y un puntero al nodo padre. \"\"\"\n",
        "class Nodo:\n",
        "    def __init__(self, x, y, costo, heuristica, padre=None):\n",
        "        self.x = x\n",
        "        self.y = y\n",
        "        self.costo = costo\n",
        "        self.heuristica = heuristica\n",
        "        self.padre = padre\n",
        "\n",
        "    def __lt__(self, other):\n",
        "        return (self.costo + self.heuristica) < (other.costo + other.heuristica)\n",
        "\n",
        "# Función para calcular la heurística (distancia de Manhattan)\n",
        "\"\"\"Calcula la distancia de Manhattan entre dos celdas,\n",
        "que es la suma de las diferencias absolutas de sus coordenadas. \"\"\"\n",
        "def heuristica(a, b):\n",
        "    return abs(a[0] - b[0]) + abs(a[1] - b[1])\n",
        "\n",
        "# Función para obtener los vecinos de una celda\n",
        "\"\"\"Genera las celdas adyacentes que son transitables (no bloqueadas)\n",
        "y están dentro de los límites del laberinto. \"\"\"\n",
        "def obtener_vecinos(laberinto, nodo):\n",
        "    vecinos = []\n",
        "    direcciones = [(0, 1), (1, 0), (0, -1), (-1, 0)]\n",
        "    for d in direcciones:\n",
        "        x, y = nodo.x + d[0], nodo.y + d[1]\n",
        "        if 0 <= x < len(laberinto) and 0 <= y < len(laberinto[0]) and laberinto[x][y] == 0:\n",
        "            vecinos.append((x, y))\n",
        "    return vecinos\n",
        "\n",
        "# Función principal del algoritmo A*\n",
        "\"\"\"Inicializa el nodo de inicio y el nodo de fin.\n",
        "Usa una lista abierta (open list) para almacenar los nodos que se van a evaluar y una lista cerrada (closed list) para los nodos ya evaluados.\n",
        "Extrae el nodo con el menor costo total (costo acumulado + heurística) de la lista abierta.\n",
        "Si el nodo actual es el nodo de fin, reconstruye el camino desde el nodo de fin hasta el nodo de inicio siguiendo los punteros a los nodos padres.\n",
        "Genera los vecinos del nodo actual y los añade a la lista abierta si no han sido evaluados.\"\"\"\n",
        "def a_estrella(laberinto, inicio, fin):\n",
        "    inicio_nodo = Nodo(inicio[0], inicio[1], 0, heuristica(inicio, fin))\n",
        "    fin_nodo = Nodo(fin[0], fin[1], 0, 0)\n",
        "    open_list = []\n",
        "    closed_list = set()\n",
        "    heapq.heappush(open_list, inicio_nodo)\n",
        "\n",
        "    while open_list:\n",
        "        nodo_actual = heapq.heappop(open_list)\n",
        "        closed_list.add((nodo_actual.x, nodo_actual.y))\n",
        "\n",
        "        if (nodo_actual.x, nodo_actual.y) == (fin_nodo.x, fin_nodo.y):\n",
        "            camino = []\n",
        "            while nodo_actual:\n",
        "                camino.append((nodo_actual.x, nodo_actual.y))\n",
        "                nodo_actual = nodo_actual.padre\n",
        "            return camino[::-1]\n",
        "\n",
        "        vecinos = obtener_vecinos(laberinto, nodo_actual)\n",
        "        for vecino in vecinos:\n",
        "            if vecino in closed_list:\n",
        "                continue\n",
        "            vecino_nodo = Nodo(vecino[0], vecino[1], nodo_actual.costo + 1, heuristica(vecino, fin), nodo_actual)\n",
        "            heapq.heappush(open_list, vecino_nodo)\n",
        "\n",
        "    return None\n",
        "\n",
        "# Ejemplo de uso\n",
        "\"\"\"Define un laberinto, las coordenadas de inicio y fin, y llama a la función a_estrella para encontrar el camino más corto.\"\"\"\n",
        "laberinto = [\n",
        "    [0, 1, 0, 0, 0],\n",
        "    [0, 1, 0, 1, 0],\n",
        "    [0, 0, 0, 1, 0],\n",
        "    [1, 1, 1, 1, 0],\n",
        "    [0, 0, 0, 0, 0]\n",
        "]\n",
        "inicio = (0, 0)\n",
        "fin = (4, 4)\n",
        "\n",
        "camino = a_estrella(laberinto, inicio, fin)\n",
        "print(\"Camino encontrado:\", camino)\n",
        "print(\"Costo total:\", len(camino) - 1)"
      ],
      "metadata": {
        "colab": {
          "base_uri": "https://localhost:8080/"
        },
        "id": "nz8nHFijYXz4",
        "outputId": "3933df9d-2eef-4239-8e77-57bf7a50471d"
      },
      "execution_count": null,
      "outputs": [
        {
          "output_type": "stream",
          "name": "stdout",
          "text": [
            "Camino encontrado: [(0, 0), (1, 0), (2, 0), (2, 1), (2, 2), (1, 2), (0, 2), (0, 3), (0, 4), (1, 4), (2, 4), (3, 4), (4, 4)]\n",
            "Costo total: 12\n"
          ]
        }
      ]
    },
    {
      "cell_type": "markdown",
      "source": [
        "**Algoritmo KP**\n",
        "\n",
        "**Tomado del del bootcamp de Inteligencia Artificial de la Universidad Sergio Arboleda**"
      ],
      "metadata": {
        "id": "LwbsuCW_8Yj_"
      }
    },
    {
      "cell_type": "code",
      "source": [
        "\n",
        "#KP por combinaciones\n",
        "import itertools\n",
        "from itertools import product\n",
        "import time\n",
        "\n",
        "# Establecer los índices de la matriz de datos\n",
        "# 0 = nombre, 1 = peso, 2 = valor, 3 = fitness\n",
        "KNAPSACK_WEIGHT_INDEX = 1\n",
        "KNAPSACK_VALUE_INDEX = 2\n",
        "KNAPSACK_FITNESS_INDEX = 3\n",
        "\n",
        "# Pequeño conjunto de datos\n",
        "knapsack_items = [\n",
        "    ['Pearls', 3, 4],\n",
        "    ['Gold', 7, 7],\n",
        "    ['Crown', 4, 5],\n",
        "    ['Coin', 1, 1],\n",
        "    ['Axe', 5, 4],\n",
        "    ['Sword', 4, 3],\n",
        "    ['Ring', 2, 5],\n",
        "    ['Cup', 3, 1],\n",
        "]\n",
        "\n",
        "# Gran conjunto de datos\n",
        "# knapsack_items = [\n",
        "#     ['Axe', 32252, 68674],\n",
        "#     ['Bronze coin', 225790, 471010],\n",
        "#     ['Crown', 468164, 944620],\n",
        "#     ['Diamond statue', 489494, 962094],\n",
        "#     ['Emerald belt', 35384, 78344],\n",
        "#     ['Fossil', 265590, 579152],\n",
        "#     ['Gold coin', 497911, 902698],\n",
        "#     ['Helmet', 800493, 1686515],\n",
        "#     ['Ink', 823576, 1688691],\n",
        "#     ['Jewel box', 552202, 1056157],\n",
        "#     ['Knife', 323618, 677562],\n",
        "#     ['Long sword', 382846, 833132],\n",
        "#     ['Mask', 44676, 99192],\n",
        "#     ['Necklace', 169738, 376418],\n",
        "#     ['Opal badge', 610876, 1253986],\n",
        "#     ['Pearls', 854190, 1853562],\n",
        "#     ['Quiver', 671123, 1320297],\n",
        "#     ['Ruby ring', 698180, 1301637],\n",
        "#     ['Silver bracelet', 446517, 859835],\n",
        "#     ['Timepiece', 909620, 1677534],\n",
        "#     ['Uniform', 904818, 1910501],\n",
        "#     ['Venom potion', 730061, 1528646],\n",
        "#     ['Wool scarf', 931932, 1827477],\n",
        "#     ['Cross bow', 952360, 2068204],\n",
        "#     ['Yesteryear book', 926023, 1746556],\n",
        "#     ['Zinc cup', 978724, 2100851, 0]\n",
        "# ]\n",
        "\n",
        "\n",
        "# Obtener todas las combinaciones posibles de elementos. Esto es exhaustivo y computacionalmente caro.\n",
        "def get_all_combinations(items):\n",
        "    combinations = []\n",
        "    for index in range(0, len(items)):\n",
        "        combinations.append(items[index])\n",
        "        possibilities = [list(x) for x in itertools.combinations(items, index)]\n",
        "        combinations.append(possibilities)\n",
        "    return combinations\n",
        "\n",
        "\n",
        "# Calcular la aptitud de los elementos seleccionados dado un peso máximo\n",
        "def calculate_individual_fitness(solution, maximum_weight):\n",
        "    total_weight = 0\n",
        "    total_value = 0\n",
        "    # Obtenga los valores y el peso de cada elemento marcado con un 1\n",
        "    for item_index in range(0, len(solution)):\n",
        "        item = solution[item_index]\n",
        "        if item == 1:\n",
        "            total_weight += knapsack_items[item_index][KNAPSACK_WEIGHT_INDEX]\n",
        "            total_value += knapsack_items[item_index][KNAPSACK_VALUE_INDEX]\n",
        "    # Aptitud cero si se viola la restricción de peso\n",
        "    if total_weight > maximum_weight:\n",
        "        return 0\n",
        "    return total_value\n",
        "\n",
        "\n",
        "# Ejecutar el algoritmo de fuerza bruta\n",
        "def run_brute_force():\n",
        "    bit_string_size = 8\n",
        "    best_score = 0\n",
        "    best_individual = []\n",
        "    knapsack_max_capacity = 10\n",
        "    print('Número de combinaciones: ', 2**bit_string_size)\n",
        "    iteration = 0\n",
        "    for i in product([0, 1], repeat=bit_string_size):\n",
        "        current = calculate_individual_fitness(i, knapsack_max_capacity)\n",
        "        if current > best_score:\n",
        "            best_score = current\n",
        "            best_individual = i\n",
        "            print('Iteración: ', iteration)\n",
        "            print('Mejor puntuación: ', best_score)\n",
        "            print('Mejor individuol: ', best_individual)\n",
        "        iteration += 1\n",
        "\n",
        "    print(best_individual)\n",
        "\n",
        "\n",
        "# Execute the brute force approach and measure it's performance\n",
        "start_time = time.time()\n",
        "run_brute_force()\n",
        "end_time = time.time()\n",
        "total_time = end_time - start_time\n",
        "print('Tiempo total: ', total_time)"
      ],
      "metadata": {
        "colab": {
          "base_uri": "https://localhost:8080/"
        },
        "id": "ijI5rR-DakCz",
        "outputId": "236cef09-54e7-46d3-858a-90c981184b9f"
      },
      "execution_count": null,
      "outputs": [
        {
          "output_type": "stream",
          "name": "stdout",
          "text": [
            "Número de combinaciones:  256\n",
            "Iteración:  1\n",
            "Mejor puntuación:  1\n",
            "Mejor individuol:  (0, 0, 0, 0, 0, 0, 0, 1)\n",
            "Iteración:  2\n",
            "Mejor puntuación:  5\n",
            "Mejor individuol:  (0, 0, 0, 0, 0, 0, 1, 0)\n",
            "Iteración:  3\n",
            "Mejor puntuación:  6\n",
            "Mejor individuol:  (0, 0, 0, 0, 0, 0, 1, 1)\n",
            "Iteración:  6\n",
            "Mejor puntuación:  8\n",
            "Mejor individuol:  (0, 0, 0, 0, 0, 1, 1, 0)\n",
            "Iteración:  7\n",
            "Mejor puntuación:  9\n",
            "Mejor individuol:  (0, 0, 0, 0, 0, 1, 1, 1)\n",
            "Iteración:  11\n",
            "Mejor puntuación:  10\n",
            "Mejor individuol:  (0, 0, 0, 0, 1, 0, 1, 1)\n",
            "Iteración:  35\n",
            "Mejor puntuación:  11\n",
            "Mejor individuol:  (0, 0, 1, 0, 0, 0, 1, 1)\n",
            "Iteración:  38\n",
            "Mejor puntuación:  13\n",
            "Mejor individuol:  (0, 0, 1, 0, 0, 1, 1, 0)\n",
            "Iteración:  162\n",
            "Mejor puntuación:  14\n",
            "Mejor individuol:  (1, 0, 1, 0, 0, 0, 1, 0)\n",
            "Iteración:  178\n",
            "Mejor puntuación:  15\n",
            "Mejor individuol:  (1, 0, 1, 1, 0, 0, 1, 0)\n",
            "(1, 0, 1, 1, 0, 0, 1, 0)\n",
            "Tiempo total:  0.00723719596862793\n"
          ]
        }
      ]
    },
    {
      "cell_type": "markdown",
      "source": [
        "**Algoritmo de Bellman Ford**"
      ],
      "metadata": {
        "id": "Sy-b4Ro0Ugjx"
      }
    },
    {
      "cell_type": "markdown",
      "source": [
        "*Tomado del bootcamp de Inteligencia Artificial de la Universidad Sergio Arboleda*"
      ],
      "metadata": {
        "id": "GdO8HjwjUuJi"
      }
    },
    {
      "cell_type": "code",
      "source": [
        "#Crear la función del algoritmo de Bellman Ford\n",
        "\n",
        "def bellman_ford(grafo, origen):\n",
        "\n",
        "  distancias = {nodo: float('infinity') for nodo in grafo}\n",
        "  distancias[origen] = 0\n",
        "  predecesores = {nodo: None for nodo in grafo}\n",
        "\n",
        "  #Crear conexiones\n",
        "\n",
        "  conexiones = [(u,v,w) for u in grafo for v, w in grafo [u]]\n",
        "\n",
        "  for i in range(len(grafo)-1):\n",
        "    print(f\"Iteración {i+1}\")\n",
        "    for u, v, w in conexiones:\n",
        "      if distancias[u] + w < distancias[v]:\n",
        "        distancias[v] = distancias[u] + w\n",
        "        predecesores[v] = u\n",
        "\n",
        "      print(f\"Conexión ({u},{v},{w}) : Distancia = {distancias}\")\n",
        "\n",
        "    print(\"--------------------------------------------------------------\")\n",
        "\n",
        "  return distancias, predecesores\n"
      ],
      "metadata": {
        "id": "PCBh4MJ-8xj9"
      },
      "execution_count": 1,
      "outputs": []
    },
    {
      "cell_type": "code",
      "source": [
        "#Definir grafo\n",
        "\n",
        "grafo = {\n",
        "    'A': [('B',1),('C',4)],\n",
        "    'B': [('C',-3),('D',2)],\n",
        "    'C': [('D',3)],\n",
        "    'D': []\n",
        "}\n",
        "\n",
        "Nodo_origen = 'A'"
      ],
      "metadata": {
        "id": "aQ2HGpD8U-DX"
      },
      "execution_count": 2,
      "outputs": []
    },
    {
      "cell_type": "code",
      "source": [
        "# Ejecutar algoritmo\n",
        "\n",
        "distancias, predecesores = bellman_ford(grafo, Nodo_origen)\n",
        "\n",
        "print(\"Distancias finales: \", distancias)\n",
        "print(\"Predecesores: \", predecesores)\n",
        "\n",
        "print(f\"Distancias desde {Nodo_origen} : {distancias}\")\n",
        "print(f\"Predecesores desde {Nodo_origen} : {predecesores}\")"
      ],
      "metadata": {
        "colab": {
          "base_uri": "https://localhost:8080/"
        },
        "id": "so9aEA0CU-co",
        "outputId": "d27ebdfa-af81-45ee-8e60-88fa7ccb0c00"
      },
      "execution_count": 3,
      "outputs": [
        {
          "output_type": "stream",
          "name": "stdout",
          "text": [
            "Iteración 1\n",
            "Conexión (A,B,1) : Distancia = {'A': 0, 'B': 1, 'C': inf, 'D': inf}\n",
            "Conexión (A,C,4) : Distancia = {'A': 0, 'B': 1, 'C': 4, 'D': inf}\n",
            "Conexión (B,C,-3) : Distancia = {'A': 0, 'B': 1, 'C': -2, 'D': inf}\n",
            "Conexión (B,D,2) : Distancia = {'A': 0, 'B': 1, 'C': -2, 'D': 3}\n",
            "Conexión (C,D,3) : Distancia = {'A': 0, 'B': 1, 'C': -2, 'D': 1}\n",
            "--------------------------------------------------------------\n",
            "Iteración 2\n",
            "Conexión (A,B,1) : Distancia = {'A': 0, 'B': 1, 'C': -2, 'D': 1}\n",
            "Conexión (A,C,4) : Distancia = {'A': 0, 'B': 1, 'C': -2, 'D': 1}\n",
            "Conexión (B,C,-3) : Distancia = {'A': 0, 'B': 1, 'C': -2, 'D': 1}\n",
            "Conexión (B,D,2) : Distancia = {'A': 0, 'B': 1, 'C': -2, 'D': 1}\n",
            "Conexión (C,D,3) : Distancia = {'A': 0, 'B': 1, 'C': -2, 'D': 1}\n",
            "--------------------------------------------------------------\n",
            "Iteración 3\n",
            "Conexión (A,B,1) : Distancia = {'A': 0, 'B': 1, 'C': -2, 'D': 1}\n",
            "Conexión (A,C,4) : Distancia = {'A': 0, 'B': 1, 'C': -2, 'D': 1}\n",
            "Conexión (B,C,-3) : Distancia = {'A': 0, 'B': 1, 'C': -2, 'D': 1}\n",
            "Conexión (B,D,2) : Distancia = {'A': 0, 'B': 1, 'C': -2, 'D': 1}\n",
            "Conexión (C,D,3) : Distancia = {'A': 0, 'B': 1, 'C': -2, 'D': 1}\n",
            "--------------------------------------------------------------\n",
            "Distancias finales:  {'A': 0, 'B': 1, 'C': -2, 'D': 1}\n",
            "Predecesores:  {'A': None, 'B': 'A', 'C': 'B', 'D': 'C'}\n",
            "Distancias desde A : {'A': 0, 'B': 1, 'C': -2, 'D': 1}\n",
            "Predecesores desde A : {'A': None, 'B': 'A', 'C': 'B', 'D': 'C'}\n"
          ]
        }
      ]
    },
    {
      "cell_type": "markdown",
      "source": [
        "**Ejercicio 2**\n",
        "\n",
        "**Ejercicio de algoritomo de búsqueda**\n",
        "\n",
        "*En el grafo se ven las distancias, en millas, de las conexiones factibles que unen nueve pozos subterraneos de agua con un punto de entrega. Como la ubicación del pozo 1 es la más cercana al punto de entrega, tiene capacidad de bombeo y de almacenamiento suficiente para bombear la producción de los ocho pozos restantes hasta el punto de entrega. Determine la red mínima de tubería que une las bocas de los pozos con el punto de entrega.*"
      ],
      "metadata": {
        "id": "OSCR_Iu3ey6v"
      }
    },
    {
      "cell_type": "code",
      "source": [
        "pozos ={\n",
        "    \"1\": [(\"2\", 5), (\"3\", 9), (\"4\", 20), (\"5\", 4), (\"8\", 0.25), (\"9\", 15)],\n",
        "    \"2\": [(\"1\", 5), (\"3\", 6)],\n",
        "    \"3\": [(\"1\", 9), (\"2\", 6), (\"4\", 15), (\"5\", 10)],\n",
        "    \"4\": [(\"1\", 20), (\"3\", 15), (\"5\", 20), (\"6\", 7), (\"7\", 12)],\n",
        "    \"5\": [(\"1\", 4), (\"3\", 10), (\"4\", 20), (\"6\", 3), (\"7\", 5), (\"8\", 13), (\"9\", 6)],\n",
        "    \"6\": [(\"4\", 7), (\"5\", 3)],\n",
        "    \"7\": [(\"4\", 12), (\"5\", 5), (\"8\", 7)],\n",
        "    \"8\": [(\"1\", 0.25), (\"5\", 13), (\"7\", 7), (\"9\", 5)],\n",
        "    \"9\": [(\"1\", 15), (\"5\", 6), (\"8\", 5)]\n",
        "}\n",
        "\n",
        "import heapq\n",
        "\n",
        "origen = '1'\n",
        "\n",
        "distancias = {nodo: float('infinity') for nodo in pozos}\n",
        "distancias[origen] = 0\n",
        "cola = [(0, origen)]\n",
        "\n",
        "while cola:\n",
        "  acumulado_distancia, acumulado_nodo = heapq.heappop(cola)\n",
        "  if acumulado_distancia > distancias[acumulado_nodo]:\n",
        "    continue\n",
        "\n",
        "  for vecino, peso in pozos[acumulado_nodo]:\n",
        "    nueva_distancia = acumulado_distancia + peso\n",
        "    if nueva_distancia < distancias[vecino]:\n",
        "      distancias[vecino] = nueva_distancia\n",
        "      heapq.heappush(cola, (nueva_distancia, vecino))\n",
        "\n",
        "print(\"--\"*20)\n",
        "print(\"Red mínima de tubería que une las bocas \\nde los pozos con el punto de entrega:\")\n",
        "print(\"--\"*20)\n",
        "print(\"Pozo\\t\\tDistancia\")\n",
        "for nodo, distancia in distancias.items():\n",
        "  print(f\"{nodo}\\t\\t{distancia} millas\")\n",
        "\n",
        "suma = sum(distancias.values())\n",
        "print(f\"\\nEl total mímimo para la instalación de la red de tubería sera de: {suma} millas\")\n"
      ],
      "metadata": {
        "colab": {
          "base_uri": "https://localhost:8080/"
        },
        "id": "RDq4kxK7VAMp",
        "outputId": "cab2802f-53c2-4bcb-84c7-abcb69ac2076"
      },
      "execution_count": 4,
      "outputs": [
        {
          "output_type": "stream",
          "name": "stdout",
          "text": [
            "----------------------------------------\n",
            "Red mínima de tubería que une las bocas \n",
            "de los pozos con el punto de entrega:\n",
            "----------------------------------------\n",
            "Pozo\t\tDistancia\n",
            "1\t\t0 millas\n",
            "2\t\t5 millas\n",
            "3\t\t9 millas\n",
            "4\t\t14 millas\n",
            "5\t\t4 millas\n",
            "6\t\t7 millas\n",
            "7\t\t7.25 millas\n",
            "8\t\t0.25 millas\n",
            "9\t\t5.25 millas\n",
            "\n",
            "El total mímimo para la instalación de la red de tubería sera de: 51.75 millas\n"
          ]
        }
      ]
    },
    {
      "cell_type": "markdown",
      "source": [
        "**Ejercicio 3**\n",
        "\n",
        "**Ejercicio de algoritomo genético**"
      ],
      "metadata": {
        "id": "-SS21rsOfK2c"
      }
    },
    {
      "cell_type": "code",
      "source": [
        "# Importar librerías\n",
        "import numpy as np\n",
        "import matplotlib.pyplot as plt"
      ],
      "metadata": {
        "id": "BJCK9eV0e9yd"
      },
      "execution_count": 5,
      "outputs": []
    },
    {
      "cell_type": "code",
      "source": [
        "# Definir la función cuadrática a ajustar\n",
        "def funcion_cuadratica(x, coef):\n",
        "    a, b, c, d = coef\n",
        "    return a * x**2 + b * x + c"
      ],
      "metadata": {
        "id": "eNGpRFJ6fQJ1"
      },
      "execution_count": 6,
      "outputs": []
    },
    {
      "cell_type": "code",
      "source": [
        "# Generar un conjunto de datos de ejemplo\n",
        "def generar_datos_ejemplo(n=100):\n",
        "    x = np.linspace(-10, 10, n)\n",
        "    y = 2*x**2 + 3*x + 5 + np.random.normal(0, 5, n)  # y = 2x^2 + 3x + 5 con ruido\n",
        "    return x, y"
      ],
      "metadata": {
        "id": "Uo8y328KfRTs"
      },
      "execution_count": 7,
      "outputs": []
    },
    {
      "cell_type": "code",
      "source": [
        "# Evaluar individuos generados\n",
        "def evaluar_individuo(poblacion, x, y):\n",
        "    errores = np.zeros(poblacion.shape[0])\n",
        "    for i, coef in enumerate(poblacion):\n",
        "        y_pred = funcion_cuadratica(x, coef)\n",
        "        errores[i] = np.sum((y - y_pred) ** 2)  # Error cuadrático\n",
        "    return errores"
      ],
      "metadata": {
        "id": "Du0RjyBxfSZQ"
      },
      "execution_count": 8,
      "outputs": []
    },
    {
      "cell_type": "code",
      "source": [
        "# Crear población inicial\n",
        "def crear_poblacion_inicial(size, bounds):\n",
        "    return np.random.uniform(bounds[0], bounds[1], size)"
      ],
      "metadata": {
        "id": "DV9t6VwmfT6C"
      },
      "execution_count": 9,
      "outputs": []
    },
    {
      "cell_type": "code",
      "source": [
        "# Seleccionar los mejores individuos\n",
        "def seleccion_padres(poblacion, evaluacion, cantidad):\n",
        "    padres = np.empty((cantidad, poblacion.shape[1]))\n",
        "    for i in range(cantidad):\n",
        "        min_error_idx = np.argmin(evaluacion)\n",
        "        padres[i, :] = poblacion[min_error_idx, :]\n",
        "        evaluacion[min_error_idx] = np.inf  # Para evitar seleccionar el mismo individuo\n",
        "    return padres"
      ],
      "metadata": {
        "id": "FnlgtnXJfVHn"
      },
      "execution_count": 10,
      "outputs": []
    },
    {
      "cell_type": "code",
      "source": [
        "# Cruce de padres\n",
        "def cruce(padres, num_hijos):\n",
        "    hijos = np.empty((num_hijos, padres.shape[1]))\n",
        "    punto_cruce = np.uint8(padres.shape[1] / 2)\n",
        "\n",
        "    for i in range(num_hijos):\n",
        "        padre1_idx = i % padres.shape[0]\n",
        "        padre2_idx = (i + 1) % padres.shape[0]\n",
        "        hijos[i, 0:punto_cruce] = padres[padre1_idx, 0:punto_cruce]\n",
        "        hijos[i, punto_cruce:] = padres[padre2_idx, punto_cruce:]\n",
        "    return hijos"
      ],
      "metadata": {
        "id": "UI1rSPkvfWXr"
      },
      "execution_count": 11,
      "outputs": []
    },
    {
      "cell_type": "code",
      "source": [
        "# Mutación\n",
        "def mutacion(hijos, tasa_mutacion, bounds):\n",
        "    for i in range(hijos.shape[0]):\n",
        "        if np.random.rand() < tasa_mutacion:\n",
        "            random_value = np.random.uniform(bounds[0], bounds[1], 1)\n",
        "            gene_to_mutate = np.random.randint(0, hijos.shape[1])\n",
        "            hijos[i, gene_to_mutate] += random_value\n",
        "    return hijos"
      ],
      "metadata": {
        "id": "TcBkC6zMfYDy"
      },
      "execution_count": 12,
      "outputs": []
    },
    {
      "cell_type": "code",
      "source": [
        "# Definir parámetros de funcionamiento del algoritmo genético\n",
        "num_generaciones = 10\n",
        "tamano_poblacion = 50\n",
        "num_padres = 10\n",
        "num_genes = 4\n",
        "bounds = [-10.0, 10.0]\n",
        "tasa_mutacion = 0.1\n",
        "\n",
        "# Generar datos de ejemplo\n",
        "x, y = generar_datos_ejemplo()\n",
        "\n",
        "# Crear población inicial\n",
        "poblacion = crear_poblacion_inicial((tamano_poblacion, num_genes), bounds)\n",
        "\n",
        "# Algoritmo genético\n",
        "for generacion in range(num_generaciones):\n",
        "    evaluacion = evaluar_individuo(poblacion, x, y)\n",
        "    padres = seleccion_padres(poblacion, evaluacion, num_padres)\n",
        "    hijos = cruce(padres, tamano_poblacion - padres.shape[0])\n",
        "    hijos = mutacion(hijos, tasa_mutacion, bounds)\n",
        "\n",
        "    # Crear nuevas poblaciones a partir de los nuevos padres\n",
        "    poblacion[0:padres.shape[0], :] = padres\n",
        "    poblacion[padres.shape[0]:, :] = hijos\n",
        "\n",
        "    # Obtener mejor resultado\n",
        "    mejor_error = np.min(evaluacion)\n",
        "    print(f\"Mejor resultado en generación {generacion}: {mejor_error:.2f}\")\n",
        "\n",
        "# Resultados finales\n",
        "mejor_idx = np.argmin(evaluacion)\n",
        "mejor_coef = poblacion[mejor_idx, :]\n",
        "print(\"--\"*42)\n",
        "print(\"Resultados finales:\")\n",
        "print(f\"\\nMejor solución:\\n a={mejor_coef[0]}, b={mejor_coef[1]}, c={mejor_coef[2]}, d={mejor_coef[3]}\")\n",
        "print(\"\\nValor óptimo de la función cuadrática: \\n\", funcion_cuadratica(x, mejor_coef))\n",
        "\n",
        "# Graficar resultados\n",
        "plt.scatter(x, y, label='Datos reales')\n",
        "plt.plot(x, funcion_cuadratica(x, mejor_coef), color='red', label='Mejor ajuste')\n",
        "plt.legend()\n",
        "plt.show()"
      ],
      "metadata": {
        "colab": {
          "base_uri": "https://localhost:8080/",
          "height": 1000
        },
        "id": "qqkVfXIcfZZU",
        "outputId": "194e5c13-3a9f-4676-fc6e-959b471a3ea4"
      },
      "execution_count": 13,
      "outputs": [
        {
          "output_type": "stream",
          "name": "stderr",
          "text": [
            "<ipython-input-12-5eb49d93ce85>:7: DeprecationWarning: Conversion of an array with ndim > 0 to a scalar is deprecated, and will error in future. Ensure you extract a single element from your array before performing this operation. (Deprecated NumPy 1.25.)\n",
            "  hijos[i, gene_to_mutate] += random_value\n"
          ]
        },
        {
          "output_type": "stream",
          "name": "stdout",
          "text": [
            "Mejor resultado en generación 0: 928870.27\n",
            "Mejor resultado en generación 1: 70745.21\n",
            "Mejor resultado en generación 2: 23666.61\n",
            "Mejor resultado en generación 3: 23666.61\n",
            "Mejor resultado en generación 4: 23666.61\n",
            "Mejor resultado en generación 5: 16262.77\n",
            "Mejor resultado en generación 6: 10349.91\n",
            "Mejor resultado en generación 7: 10349.91\n",
            "Mejor resultado en generación 8: 10349.91\n",
            "Mejor resultado en generación 9: 10349.91\n",
            "------------------------------------------------------------------------------------\n",
            "Resultados finales:\n",
            "\n",
            "Mejor solución:\n",
            " a=1.8324316631377755, b=4.352497083326906, c=10.207766397020889, d=16.800455251236624\n",
            "\n",
            "Valor óptimo de la función cuadrática: \n",
            " [149.92596188 143.47627542 137.17615996 131.02561549 125.02464202\n",
            " 119.17323955 113.47140807 107.91914759 102.5164581   97.26333961\n",
            "  92.15979212  87.20581562  82.40141011  77.74657561  73.2413121\n",
            "  68.88561958  64.67949806  60.62294754  56.71596801  52.95855948\n",
            "  49.35072194  45.8924554   42.58375986  39.42463531  36.41508176\n",
            "  33.5550992   30.84468764  28.28384707  25.87257751  23.61087893\n",
            "  21.49875136  19.53619477  17.72320919  16.0597946   14.545951\n",
            "  13.18167841  11.9669768   10.9018462    9.98628659   9.22029797\n",
            "   8.60388035   8.13703373   7.81975811   7.65205347   7.63391984\n",
            "   7.7653572    8.04636556   8.47694491   9.05709526   9.7868166\n",
            "  10.66610894  11.69497228  12.87340661  14.20141194  15.67898826\n",
            "  17.30613558  19.0828539   21.00914321  23.08500351  25.31043482\n",
            "  27.68543711  30.21001041  32.8841547   35.70786999  38.68115627\n",
            "  41.80401355  45.07644182  48.49844109  52.07001136  55.79115262\n",
            "  59.66186488  63.68214813  67.85200238  72.17142762  76.64042386\n",
            "  81.2589911   86.02712933  90.94483856  96.01211879 101.22897001\n",
            " 106.59539222 112.11138543 117.77694964 123.59208485 129.55679105\n",
            " 135.67106824 141.93491643 148.34833562 154.9113258  161.62388698\n",
            " 168.48601916 175.49772233 182.65899649 189.96984166 197.43025781\n",
            " 205.04024497 212.79980312 220.70893226 228.76763241 236.97590354]\n"
          ]
        },
        {
          "output_type": "display_data",
          "data": {
            "text/plain": [
              "<Figure size 640x480 with 1 Axes>"
            ],
            "image/png": "[encoded data removed]"
          },
          "metadata": {}
        }
      ]
    },
    {
      "cell_type": "code",
      "source": [],
      "metadata": {
        "id": "KKw60pM7fdV1"
      },
      "execution_count": null,
      "outputs": []
    }
  ]
}