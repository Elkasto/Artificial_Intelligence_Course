{
  "nbformat": 4,
  "nbformat_minor": 0,
  "metadata": {
    "colab": {
      "provenance": []
    },
    "kernelspec": {
      "name": "python3",
      "display_name": "Python 3"
    },
    "language_info": {
      "name": "python"
    }
  },
  "cells": [
    {
      "cell_type": "markdown",
      "source": [
        "**Manejo de string**"
      ],
      "metadata": {
        "id": "GTEosEJBwji6"
      }
    },
    {
      "cell_type": "markdown",
      "source": [
        "**Ejercicio 1:** *Escriba una función que indique si una frase es palíndroma. Una frase es palíndroma si se lee igual de derecha a izquierda que de izquierda a derecha, pero obviando los espacios en blanco y los signos de puntuación. Por ejemplo, las cadenas: \"Sé verla al revés\", \"Anita lava la tina\", \"luz azul\" contienen frases palíndromas.*"
      ],
      "metadata": {
        "id": "cCXXqRzhwfx8"
      }
    },
    {
      "cell_type": "code",
      "source": [
        "frase_1 = \"Sé verla al revés\"\n",
        "frase_2 = \"Anita lava la tina\"\n",
        "frase_3 = \"luz azul\"\n",
        "frase_4 = \"esta no es palindromo\"\n",
        "\n",
        "def palindromo(frase):\n",
        "  frase = frase.replace(\" \", \"\").lower()\n",
        "  if frase == frase[::-1]:\n",
        "    return True\n",
        "  else:\n",
        "    return False\n",
        "\n",
        "print(palindromo(frase_1))\n",
        "print(palindromo(frase_2))\n",
        "print(palindromo(frase_3))\n",
        "print(palindromo(frase_4))\n",
        "print(frase_1[::-1])\n",
        "print(frase_2[::-1])\n",
        "print(frase_3[::-1])\n",
        "print(frase_4[::-1])"
      ],
      "metadata": {
        "colab": {
          "base_uri": "https://localhost:8080/"
        },
        "id": "rZMMrqi-wiBh",
        "outputId": "590a69ce-7f70-4d94-e660-7a2d71a26caf"
      },
      "execution_count": null,
      "outputs": [
        {
          "output_type": "stream",
          "name": "stdout",
          "text": [
            "True\n",
            "True\n",
            "True\n",
            "False\n",
            "séver la alrev éS\n",
            "anit al aval atinA\n",
            "luza zul\n",
            "omordnilap se on atse\n"
          ]
        }
      ]
    },
    {
      "cell_type": "markdown",
      "source": [
        "**Ejercicio 2:** *Realizar un programa que comprueba si una cadena leída por teclado comienza por una subcadena introducida por teclado.*"
      ],
      "metadata": {
        "id": "Wo7D5PGqzYgW"
      }
    },
    {
      "cell_type": "code",
      "source": [
        "cadena_1 = \"Hola mundo\"\n",
        "subcadena_1 = input(\"Ingrese una palabra (puede ser 'hola') : \")\n",
        "subcadena_1 = subcadena_1.capitalize()\n",
        "if subcadena_1 in cadena_1:\n",
        "  print(\"La subcadena comienza por la cadena\")\n",
        "else:\n",
        "  print(\"La subcadena no comienza por la cadena\")"
      ],
      "metadata": {
        "colab": {
          "base_uri": "https://localhost:8080/"
        },
        "id": "9qi652LixmsU",
        "outputId": "5328333d-1f20-4b57-c419-9528a9ff45dd"
      },
      "execution_count": null,
      "outputs": [
        {
          "output_type": "stream",
          "name": "stdout",
          "text": [
            "Ingrese una palabra (puede ser 'hola') : HOLA\n",
            "La subcadena comienza por la cadena\n"
          ]
        }
      ]
    },
    {
      "cell_type": "markdown",
      "source": [
        "**Ejercicio 3:** *Pide una cadena y un carácter por teclado (valida que sea un carácter) y muestra cuantas veces aparece el carácter en la cadena.*"
      ],
      "metadata": {
        "id": "tCsHmjEm0mn8"
      }
    },
    {
      "cell_type": "code",
      "source": [
        "cadena_1 = input(\"Ingrese una oración : \")\n",
        "caracter_1 = input(\"Ingrese una letra : \")\n",
        "while not caracter_1.isalpha() or not len(caracter_1) == 1:\n",
        "  print(f\"Ingreso {len(caracter_1)} caracteres\")\n",
        "  caracter_1 = input(\"Ingrese un caracter : \")\n",
        "if caracter_1 in cadena_1:\n",
        "  print(cadena_1.count(caracter_1))\n",
        "else:\n",
        "  print(\"El caracter no se encuentra en la cadena\")"
      ],
      "metadata": {
        "colab": {
          "base_uri": "https://localhost:8080/"
        },
        "id": "Puy0yYVUzsuv",
        "outputId": "feb4fcf5-1bd9-40fa-bec7-3a82d687219d"
      },
      "execution_count": null,
      "outputs": [
        {
          "output_type": "stream",
          "name": "stdout",
          "text": [
            "Ingrese una oración : el azuel\n",
            "Ingrese una letra : aa\n",
            "Ingreso 2 caracteres\n",
            "Ingrese un caracter : a\n",
            "1\n"
          ]
        }
      ]
    },
    {
      "cell_type": "markdown",
      "source": [
        "**Ejercicio 4:** *Suponiendo que hemos introducido una cadena por teclado que representa una frase (palabras separadas por espacios), realice un programa que cuente cuantas palabras tiene.*"
      ],
      "metadata": {
        "id": "dNUVfol08BUH"
      }
    },
    {
      "cell_type": "code",
      "source": [
        "cadena_1 = input(\"Ingrese una frase : \")\n",
        "palabras = cadena_1.split(\" \")\n",
        "print(len(palabras))"
      ],
      "metadata": {
        "colab": {
          "base_uri": "https://localhost:8080/"
        },
        "id": "mwHV_b6U1K5_",
        "outputId": "68a50637-f3fe-4a1a-ef9f-15a215cc65d7"
      },
      "execution_count": null,
      "outputs": [
        {
          "output_type": "stream",
          "name": "stdout",
          "text": [
            "Ingrese una frase : el agua es azul\n",
            "4\n"
          ]
        }
      ]
    },
    {
      "cell_type": "markdown",
      "source": [
        "**Ejercicio 5:** *Pide una cadena y dos carácteres por teclado (valida que sea un carácter), sustituye la aparición del primer carácter en la cadena por el segundo carácter.*"
      ],
      "metadata": {
        "id": "CrWWYLSW8hxt"
      }
    },
    {
      "cell_type": "code",
      "source": [
        "cadena_1 = input(\"Ingrese una frase : \")\n",
        "caracter_1 = input(\"Ingrese un caracter : \")\n",
        "caracter_2 = input(\"Ingrese un caracter : \")\n",
        "\n",
        "while not caracter_1.isalpha() or not len(caracter_1) == 1 or not caracter_2.isalpha() or not len(caracter_2) == 1:\n",
        "  print(f\"Ingreso {len(caracter_1)} caracteres para el carácter 1 y {len(caracter_2)} para el carácter 2\")\n",
        "  caracter_1 = input(\"Ingrese un caracter : \")\n",
        "  caracter_2 = input(\"Ingrese un caracter : \")\n",
        "\n",
        "print(cadena_1.replace(caracter_1, caracter_2))"
      ],
      "metadata": {
        "colab": {
          "base_uri": "https://localhost:8080/"
        },
        "id": "269zBqdp8bYs",
        "outputId": "9698dd1f-1b13-45a4-dc93-8a05add8a02b"
      },
      "execution_count": null,
      "outputs": [
        {
          "output_type": "stream",
          "name": "stdout",
          "text": [
            "Ingrese una frase : hahahah haha jhajja\n",
            "Ingrese un caracter : aa\n",
            "Ingrese un caracter : aaa\n",
            "Ingreso 2 caracteres para el carácter 1 y 3 para el carácter 2\n",
            "Ingrese un caracter : aa\n",
            "Ingrese un caracter : sss\n",
            "Ingreso 2 caracteres para el carácter 1 y 3 para el carácter 2\n",
            "Ingrese un caracter : a\n",
            "Ingrese un caracter : ss\n",
            "Ingreso 1 caracteres para el carácter 1 y 2 para el carácter 2\n",
            "Ingrese un caracter : s\n",
            "Ingrese un caracter : ss\n",
            "Ingreso 1 caracteres para el carácter 1 y 2 para el carácter 2\n",
            "Ingrese un caracter : s\n",
            "Ingrese un caracter : s\n",
            "hahahah haha jhajja\n"
          ]
        }
      ]
    },
    {
      "cell_type": "markdown",
      "source": [
        "**Cadenas**\n",
        "\n",
        "**Dando formato a Cadenas**\n",
        "\n",
        "**Tipos de Presentación**"
      ],
      "metadata": {
        "id": "2QWjTZke_pJZ"
      }
    },
    {
      "cell_type": "markdown",
      "source": [
        "**Ejercicio 6:** *Dale formato a 3.141592 a 3 decimales como cadena usando f'*"
      ],
      "metadata": {
        "id": "43v9d686_uYV"
      }
    },
    {
      "cell_type": "code",
      "source": [
        "f = 3.141592\n",
        "print(f\"El valor de pi es {f:.3f}\")"
      ],
      "metadata": {
        "id": "bZzL1ZaP9RBN",
        "colab": {
          "base_uri": "https://localhost:8080/"
        },
        "outputId": "c0981c71-c58f-4e53-e867-0a64102ad44e"
      },
      "execution_count": null,
      "outputs": [
        {
          "output_type": "stream",
          "name": "stdout",
          "text": [
            "El valor de pi es 3.142\n"
          ]
        }
      ]
    },
    {
      "cell_type": "markdown",
      "source": [
        "**Ejercicio 7:** *Enteros, con el tipo de presentación d*\n",
        "\n",
        "*Generador de Contraseñas:*\n",
        "\n",
        "*Desarrolla un programa que genere contraseñas aleatorias con un formato específico. La contraseña debe tener una longitud determinada y estar compuesta por una combinación de letras minúsculas y dígitos. El programa debe solicitar al usuario la longitud deseada para la contraseña y luego generar una contraseña aleatoria en formato de presentación con enteros.*"
      ],
      "metadata": {
        "id": "P6Hh48mMAYQb"
      }
    },
    {
      "cell_type": "code",
      "source": [
        "import random\n",
        "from random import randint\n",
        "\n",
        "longitud = int(input(\"Ingrese la longitud de la contraseña : \"))\n",
        "for i in range(longitud):\n",
        "  print(randint(0, 9), end=\"\")"
      ],
      "metadata": {
        "colab": {
          "base_uri": "https://localhost:8080/"
        },
        "id": "CAWkq9UmA9XY",
        "outputId": "0cbdd7d2-8d4c-41fc-e07a-231b02cc311d"
      },
      "execution_count": null,
      "outputs": [
        {
          "output_type": "stream",
          "name": "stdout",
          "text": [
            "Ingrese la longitud de la contraseña : 10\n",
            "5376657534"
          ]
        }
      ]
    },
    {
      "cell_type": "code",
      "source": [
        "import random\n",
        "from random import randint\n",
        "\n",
        "longitud = int(input(\"Ingrese la longitud de la contraseña : \"))\n",
        "for i in range(longitud):\n",
        "  print(chr(randint(97, 122)), end=\"\")"
      ],
      "metadata": {
        "colab": {
          "base_uri": "https://localhost:8080/"
        },
        "id": "EGDksZwMAPuP",
        "outputId": "fca335a6-f6f2-469b-df23-d780a2f1b93e"
      },
      "execution_count": null,
      "outputs": [
        {
          "output_type": "stream",
          "name": "stdout",
          "text": [
            "Ingrese la longitud de la contraseña : 10\n",
            "atvfbhauir"
          ]
        }
      ]
    },
    {
      "cell_type": "code",
      "source": [
        "import random\n",
        "\n",
        "def generar_contraseña(longitud):\n",
        "    caracteres = \"abcdefghijklmnopqrstuvwxyz0123456789\"\n",
        "    contraseña = ''.join(random.choice(caracteres) for _ in range(longitud))\n",
        "    return contraseña\n",
        "\n",
        "longitud = int(input(\"Ingrese la longitud deseada para la contraseña: \"))\n",
        "contraseña_generada = generar_contraseña(longitud)\n",
        "\n",
        "print(\"La contraseña generada es:\", contraseña_generada)"
      ],
      "metadata": {
        "colab": {
          "base_uri": "https://localhost:8080/"
        },
        "id": "kD8_JkAZA0qO",
        "outputId": "7deb0940-a085-464f-bf7f-403f964f7302"
      },
      "execution_count": null,
      "outputs": [
        {
          "output_type": "stream",
          "name": "stdout",
          "text": [
            "Ingrese la longitud deseada para la contraseña: 10\n",
            "La contraseña generada es: nwd85uxrkj\n"
          ]
        }
      ]
    },
    {
      "cell_type": "markdown",
      "source": [
        "**Ejercicio 8:** *Contador de Vocales:*\n",
        "\n",
        "*Escribe un programa que cuente el número de vocales en una cadena ingresada por el usuario. El programa debe utilizar formato de presentación con enteros para mostrar el recuento de cada vocal por separado.*"
      ],
      "metadata": {
        "id": "uSzP58NJBf1V"
      }
    },
    {
      "cell_type": "code",
      "source": [
        "def contar_vocales(cadena):\n",
        "    vocales = 'aeiouAEIOU'\n",
        "    recuento = {vocal: 0 for vocal in vocales}\n",
        "    for letra in cadena:\n",
        "        if letra in vocales:\n",
        "            recuento[letra.lower()] += 1\n",
        "    return recuento\n",
        "\n",
        "cadena = input(\"Ingrese una cadena de texto: \")\n",
        "recuento_vocales = contar_vocales(cadena)\n",
        "\n",
        "for vocal, cantidad in recuento_vocales.items():\n",
        "    print(f\"La cantidad de '{vocal}' en la cadena es: {cantidad}\")"
      ],
      "metadata": {
        "colab": {
          "base_uri": "https://localhost:8080/"
        },
        "id": "_WA7i3KQBPHi",
        "outputId": "7c9c4f6c-67e0-4886-a0ec-d3a6324bf80d"
      },
      "execution_count": null,
      "outputs": [
        {
          "output_type": "stream",
          "name": "stdout",
          "text": [
            "Ingrese una cadena de texto: yo soy cristia 2\n",
            "La cantidad de 'a' en la cadena es: 1\n",
            "La cantidad de 'e' en la cadena es: 0\n",
            "La cantidad de 'i' en la cadena es: 2\n",
            "La cantidad de 'o' en la cadena es: 2\n",
            "La cantidad de 'u' en la cadena es: 0\n",
            "La cantidad de 'A' en la cadena es: 0\n",
            "La cantidad de 'E' en la cadena es: 0\n",
            "La cantidad de 'I' en la cadena es: 0\n",
            "La cantidad de 'O' en la cadena es: 0\n",
            "La cantidad de 'U' en la cadena es: 0\n"
          ]
        }
      ]
    },
    {
      "cell_type": "markdown",
      "source": [
        "**Ejercicio 9:** *Caracteres con el tipo de presentación c*\n",
        "\n",
        "*Contador de Caracteres Específicos:*\n",
        "\n",
        "*Desarrolla un programa que cuente el número de ocurrencias de caracteres específicos en una cadena ingresada por el usuario. El programa debe permitir al usuario ingresar el carácter que desea contar y luego mostrar el recuento utilizando el formato de presentación c.*"
      ],
      "metadata": {
        "id": "N9n9rd4nB2sU"
      }
    },
    {
      "cell_type": "code",
      "source": [
        "def contar_caracter(cadena, caracter):\n",
        "    contador = cadena.count(caracter)\n",
        "    return contador\n",
        "\n",
        "cadena = input(\"Ingrese una cadena de texto: \")\n",
        "caracter = input(\"Ingrese el carácter que desea contar: \")\n",
        "\n",
        "recuento = contar_caracter(cadena, caracter)\n",
        "\n",
        "print(f\"El carácter '{caracter}' aparece {recuento} veces en la cadena.\")"
      ],
      "metadata": {
        "colab": {
          "base_uri": "https://localhost:8080/"
        },
        "id": "C0NqacyzBoFX",
        "outputId": "ae60f128-6481-4455-e1c0-5eaace491d74"
      },
      "execution_count": null,
      "outputs": [
        {
          "output_type": "stream",
          "name": "stdout",
          "text": [
            "Ingrese una cadena de texto: yo soy cristian 2\n",
            "Ingrese el carácter que desea contar: i\n",
            "El carácter 'i' aparece 2 veces en la cadena.\n"
          ]
        }
      ]
    },
    {
      "cell_type": "markdown",
      "source": [
        "**Ejercicio 10:**\n",
        "\n",
        "*Formateador de Palabras en Mayúsculas.*\n",
        "\n",
        "*Escribe un programa que tome una cadena de texto ingresada por el usuario y la convierta en mayúsculas, pero manteniendo en minúsculas todos los caracteres que no son letras. Utiliza el formato de presentación c para mostrar cada carácter en el resultado.*"
      ],
      "metadata": {
        "id": "SmXcWHBeQ0mR"
      }
    },
    {
      "cell_type": "code",
      "source": [
        "def convertir_a_mayusculas(cadena):\n",
        "    nueva_cadena = ''\n",
        "    for caracter in cadena:\n",
        "        if caracter.isalpha():\n",
        "            nueva_cadena += caracter.upper()\n",
        "        else:\n",
        "            nueva_cadena += caracter\n",
        "    return nueva_cadena\n",
        "\n",
        "cadena = input(\"Ingrese una cadena de texto: \")\n",
        "\n",
        "resultado = convertir_a_mayusculas(cadena)\n",
        "\n",
        "print(f\"La cadena en mayúsculas es: {resultado}\")"
      ],
      "metadata": {
        "id": "rWnNxtsxCMIl",
        "colab": {
          "base_uri": "https://localhost:8080/"
        },
        "outputId": "febc1f6a-7c63-42f1-adce-57632132f96c"
      },
      "execution_count": 2,
      "outputs": [
        {
          "output_type": "stream",
          "name": "stdout",
          "text": [
            "Ingrese una cadena de texto: ingrese una cadena de t3xto\n",
            "La cadena en mayúsculas es: INGRESE UNA CADENA DE T3XTO\n"
          ]
        }
      ]
    },
    {
      "cell_type": "markdown",
      "source": [
        "**Ejercicio 11:** *Cadenas (strings) con el tipo de presentación s*\n",
        "\n",
        "*Verificador de Palíndromos:*\n",
        "\n",
        "*Desarrolla un programa que verifique si una cadena ingresada por el usuario es un palíndromo o no. Un palíndromo es una palabra o frase que se lee igual hacia adelante que hacia atrás, ignorando los espacios y la puntuación. El programa debe utilizar el formato de presentación s para mostrar si la cadena es un palíndromo o no.*"
      ],
      "metadata": {
        "id": "PJDKY_XuRygH"
      }
    },
    {
      "cell_type": "code",
      "source": [
        "def es_palindromo(cadena):\n",
        "    # Eliminar espacios y puntuación\n",
        "    cadena_limpia = ''.join(caracter.lower() for caracter in cadena if caracter.isalnum())\n",
        "    # Verificar si la cadena es igual a su reverso\n",
        "    return cadena_limpia == cadena_limpia[::-1]\n",
        "\n",
        "cadena = input(\"Ingrese una palabra o frase para verificar si es un palíndromo: \")\n",
        "\n",
        "if es_palindromo(cadena):\n",
        "    print(f\"'{cadena}' es un palíndromo.\")\n",
        "else:\n",
        "    print(f\"'{cadena}' no es un palíndromo.\")"
      ],
      "metadata": {
        "colab": {
          "base_uri": "https://localhost:8080/"
        },
        "id": "UENIBVqoRIOt",
        "outputId": "2f20ae97-3391-4fae-8b9c-b323c36a6783"
      },
      "execution_count": 3,
      "outputs": [
        {
          "output_type": "stream",
          "name": "stdout",
          "text": [
            "Ingrese una palabra o frase para verificar si es un palíndromo: na cadena de texto para conta\n",
            "'na cadena de texto para conta' no es un palíndromo.\n"
          ]
        }
      ]
    },
    {
      "cell_type": "markdown",
      "source": [
        "**Ejercicio 12:**\n",
        "\n",
        "*Contador de Palabras:*\n",
        "\n",
        "*Escribe un programa que cuente el número de palabras en una cadena ingresada por el usuario. El programa debe utilizar el tipo de presentación s para mostrar cada palabra individualmente y luego mostrar el recuento total de palabras.*"
      ],
      "metadata": {
        "id": "hrvBuaGqSNSt"
      }
    },
    {
      "cell_type": "code",
      "source": [
        "def contar_palabras(cadena):\n",
        "    palabras = cadena.split()\n",
        "    return len(palabras), palabras\n",
        "\n",
        "cadena = input(\"Ingrese una cadena de texto para contar las palabras: \")\n",
        "\n",
        "total_palabras, lista_palabras = contar_palabras(cadena)\n",
        "\n",
        "print(\"Las palabras en la cadena son:\")\n",
        "for palabra in lista_palabras:\n",
        "    print(palabra)\n",
        "print(f\"\\nTotal de palabras: {total_palabras}\")"
      ],
      "metadata": {
        "colab": {
          "base_uri": "https://localhost:8080/"
        },
        "id": "SMe5OveqSVOt",
        "outputId": "3ad0407d-880f-440c-f586-755a4e79775e"
      },
      "execution_count": 4,
      "outputs": [
        {
          "output_type": "stream",
          "name": "stdout",
          "text": [
            "Ingrese una cadena de texto para contar las palabras: na cadena de texto para conta\n",
            "Las palabras en la cadena son:\n",
            "na\n",
            "cadena\n",
            "de\n",
            "texto\n",
            "para\n",
            "conta\n",
            "\n",
            "Total de palabras: 6\n"
          ]
        }
      ]
    },
    {
      "cell_type": "markdown",
      "source": [
        "**Ejercicio 13:**\n",
        "\n",
        "*Usa el tipo c para mostrar los caracteres que pertenecen a 58,45,41*"
      ],
      "metadata": {
        "id": "OcduB2vUS0Ni"
      }
    },
    {
      "cell_type": "code",
      "source": [
        "def mostrar_caracteres(numeros):\n",
        "    caracteres = [chr(numero) for numero in numeros]\n",
        "    return caracteres\n",
        "\n",
        "numeros = [58, 45, 41]\n",
        "caracteres = mostrar_caracteres(numeros)\n",
        "print(\"Caracteres:\", caracteres)\n",
        "\n",
        "caracteres_separados = ', '.join(caracteres)\n",
        "print(\"Caracteres separados:\", caracteres_separados)\n",
        "\n",
        "caracteres_separados_en_lista = caracteres_separados.split(', ')\n",
        "print(\"Caracteres separados en lista:\", caracteres_separados_en_lista)\n",
        "\n",
        "caracteres_separados_en_lista.sort()\n",
        "print(\"Caracteres ordenados:\", caracteres_separados_en_lista)"
      ],
      "metadata": {
        "colab": {
          "base_uri": "https://localhost:8080/"
        },
        "id": "4X3INC1NScdz",
        "outputId": "d4b7dcbe-963b-4b6e-fbf9-9c6cbe942528"
      },
      "execution_count": 9,
      "outputs": [
        {
          "output_type": "stream",
          "name": "stdout",
          "text": [
            "Caracteres: [':', '-', ')']\n",
            "Caracteres separados: :, -, )\n",
            "Caracteres separados en lista: [':', '-', ')']\n",
            "Caracteres ordenados: [')', '-', ':']\n"
          ]
        }
      ]
    },
    {
      "cell_type": "markdown",
      "source": [
        "**Ejercicio 14:** *Anchos y alineación*\n",
        "\n",
        "*En una cadena f' puedes especificar la alineación y la cantidad de espacios al inicio y al final.*"
      ],
      "metadata": {
        "id": "ETuKGuVDVexM"
      }
    },
    {
      "cell_type": "code",
      "source": [
        "nombre = \"Juan\"\n",
        "edad = 30\n",
        "\n",
        "# Alineación a la izquierda con 10 espacios al inicio y 5 al final\n",
        "cadena1 = f'{nombre:<10} tiene {edad} años.'\n",
        "print(cadena1)\n",
        "\n",
        "# Alineación a la derecha con 5 espacios al inicio y 10 al final\n",
        "cadena2 = f'{nombre:>5} tiene {edad} años.'\n",
        "print(cadena2)\n",
        "\n",
        "# Centrado con 3 espacios al inicio y al final\n",
        "cadena3 = f'{nombre:^10} tiene {edad} años.'\n",
        "print(cadena3)"
      ],
      "metadata": {
        "colab": {
          "base_uri": "https://localhost:8080/"
        },
        "id": "q-jcFIPxTUSq",
        "outputId": "411c15cd-e287-4812-c2a9-44ccfdafd27b"
      },
      "execution_count": 10,
      "outputs": [
        {
          "output_type": "stream",
          "name": "stdout",
          "text": [
            "Juan       tiene 30 años.\n",
            " Juan tiene 30 años.\n",
            "   Juan    tiene 30 años.\n"
          ]
        }
      ]
    },
    {
      "cell_type": "markdown",
      "source": [
        "*Pero además de especificar la longitud del campo y la cantidad de decimales, también puedes alinear a la cadena con los símbolos > y <.*"
      ],
      "metadata": {
        "id": "gPqlHc5EVzH8"
      }
    },
    {
      "cell_type": "code",
      "source": [
        "pi = 3.14159265359\n",
        "\n",
        "# Formato con longitud del campo de 10 caracteres, 2 decimales y alineación a la derecha\n",
        "cadena_derecha = f'Pi: {pi:>10.2f}'\n",
        "print(cadena_derecha)\n",
        "\n",
        "# Formato con longitud del campo de 10 caracteres, 2 decimales y alineación a la izquierda\n",
        "cadena_izquierda = f'Pi: {pi:<10.2f}'\n",
        "print(cadena_izquierda)"
      ],
      "metadata": {
        "id": "PcEEc0VhVsuN"
      },
      "execution_count": null,
      "outputs": []
    },
    {
      "cell_type": "markdown",
      "source": [
        "**Ejercicio 15:**\n",
        "\n",
        "*Imprime los valores 11483.528 y -4581.4413 cada uno precedido por su signo, en campos de 10 caracteres con separadores de miles, y su punto decimal alineado a 2 puntos de precisión.*"
      ],
      "metadata": {
        "id": "4N9mzy_ZW2eN"
      }
    },
    {
      "cell_type": "code",
      "source": [
        "numero1 = 11483.528\n",
        "numero2 = -4581.4413\n",
        "\n",
        "# Mostrar los números con formato\n",
        "def mostrar_numero(numero):\n",
        "    return f'Número: {numero:+10,.2f}'\n",
        "\n",
        "numero1_formateado = mostrar_numero(numero1)\n",
        "numero2_formateado = mostrar_numero(numero2)\n",
        "\n",
        "print(numero1_formateado)\n",
        "print(numero2_formateado)"
      ],
      "metadata": {
        "colab": {
          "base_uri": "https://localhost:8080/"
        },
        "id": "CwY2gxHwWuHu",
        "outputId": "d299b563-8518-4acd-a16f-09542913301d"
      },
      "execution_count": 17,
      "outputs": [
        {
          "output_type": "stream",
          "name": "stdout",
          "text": [
            "Número: +11,483.53\n",
            "Número:  -4,581.44\n"
          ]
        }
      ]
    },
    {
      "cell_type": "markdown",
      "source": [
        "**Ejercicio 16:**\n",
        "\n",
        "*Crea un bucle for que ubica y muestra cada palabra que comienza con \"d\" en \"Por desenredar el enredo aque ayer enrede, hoy enredo el desenredo que desenredé ayer\"*"
      ],
      "metadata": {
        "id": "LSuDmlCKjbm8"
      }
    },
    {
      "cell_type": "code",
      "source": [
        "cadena = \"Por desenredar el enredo aque ayer enrede, hoy enredo el desenredo que desenredé ayer\"\n",
        "palabras = cadena.split()\n",
        "for palabra in palabras:\n",
        "  if palabra.startswith(\"d\"):\n",
        "    print(palabra)"
      ],
      "metadata": {
        "id": "dYRIDBe8jfA-"
      },
      "execution_count": null,
      "outputs": []
    },
    {
      "cell_type": "markdown",
      "source": [
        "**Ejercicio 17:**\n",
        "\n",
        "*Suponte que tienes la cadena*\n",
        "\n",
        "\"14 + 8\"\n",
        "\n",
        "*Usa una expresión regular para romper la cadena en 3 grupos representando los 2 operandos y el operador, luego\"*"
      ],
      "metadata": {
        "id": "5UU0DkVyj9V8"
      }
    },
    {
      "cell_type": "code",
      "source": [
        "import re\n",
        "\n",
        "cadena = \"14 + 8\"\n",
        "new_cadena = re.split(\"(\\+)\", cadena)\n",
        "print(new_cadena)"
      ],
      "metadata": {
        "colab": {
          "base_uri": "https://localhost:8080/"
        },
        "id": "vBny0CJ3kDEO",
        "outputId": "df6ef687-4176-4323-ce7b-dbab336a9a2b"
      },
      "execution_count": 29,
      "outputs": [
        {
          "output_type": "stream",
          "name": "stdout",
          "text": [
            "['14 ', '+', ' 8']\n"
          ]
        }
      ]
    },
    {
      "cell_type": "markdown",
      "source": [
        "**Ejercicio 18** *Crea una lista de todos los números del 1 a 100 que sean divisibles por un número que introduzca el usuario. Este número tiene que estar comprendido entre 2 y 7. Pinta la lista por pantalla."
      ],
      "metadata": {
        "id": "8ClVnvBRlRrh"
      }
    },
    {
      "cell_type": "code",
      "source": [
        "lista = []\n",
        "numero_usuario = int(input(\"Ingrese un número entre 2 y 7: \"))\n",
        "while 2 > numero_usuario or numero_usuario > 7:\n",
        "  print(\"El número debe estar entre 2 y 7.\")\n",
        "  numero_usuario = int(input(\"Ingrese un número entre 2 y 7: \"))\n",
        "if 2 <= numero_usuario <= 7:\n",
        "  for i in range(1, 101):\n",
        "    if i % numero_usuario == 0:\n",
        "      lista.append(i)\n",
        "print(lista)"
      ],
      "metadata": {
        "id": "wm3MEaDlkEue"
      },
      "execution_count": null,
      "outputs": []
    }
  ]
}