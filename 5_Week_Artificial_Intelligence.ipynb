{
  "nbformat": 4,
  "nbformat_minor": 0,
  "metadata": {
    "colab": {
      "provenance": []
    },
    "kernelspec": {
      "name": "python3",
      "display_name": "Python 3"
    },
    "language_info": {
      "name": "python"
    }
  },
  "cells": [
    {
      "cell_type": "markdown",
      "source": [
        "**Ejercicios con diccionarios**\n",
        "\n",
        "**Ejercicio 1:** *Crear un programa en python donde se va a declarar un diccionario para guardar los precios de distintas frutas.*\n",
        "\n",
        "*   El programa pedirá el nombre de la fruta y la cantidad que se ha vendido y mostrará el precio final de la fruta a partir de los datos guardados en el diccionario.\n",
        "*   Si la fruta no existe nos dará un error.\n",
        "*   Tras cada consulta el programa nos preguntará si queremos hacer otra consulta."
      ],
      "metadata": {
        "id": "J7ZxWmox3PnW"
      }
    },
    {
      "cell_type": "code",
      "execution_count": null,
      "metadata": {
        "id": "8YzZxTtG3MgG",
        "colab": {
          "base_uri": "https://localhost:8080/"
        },
        "outputId": "7cacdc84-6d15-4b9a-8d2c-215de50e1132"
      },
      "outputs": [
        {
          "name": "stdout",
          "output_type": "stream",
          "text": [
            "ingrese el nombre de la fruta: papaya\n",
            "ingrese la cantidad de frutas vendidas: 4\n",
            "el precio total de 4 Papaya es $10000\n",
            "desea hacer otra consulta? no\n"
          ]
        }
      ],
      "source": [
        "inventario = {\"Papaya\": 2500, \"Manzana\": 1100, \"Mango\": 1950}\n",
        "\n",
        "def venta_fruta(nombre, cantidad):\n",
        "  if nombre in inventario:\n",
        "    precio = inventario[nombre]\n",
        "    total = precio * cantidad\n",
        "    print(f\"el precio total de {cantidad} {nombre} es ${total}\")\n",
        "  else:\n",
        "    print(\"la fruta no se encuentra en el inventario\")\n",
        "    return\n",
        "\n",
        "def consulta():\n",
        "  continuar = True\n",
        "  while continuar:\n",
        "    nombre = input(\"ingrese el nombre de la fruta: \").capitalize()\n",
        "    cantidad = int(input(\"ingrese la cantidad de frutas vendidas: \"))\n",
        "    consulta = venta_fruta(nombre, cantidad)\n",
        "    consulta = input(\"desea hacer otra consulta? \").lower()\n",
        "    if consulta == \"si\":\n",
        "      continue\n",
        "    if consulta == \"no\":\n",
        "      continuar = False\n",
        "      return\n",
        "\n",
        "consulta()\n",
        "#"
      ]
    },
    {
      "cell_type": "markdown",
      "source": [
        "**Ejercicio 2:** *escriba una función en Python que pida un número entero positivo y que cree un diccionario cuyas claves sean desde el número 1 hasta el número indicado, y los valores sean los cuadrados de las claves.*"
      ],
      "metadata": {
        "id": "VTX3YyP8Fwl9"
      }
    },
    {
      "cell_type": "code",
      "source": [
        "claves = int(input(\"Ingrese un número entero positivo: \"))\n",
        "diccionario = {}\n",
        "for i in range(1, claves + 1):\n",
        "  diccionario[i] = i ** 2\n",
        "print(diccionario)"
      ],
      "metadata": {
        "colab": {
          "base_uri": "https://localhost:8080/"
        },
        "id": "R4DCtI5PGPv6",
        "outputId": "48fc943b-4a3f-4835-c655-c9633c368e21"
      },
      "execution_count": null,
      "outputs": [
        {
          "output_type": "stream",
          "name": "stdout",
          "text": [
            "Ingrese un número entero positivo: 8\n",
            "{1: 1, 2: 4, 3: 9, 4: 16, 5: 25, 6: 36, 7: 49, 8: 64}\n"
          ]
        }
      ]
    },
    {
      "cell_type": "markdown",
      "source": [
        "**Ejercicio 3:** *escriba una función que reciba como parámetro una cadena y devuelva un diccionario con la cantidad de aparaciones de cada carácter en la cadena.*"
      ],
      "metadata": {
        "id": "JwwZtTtlHLSX"
      }
    },
    {
      "cell_type": "code",
      "source": [
        "cadena = input(\"ingrese una cadena de texto: \")\n",
        "diccionario = {}\n",
        "for i in cadena:\n",
        "  if i in diccionario:\n",
        "    diccionario[i] +=1\n",
        "  else:\n",
        "    diccionario[i] = 1\n",
        "print(diccionario)"
      ],
      "metadata": {
        "colab": {
          "base_uri": "https://localhost:8080/"
        },
        "id": "Lf7CwK6tHZpD",
        "outputId": "11686c74-ee6e-491e-d855-7c586c2cf37f"
      },
      "execution_count": null,
      "outputs": [
        {
          "output_type": "stream",
          "name": "stdout",
          "text": [
            "ingrese una cadena de texto: cristian\n",
            "{'c': 1, 'r': 1, 'i': 2, 's': 1, 't': 1, 'a': 1, 'n': 1}\n"
          ]
        }
      ]
    },
    {
      "cell_type": "markdown",
      "source": [
        "**Manejo de tuplas**\n",
        "\n",
        "**Ejercicio 4:** *Realiza un programa que siga las siguientes instrucciones:*\n",
        "\n",
        "\n",
        "\n",
        "*   Crea un conjunto llamado usuarios con los usuarios Marta, David, Elvira, Juan y Marcos.\n",
        "*   Crea un conjunto llamado administradores con los administradores Juan y Marta.\n",
        "*   Borra al administrador Juan del conjunto de administradores.\n",
        "*   Añade a Marcos como un nuevo administrador, pero no lo borres del conjunto de usuarios.\n",
        "*   Muestra todos los usuarios por pantalla de forma dinámica, además debes indicar si cada usuario es administrador o no.\n",
        "\n",
        "*Nota: Los conjuntos se pueden recorrer dinámicamente utilizando el bucle for de forma similar a una lista. También cuentan con un método llamado .discard(elemento) que sirve para borrar un elemento..*"
      ],
      "metadata": {
        "id": "C-z1pKh3IenF"
      }
    },
    {
      "cell_type": "code",
      "source": [
        "usuarios = {\"Marta\", \"David\", \"Elvira\", \"Juan\", \"Marcos\"}\n",
        "administradores = {\"Juan\", \"Marta\"}\n",
        "administradores.discard(\"Juan\")\n",
        "administradores.add(\"Marcos\")\n",
        "for usuario in usuarios:\n",
        "  if usuario in administradores:\n",
        "    print(f\"{usuario} es administrador\")\n",
        "  else:\n",
        "    print(f\"{usuario} no es administrador\")"
      ],
      "metadata": {
        "colab": {
          "base_uri": "https://localhost:8080/"
        },
        "id": "yZcUt3vPJNLM",
        "outputId": "2a29dcf3-3e26-4d4e-e469-d57ed8c354dd"
      },
      "execution_count": null,
      "outputs": [
        {
          "output_type": "stream",
          "name": "stdout",
          "text": [
            "Marcos es administrador\n",
            "Marta es administrador\n",
            "Elvira no es administrador\n",
            "David no es administrador\n",
            "Juan no es administrador\n"
          ]
        }
      ]
    },
    {
      "cell_type": "markdown",
      "source": [
        "**Manejo de listas**\n",
        "\n",
        "**Ejercicio 5:** *Durante la planificación de un proyecto se han acordado una lista de tareas. Para cada una de estas tareas se ha asignado un orden de prioridad (cuanto menor es el número de orden, más prioridad). Crear una estructura del tipo cola con todas las tareas ordenadas pero sin los números de orden. Las tareas son las siguientes.*\n",
        "\n",
        "tareas = [\n",
        "[6, 'Distribución'],\n",
        "[2, 'Diseño'],\n",
        "[1, 'Concepción'],\n",
        "[7, 'Mantenimiento'],\n",
        "[4, 'Producción'],\n",
        "[3, 'Planificación'],\n",
        "[5, 'Pruebas']\n",
        "]\n",
        "\n",
        "*Nota: Para ordenar automáticamente una lista es posible utilizar el método .sort().*"
      ],
      "metadata": {
        "id": "ZothAjKxJrq9"
      }
    },
    {
      "cell_type": "code",
      "source": [
        "tareas = [\n",
        "[6, 'Distribución'],\n",
        "[2, 'Diseño'],\n",
        "[1, 'Concepción'],\n",
        "[7, 'Mantenimiento'],\n",
        "[4, 'Producción'],\n",
        "[3, 'Planificación'],\n",
        "[5, 'Pruebas']\n",
        "]\n",
        "\n",
        "tareas.sort()\n",
        "tareas = [tarea[1] for tarea in tareas]\n",
        "print(tareas)"
      ],
      "metadata": {
        "colab": {
          "base_uri": "https://localhost:8080/"
        },
        "id": "IEIiNj9WJ5Ra",
        "outputId": "71a5b2ed-468b-40a8-b899-632d1b551c85"
      },
      "execution_count": null,
      "outputs": [
        {
          "output_type": "stream",
          "name": "stdout",
          "text": [
            "['Concepción', 'Diseño', 'Planificación', 'Producción', 'Pruebas', 'Distribución', 'Mantenimiento']\n"
          ]
        }
      ]
    },
    {
      "cell_type": "markdown",
      "source": [
        "**Ejercicio 6:** *Crea una lista llamada números que contenga los valores del 1 al 15, haz las siguientes operaciones*\n",
        "* Selecciona los numeros enteros.\n",
        "* Reemplaza los elementos en indices 5 al 9 por 0s.\n",
        "* Manten solo los primeros 5 elementos.\n",
        "* Muestra la lista resultante -Borra todos los elementos que quedan."
      ],
      "metadata": {
        "id": "E6ofgyxVakL1"
      }
    },
    {
      "cell_type": "code",
      "source": [
        "lista = [1, 2, 3, 4, 5, 6, 7, 8, 9, 10, 11, 12, 13, 14, 15]\n",
        "enteros = [numero for numero in lista if isinstance(numero, int)]\n",
        "print(enteros)\n",
        "lista[5:10] = [0, 0, 0, 0, 0]\n",
        "print(lista)\n",
        "lista = lista[:5]\n",
        "print(lista)\n",
        "lista.clear()\n",
        "print(lista)"
      ],
      "metadata": {
        "colab": {
          "base_uri": "https://localhost:8080/"
        },
        "id": "CaHHAZfrZ-W3",
        "outputId": "cee0d972-f610-4c27-ee98-bc6cace880ed"
      },
      "execution_count": 5,
      "outputs": [
        {
          "output_type": "stream",
          "name": "stdout",
          "text": [
            "[1, 2, 3, 4, 5, 6, 7, 8, 9, 10, 11, 12, 13, 14, 15]\n",
            "[1, 2, 3, 4, 5, 0, 0, 0, 0, 0, 11, 12, 13, 14, 15]\n",
            "[1, 2, 3, 4, 5]\n",
            "[]\n"
          ]
        }
      ]
    },
    {
      "cell_type": "markdown",
      "source": [
        "**Ejercicio 7:** *Crea una expresion generadora que eleve al cubo los enteros pares en una lista que contiene 10,3,7,1,9,4*"
      ],
      "metadata": {
        "id": "xI0fgBbEkD_Y"
      }
    },
    {
      "cell_type": "code",
      "source": [
        "lista = [10, 3, 7, 1, 9, 4]\n",
        "generador = (numero ** 3 for numero in lista if numero % 2 == 0)\n",
        "print(list(generador))"
      ],
      "metadata": {
        "colab": {
          "base_uri": "https://localhost:8080/"
        },
        "id": "MsrOuvNYfJBG",
        "outputId": "a7b2e3b3-0976-4919-b3d6-fc4b75aadc78"
      },
      "execution_count": 20,
      "outputs": [
        {
          "output_type": "stream",
          "name": "stdout",
          "text": [
            "[1000, 64]\n"
          ]
        }
      ]
    },
    {
      "cell_type": "markdown",
      "source": [
        "**Ejercicio 8:** *Crea una lista con numeros del 1 al 15 y luego*\n",
        "\n",
        "* Crea una nueva lista de los elementos impares.\n",
        "* Crea una nueva lista usando map y lambda para elevar al cuadrado a todos.\n",
        "* Filtra los elementos impares y luego mapealos a sus cuadrados."
      ],
      "metadata": {
        "id": "xLYV1EBJ5tS7"
      }
    },
    {
      "cell_type": "code",
      "source": [
        "numeros = [i for i in range(1,16)]\n",
        "lista = list(numeros)\n",
        "\n",
        "lista_impar = (i for i in lista if i % 2 != 0)\n",
        "lista_impar = list(lista_impar)\n",
        "print(lista_impar)\n",
        "\n",
        "lista_cuadrado = list(map(lambda x: x ** 2, lista))\n",
        "print(lista_cuadrado)\n",
        "\n",
        "lista_cuadrado_impar = list(map(lambda x: x ** 2, filter(lambda x: x % 2 != 0, lista)))\n",
        "print(lista_cuadrado_impar)\n",
        "\n"
      ],
      "metadata": {
        "colab": {
          "base_uri": "https://localhost:8080/"
        },
        "id": "kXEa8V3L6IlF",
        "outputId": "841b04d8-507c-49d9-bb9c-435cdafe291e"
      },
      "execution_count": 9,
      "outputs": [
        {
          "output_type": "stream",
          "name": "stdout",
          "text": [
            "[1, 3, 5, 7, 9, 11, 13, 15]\n",
            "[1, 4, 9, 16, 25, 36, 49, 64, 81, 100, 121, 144, 169, 196, 225]\n",
            "[1, 9, 25, 49, 81, 121, 169, 225]\n"
          ]
        }
      ]
    },
    {
      "cell_type": "markdown",
      "source": [
        "**Ejercicio 9:** *Arma un programa que utilice diccionarios, el método split, y el método items, asi como 2 ciclos for, para contar la cantidad de palabras en esta oración.Tu resultado debe de ser una tablita de 2 columnas donde muestres la palabra y la repetición:*"
      ],
      "metadata": {
        "id": "eqBu0BFgKNKh"
      }
    },
    {
      "cell_type": "code",
      "source": [
        "# Oración de ejemplo\n",
        "oracion = \"el sol brilla sobre el mar y las olas.\"\n",
        "\n",
        "# Dividir la oración en palabras\n",
        "palabras = oracion.split()\n",
        "\n",
        "# Crear un diccionario para contar las repeticiones de cada palabra\n",
        "contador_palabras = {}\n",
        "\n",
        "# Contar las repeticiones de cada palabra\n",
        "for palabra in palabras:\n",
        "    # Si la palabra ya está en el diccionario, aumentar su contador\n",
        "    if palabra in contador_palabras:\n",
        "        contador_palabras[palabra] += 1\n",
        "    # Si la palabra no está en el diccionario, agregarla con un contador inicial de 1\n",
        "    else:\n",
        "        contador_palabras[palabra] = 1\n",
        "\n",
        "# Mostrar el resultado en una tabla\n",
        "print(\"Palabra\\t\\tRepetición\")\n",
        "print(\"-\" * 20)\n",
        "for palabra, repeticion in contador_palabras.items():\n",
        "    print(f\"{palabra.ljust(10)}\\t\\t{repeticion}\")\n",
        ""
      ],
      "metadata": {
        "colab": {
          "base_uri": "https://localhost:8080/"
        },
        "id": "E7ytrf_U-CAu",
        "outputId": "30600338-461c-44ef-bc77-e3b8e0ff3884"
      },
      "execution_count": 66,
      "outputs": [
        {
          "output_type": "stream",
          "name": "stdout",
          "text": [
            "Palabra\t\tRepetición\n",
            "--------------------\n",
            "el        \t\t2\n",
            "sol       \t\t1\n",
            "brilla    \t\t1\n",
            "sobre     \t\t1\n",
            "mar       \t\t1\n",
            "y         \t\t1\n",
            "las       \t\t1\n",
            "olas.     \t\t1\n"
          ]
        }
      ]
    },
    {
      "cell_type": "markdown",
      "source": [
        "*Ahora utiliza la herramienta Counter de Python para realizar la misma tarea con el cuento*"
      ],
      "metadata": {
        "id": "obdlctSsKb5-"
      }
    },
    {
      "cell_type": "code",
      "source": [
        "from collections import Counter\n",
        "\n",
        "# Oración de ejemplo\n",
        "oracion = \"el sol brilla sobre el mar y las olas.\"\n",
        "\n",
        "# Dividir la oración en palabras\n",
        "palabras = oracion.split()\n",
        "\n",
        "# Contar las repeticiones de cada palabra utilizando Counter\n",
        "contador_palabras = Counter(palabras)\n",
        "\n",
        "# Mostrar el resultado en una tabla\n",
        "print(\"Palabra\\t\\tRepetición\")\n",
        "print(\"-\" * 20)\n",
        "for palabra, repeticion in contador_palabras.items():\n",
        "    print(f\"{palabra.ljust(10)}\\t\\t{repeticion}\")"
      ],
      "metadata": {
        "colab": {
          "base_uri": "https://localhost:8080/"
        },
        "id": "nQudrAAHKaGu",
        "outputId": "63024694-c4fd-4963-e943-8cdfa0115882"
      },
      "execution_count": 67,
      "outputs": [
        {
          "output_type": "stream",
          "name": "stdout",
          "text": [
            "Palabra\t\tRepetición\n",
            "--------------------\n",
            "el        \t\t2\n",
            "sol       \t\t1\n",
            "brilla    \t\t1\n",
            "sobre     \t\t1\n",
            "mar       \t\t1\n",
            "y         \t\t1\n",
            "las       \t\t1\n",
            "olas.     \t\t1\n"
          ]
        }
      ]
    },
    {
      "cell_type": "markdown",
      "source": [
        "**Manejo de diccionarios**\n",
        "\n",
        "**Ejercicio 10:** *Durante el desarrollo de un pequeño videojuego hay que configurar y balancear cada clase de personaje jugable. Partiendo que la estadística base es 2, debe cumplir las siguientes condiciones:*\n",
        "\n",
        "*   El caballero tiene el doble de vida y defensa que un guerrero.\n",
        "*   El guerrero tiene el doble de ataque y alcance que un caballero.\n",
        "*   El arquero tiene la misma vida y ataque que un guerrero, pero la mitad de su defensa y el doble de su alcance.\n",
        "\n",
        "*Escribir un programa que muestre como quedan las propiedades de los tres personajes.*\n",
        "\n",
        "Utilice los siguientes diccionarios:\n",
        "* caballero = { 'vida':2, 'ataque':2, 'defensa': 2, 'alcance':2 }\n",
        "* guerrero = { 'vida':2, 'ataque':2, 'defensa': 2, 'alcance':2 }\n",
        "* arquero = { 'vida':2, 'ataque':2, 'defensa': 2, 'alcance':2 }"
      ],
      "metadata": {
        "id": "3YLZX4KWS1bj"
      }
    },
    {
      "cell_type": "code",
      "source": [
        "caballero = { 'vida':2, 'ataque':2, 'defensa': 2, 'alcance':2 }\n",
        "guerrero = { 'vida':2, 'ataque':2, 'defensa': 2, 'alcance':2 }\n",
        "arquero = { 'vida':2, 'ataque':2, 'defensa': 2, 'alcance':2 }\n",
        "\n",
        "caballero[\"vida\"] = guerrero[\"vida\"] * 2\n",
        "caballero[\"defensa\"] = guerrero[\"defensa\"] * 2\n",
        "\n",
        "guerrero[\"ataque\"] = caballero[\"ataque\"] * 2\n",
        "guerrero[\"alcance\"] = caballero[\"alcance\"] * 2\n",
        "\n",
        "arquero[\"vida\"] = guerrero[\"vida\"]\n",
        "arquero[\"ataque\"] = guerrero[\"ataque\"]\n",
        "arquero[\"defensa\"] = guerrero[\"defensa\"] / 2\n",
        "arquero[\"alcance\"] = guerrero[\"alcance\"] * 2\n",
        "\n",
        "print(\"Caballero \", caballero)\n",
        "print(\"Guerrero \", guerrero)\n",
        "print(\"Arquero \", arquero)"
      ],
      "metadata": {
        "colab": {
          "base_uri": "https://localhost:8080/"
        },
        "id": "gpHayTxJS2cl",
        "outputId": "48af9624-eea9-4f3e-d982-fd6aca18a802"
      },
      "execution_count": 69,
      "outputs": [
        {
          "output_type": "stream",
          "name": "stdout",
          "text": [
            "Caballero  {'vida': 4, 'ataque': 2, 'defensa': 4, 'alcance': 2}\n",
            "Guerrero  {'vida': 2, 'ataque': 4, 'defensa': 2, 'alcance': 4}\n",
            "Arquero  {'vida': 2, 'ataque': 4, 'defensa': 1.0, 'alcance': 8}\n"
          ]
        }
      ]
    },
    {
      "cell_type": "markdown",
      "source": [
        "**Comprensión de diccionarios**\n",
        "\n",
        "*Intercambio de llaves y valores*"
      ],
      "metadata": {
        "id": "9fCYw7RtTUJk"
      }
    },
    {
      "cell_type": "code",
      "source": [
        "# Diccionario original\n",
        "usuario_edad = {'Laura': 28, 'Daniel': 31, 'Alberto': 27, 'Rogelio': 65}\n",
        "\n",
        "# Intercambiar pares valor-llave\n",
        "edad_usuario = {edad: usuario for usuario, edad in usuario_edad.items()}\n",
        "\n",
        "# Mostrar el nuevo diccionario\n",
        "print(\"Nuevo diccionario (edad_usuario):\", edad_usuario)"
      ],
      "metadata": {
        "colab": {
          "base_uri": "https://localhost:8080/"
        },
        "id": "2ZR4iFA1Ln-M",
        "outputId": "0601224b-7033-4dc6-c628-3279e30cbef2"
      },
      "execution_count": 68,
      "outputs": [
        {
          "output_type": "stream",
          "name": "stdout",
          "text": [
            "Nuevo diccionario (edad_usuario): {28: 'Laura', 31: 'Daniel', 27: 'Alberto', 65: 'Rogelio'}\n"
          ]
        }
      ]
    },
    {
      "cell_type": "markdown",
      "source": [
        "*Mapeo de valores nuevos*"
      ],
      "metadata": {
        "id": "R_iUPbzwVE-9"
      }
    },
    {
      "cell_type": "code",
      "source": [
        "# Diccionario de ventas de agentes\n",
        "ventas_agentes = {\n",
        "    'Laura': [12000, 10500, 9800, 11100],\n",
        "    'Daniel': [11000, 7800, 7200, 6500],\n",
        "    'Alberto': [11200, 9500, 10800, 10100]\n",
        "}\n",
        "\n",
        "# Calcular las ventas promedio de cada agente\n",
        "ventas_promedio = {agente: sum(ventas) / len(ventas) for agente, ventas in ventas_agentes.items()}\n",
        "\n",
        "# Mostrar el nuevo diccionario de ventas promedio\n",
        "print(\"Ventas promedio de cada agente:\", ventas_promedio)"
      ],
      "metadata": {
        "colab": {
          "base_uri": "https://localhost:8080/"
        },
        "id": "bfwRHDCiVSeb",
        "outputId": "fffa9a2e-af20-4f62-f273-1b8a2fac3a38"
      },
      "execution_count": 70,
      "outputs": [
        {
          "output_type": "stream",
          "name": "stdout",
          "text": [
            "Ventas promedio de cada agente: {'Laura': 10850.0, 'Daniel': 8125.0, 'Alberto': 10400.0}\n"
          ]
        }
      ]
    },
    {
      "cell_type": "markdown",
      "source": [
        "*Usa una comprensión de diccionario para crear un diccionario de los números 4-10 mapeado a sus cuadrados*"
      ],
      "metadata": {
        "id": "6e35Q6UsVgVO"
      }
    },
    {
      "cell_type": "code",
      "source": [
        "diccionario_numeros = {i: i ** 2 for i in range(4,11)}\n",
        "print(diccionario_numeros)"
      ],
      "metadata": {
        "colab": {
          "base_uri": "https://localhost:8080/"
        },
        "id": "wtYEqVC3VfkJ",
        "outputId": "de7c8d12-3449-4ae2-e70b-16b746b90391"
      },
      "execution_count": 71,
      "outputs": [
        {
          "output_type": "stream",
          "name": "stdout",
          "text": [
            "{4: 16, 5: 25, 6: 36, 7: 49, 8: 64, 9: 81, 10: 100}\n"
          ]
        }
      ]
    },
    {
      "cell_type": "markdown",
      "source": [
        "**Conjuntos (SETS)**\n",
        "\n",
        "*Asigna la siguiente cadena una variable texto y luego dividela usando el método split y crea un set de los resultados. Muestra las palabrás únicas en orden sorted.*\n",
        "\n",
        "\"Un dragon tragon trago carbon y quedo panzon, ah que dragon tan tragon\""
      ],
      "metadata": {
        "id": "_GE2Dn8vWOCO"
      }
    },
    {
      "cell_type": "code",
      "source": [
        "cadena = \"Un dragon tragon trago carbon y quedo panzon, ah que dragon tan tragon\"\n",
        "palabras = cadena.split()\n",
        "palabras_ordenadas = sorted(palabras)\n",
        "palabras_set = set(palabras_ordenadas)\n",
        "print(palabras_set)"
      ],
      "metadata": {
        "colab": {
          "base_uri": "https://localhost:8080/"
        },
        "id": "duJcWcj-WZS5",
        "outputId": "a1a92ae6-c306-410e-8bb9-0aaa8b756dd4"
      },
      "execution_count": 97,
      "outputs": [
        {
          "output_type": "stream",
          "name": "stdout",
          "text": [
            "{'panzon,', 'ah', 'quedo', 'trago', 'carbon', 'que', 'y', 'tan', 'Un', 'tragon', 'dragon'}\n"
          ]
        }
      ]
    },
    {
      "cell_type": "markdown",
      "source": [
        "**Funciones**\n",
        "\n",
        "*Usa un bucle for, randrange y una expresión condicional para simular 20 tiros de moneda, mosrando A para águila y S para Sello*"
      ],
      "metadata": {
        "id": "9-YjBmgockKE"
      }
    },
    {
      "cell_type": "code",
      "source": [
        "import random\n",
        "for i in range(20):\n",
        "  tiros = random.randrange(2)\n",
        "  if tiros == 0:\n",
        "    print(\"A\")\n",
        "  else:\n",
        "    print(\"S\")"
      ],
      "metadata": {
        "colab": {
          "base_uri": "https://localhost:8080/"
        },
        "id": "xevVyrsrKJ4e",
        "outputId": "c9150a1b-e812-4314-b9cc-6be444ed0974"
      },
      "execution_count": 74,
      "outputs": [
        {
          "output_type": "stream",
          "name": "stdout",
          "text": [
            "S\n",
            "S\n",
            "S\n",
            "A\n",
            "A\n",
            "A\n",
            "A\n",
            "S\n",
            "A\n",
            "S\n",
            "A\n",
            "A\n",
            "A\n",
            "A\n",
            "S\n",
            "A\n",
            "S\n",
            "A\n",
            "A\n",
            "S\n"
          ]
        }
      ]
    },
    {
      "cell_type": "code",
      "source": [
        "#Arma una función que reciba una cantidad arbitraria de argumentos y calcule el producto de multiplicarlos todos entre ellos\n",
        "\n",
        "def producto(*args):\n",
        "  resultado = 1\n",
        "  for arg in args:\n",
        "    resultado *= arg\n",
        "  return resultado\n",
        "\n",
        "print(producto(1, 8, 9, 4, 5))"
      ],
      "metadata": {
        "colab": {
          "base_uri": "https://localhost:8080/"
        },
        "id": "kuJWOav_LRsr",
        "outputId": "88fab21c-5a84-4374-96e9-609d03c692f0"
      },
      "execution_count": 76,
      "outputs": [
        {
          "output_type": "stream",
          "name": "stdout",
          "text": [
            "1440\n"
          ]
        }
      ]
    },
    {
      "cell_type": "markdown",
      "source": [
        "**Ejercicio 11**\n",
        "\n",
        "**Registro de Tareas y Proyectos**\n",
        "\n",
        "*Descripción: Una empresa quiere gestionar las tareas y proyectos de sus empleados. Cada proyecto tiene una lista de tareas, y cada tarea tiene un estado (completada o pendiente), una prioridad, y un plazo.*\n",
        "\n",
        "*Tareas:*\n",
        "\n",
        "*   *Crear una lista de diccionarios donde cada diccionario represente un proyecto, con una lista de tareas asociadas.*\n",
        "*   *Implementar funciones para agregar y eliminar proyectos y tareas.*\n",
        "*   *Actualizar el estado y la prioridad de las tareas.*\n",
        "*   *Filtrar y listar tareas por estado (completadas o pendientes) y por prioridad.*\n",
        "*   *Generar un informe de tareas por proyecto y su estado de avance.*"
      ],
      "metadata": {
        "id": "LTpLHFqKBMOz"
      }
    },
    {
      "cell_type": "code",
      "source": [
        "import pandas as pd\n",
        "import datetime\n",
        "# Lista de diccionarios donde cada diccionario represente un proyecto, con una lista de tareas asociadas.\n",
        "proyecto_1 = {\"proyecto 1\": []}\n",
        "proyecto_2 = {\"proyecto 2\": []}\n",
        "proyecto_3 = {\"proyecto 3\": []}\n",
        "\n",
        "# Funciones para agregar y eliminar proyectos y tareas.\n",
        "proyectos = [proyecto_1, proyecto_2, proyecto_3]\n",
        "tareas = []\n",
        "\n",
        "def agregar_proyecto(nombre):\n",
        "  nuevo_proyecto = {nombre: []}\n",
        "  proyectos.append(nuevo_proyecto)\n",
        "  return\n",
        "\n",
        "def agregar_tarea(proyecto, nombre, estado, prioridad, plazo):\n",
        "  nueva_tarea = {\"nombre\": nombre, \"estado\": estado, \"prioridad\": prioridad, \"plazo\": plazo}\n",
        "  proyecto[list(proyecto.keys())[0]].append(nueva_tarea)\n",
        "  tareas.append(nueva_tarea)\n",
        "  return\n",
        "\n",
        "def eliminar_proyecto(nombre):\n",
        "  for proyecto in proyectos:\n",
        "    if list(proyecto.keys())[0] == nombre:\n",
        "      proyectos.remove(proyecto)\n",
        "      return\n",
        "  return\n",
        "\n",
        "def eliminar_tarea(nombre):\n",
        "  for tarea in tareas:\n",
        "    if tarea[\"nombre\"] == nombre:\n",
        "      tareas.remove(tarea)\n",
        "  for proyecto in proyectos:\n",
        "    for tarea in proyecto[list(proyecto.keys())[0]]:\n",
        "      if tarea[\"nombre\"] == nombre:\n",
        "        proyecto[list(proyecto.keys())[0]].remove(tarea)\n",
        "  return\n",
        "\n",
        "# Actualizar el estado y la prioridad de las tareas.\n",
        "def actualizar_estado(nombre, nuevo_estado):\n",
        "  for tarea in tareas:\n",
        "    if tarea[\"nombre\"] == nombre:\n",
        "      tarea[\"estado\"] = nuevo_estado\n",
        "      return\n",
        "  return\n",
        "\n",
        "def actualizar_prioridad(nombre, nueva_prioridad):\n",
        "  for tarea in tareas:\n",
        "    if tarea[\"nombre\"] == nombre:\n",
        "      tarea[\"prioridad\"] = nueva_prioridad\n",
        "      return\n",
        "  return\n",
        "\n",
        "#Filtrar y listar tareas por estado (completadas o pendientes) y por prioridad.\n",
        "\n",
        "def filtrar_tareas_estado(estado):\n",
        "  tareas_filtradas = [tarea for tarea in tareas if tarea[\"estado\"] == estado]\n",
        "  return tareas_filtradas\n",
        "\n",
        "def filtrar_tareas_prioridad(prioridad):\n",
        "  tareas_filtradas = [tarea for tarea in tareas if tarea[\"prioridad\"] == prioridad]\n",
        "  return tareas_filtradas\n",
        "\n",
        "#Generar un informe de tareas por proyecto y su estado de avance.\n",
        "def informe_tareas():\n",
        "  informe = []\n",
        "  for proyecto in proyectos:\n",
        "    nombre_proyecto = list(proyecto.keys())[0]\n",
        "    tareas_proyecto = proyecto[nombre_proyecto]\n",
        "    tareas_completadas = sum(1 for tarea in tareas_proyecto if tarea[\"estado\"] == \"completada\")\n",
        "    total_tareas = len(tareas_proyecto)\n",
        "    estado_avance = f\"{tareas_completadas}/{total_tareas}\"\n",
        "    informe.append({\"proyecto\": nombre_proyecto, \"estado_avance\": estado_avance})\n",
        "  return informe\n",
        "\n",
        "print(\"--\"*30)\n",
        "print(\"Actualización de tareas\")\n",
        "print(\"--\"*30)\n",
        "agregar_proyecto(\"proyecto 4\")\n",
        "agregar_tarea(proyecto_1, \"tarea 5\", \"completada\", \"alta\", \"2023-06-01\")\n",
        "agregar_tarea(proyecto_2, \"tarea 6\", \"pendiente\", \"media\", \"2023-06-02\")\n",
        "agregar_tarea(proyecto_3, \"tarea 7\", \"completada\", \"baja\", \"2023-06-03\")\n",
        "print(\"Proyectos actuales: \\n\", proyectos)\n",
        "print(\"Tareas actuales: \\n\", tareas)\n",
        "\n",
        "print(\"--\"*30)\n",
        "print(\"Actualización de estados\")\n",
        "print(\"--\"*30)\n",
        "actualizar_estado(\"tarea 5\", \"pendiente\")\n",
        "print(\"Tareas actuales: \\n\", tareas)\n",
        "\n",
        "print(\"--\"*30)\n",
        "print(\"Actualización de prioridades\")\n",
        "print(\"--\"*30)\n",
        "actualizar_prioridad(\"tarea 5\", \"media\")\n",
        "print(\"Tareas actuales: \\n\", tareas)\n",
        "\n",
        "print(\"--\"*30)\n",
        "print(\"Filtrado de tareas por estado\")\n",
        "print(\"--\"*30)\n",
        "tareas_completadas = filtrar_tareas_estado(\"completada\")\n",
        "print(\"Tareas completadas: \\n\", tareas_completadas)\n",
        "\n",
        "print(\"--\"*30)\n",
        "print(\"Filtrado de tareas por prioridad\")\n",
        "print(\"--\"*30)\n",
        "tareas_media = filtrar_tareas_prioridad(\"media\")\n",
        "print(\"Tareas con prioridad media: \\n\", tareas_media)\n",
        "\n",
        "print(\"--\"*30)\n",
        "print(\"Eliminación de proyectos y tareas\")\n",
        "print(\"--\"*30)\n",
        "eliminar_proyecto(\"proyecto 4\")\n",
        "eliminar_tarea(\"tarea 6\")\n",
        "print(\"Proyectos actuales: \\n\", proyectos)\n",
        "print(\"Tareas actuales: \\n\", tareas)\n",
        "\n",
        "print(\"--\"*30)\n",
        "print(\"Informe de tareas por proyecto\")\n",
        "print(\"--\"*30)\n",
        "informe = informe_tareas()\n",
        "df = pd.DataFrame(informe)\n",
        "print(df)"
      ],
      "metadata": {
        "id": "f8LNooJUBfao",
        "colab": {
          "base_uri": "https://localhost:8080/"
        },
        "outputId": "76dc2762-b05c-44da-a9b6-1c9e4a5e21ce"
      },
      "execution_count": 103,
      "outputs": [
        {
          "output_type": "stream",
          "name": "stdout",
          "text": [
            "------------------------------------------------------------\n",
            "Actualización de tareas\n",
            "------------------------------------------------------------\n",
            "Proyectos actuales: \n",
            " [{'proyecto 1': [{'nombre': 'tarea 5', 'estado': 'completada', 'prioridad': 'alta', 'plazo': '2023-06-01'}]}, {'proyecto 2': [{'nombre': 'tarea 6', 'estado': 'pendiente', 'prioridad': 'media', 'plazo': '2023-06-02'}]}, {'proyecto 3': [{'nombre': 'tarea 7', 'estado': 'completada', 'prioridad': 'baja', 'plazo': '2023-06-03'}]}, {'proyecto 4': []}]\n",
            "Tareas actuales: \n",
            " [{'nombre': 'tarea 5', 'estado': 'completada', 'prioridad': 'alta', 'plazo': '2023-06-01'}, {'nombre': 'tarea 6', 'estado': 'pendiente', 'prioridad': 'media', 'plazo': '2023-06-02'}, {'nombre': 'tarea 7', 'estado': 'completada', 'prioridad': 'baja', 'plazo': '2023-06-03'}]\n",
            "------------------------------------------------------------\n",
            "Actualización de estados\n",
            "------------------------------------------------------------\n",
            "Tareas actuales: \n",
            " [{'nombre': 'tarea 5', 'estado': 'pendiente', 'prioridad': 'alta', 'plazo': '2023-06-01'}, {'nombre': 'tarea 6', 'estado': 'pendiente', 'prioridad': 'media', 'plazo': '2023-06-02'}, {'nombre': 'tarea 7', 'estado': 'completada', 'prioridad': 'baja', 'plazo': '2023-06-03'}]\n",
            "------------------------------------------------------------\n",
            "Actualización de prioridades\n",
            "------------------------------------------------------------\n",
            "Tareas actuales: \n",
            " [{'nombre': 'tarea 5', 'estado': 'pendiente', 'prioridad': 'media', 'plazo': '2023-06-01'}, {'nombre': 'tarea 6', 'estado': 'pendiente', 'prioridad': 'media', 'plazo': '2023-06-02'}, {'nombre': 'tarea 7', 'estado': 'completada', 'prioridad': 'baja', 'plazo': '2023-06-03'}]\n",
            "------------------------------------------------------------\n",
            "Filtrado de tareas por estado\n",
            "------------------------------------------------------------\n",
            "Tareas completadas: \n",
            " [{'nombre': 'tarea 7', 'estado': 'completada', 'prioridad': 'baja', 'plazo': '2023-06-03'}]\n",
            "------------------------------------------------------------\n",
            "Filtrado de tareas por prioridad\n",
            "------------------------------------------------------------\n",
            "Tareas con prioridad media: \n",
            " [{'nombre': 'tarea 5', 'estado': 'pendiente', 'prioridad': 'media', 'plazo': '2023-06-01'}, {'nombre': 'tarea 6', 'estado': 'pendiente', 'prioridad': 'media', 'plazo': '2023-06-02'}]\n",
            "------------------------------------------------------------\n",
            "Eliminación de proyectos y tareas\n",
            "------------------------------------------------------------\n",
            "Proyectos actuales: \n",
            " [{'proyecto 1': [{'nombre': 'tarea 5', 'estado': 'pendiente', 'prioridad': 'media', 'plazo': '2023-06-01'}]}, {'proyecto 2': []}, {'proyecto 3': [{'nombre': 'tarea 7', 'estado': 'completada', 'prioridad': 'baja', 'plazo': '2023-06-03'}]}]\n",
            "Tareas actuales: \n",
            " [{'nombre': 'tarea 5', 'estado': 'pendiente', 'prioridad': 'media', 'plazo': '2023-06-01'}, {'nombre': 'tarea 7', 'estado': 'completada', 'prioridad': 'baja', 'plazo': '2023-06-03'}]\n",
            "------------------------------------------------------------\n",
            "Informe de tareas por proyecto\n",
            "------------------------------------------------------------\n",
            "     proyecto estado_avance\n",
            "0  proyecto 1           0/1\n",
            "1  proyecto 2           0/0\n",
            "2  proyecto 3           1/1\n"
          ]
        }
      ]
    },
    {
      "cell_type": "code",
      "source": [],
      "metadata": {
        "id": "ii9KGdu3OM6T"
      },
      "execution_count": null,
      "outputs": []
    }
  ]
}