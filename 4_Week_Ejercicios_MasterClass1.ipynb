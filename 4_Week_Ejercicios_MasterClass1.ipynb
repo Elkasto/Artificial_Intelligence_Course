{
  "cells": [
    {
      "cell_type": "markdown",
      "source": [
        "**Ejercicio 1:** *Crea una lista de todos los números del 1 a 100 que sean divisibles por un número que introduzca el usuario. Este número tiene que estar comprendido entre 2 y 7. Pinta la lista por pantalla.*"
      ],
      "metadata": {
        "id": "BxWuOl9MAWRa"
      }
    },
    {
      "cell_type": "code",
      "source": [
        "lista = []\n",
        "numero_usuario = int(input(\"Ingrese un número entre 2 y 7: \"))\n",
        "while 2 > numero_usuario or numero_usuario > 7:\n",
        "  print(\"El número debe estar entre 2 y 7.\")\n",
        "  numero_usuario = int(input(\"Ingrese un número entre 2 y 7: \"))\n",
        "if 2 <= numero_usuario <= 7:\n",
        "  for i in range(1, 101):\n",
        "    if i % numero_usuario == 0:\n",
        "      lista.append(i)\n",
        "print(lista)\n"
      ],
      "metadata": {
        "colab": {
          "base_uri": "https://localhost:8080/"
        },
        "id": "ZoOtMyFWAiJ3",
        "outputId": "d0e40543-4f0c-4a1e-f383-2dd6b77c59ef"
      },
      "execution_count": 2,
      "outputs": [
        {
          "output_type": "stream",
          "name": "stdout",
          "text": [
            "Ingrese un número entre 2 y 7: 10\n",
            "El número debe estar entre 2 y 7.\n",
            "Ingrese un número entre 2 y 7: 9\n",
            "El número debe estar entre 2 y 7.\n",
            "Ingrese un número entre 2 y 7: 5\n",
            "[5, 10, 15, 20, 25, 30, 35, 40, 45, 50, 55, 60, 65, 70, 75, 80, 85, 90, 95, 100]\n"
          ]
        }
      ]
    },
    {
      "cell_type": "markdown",
      "metadata": {
        "id": "ungNLPE3rm6K"
      },
      "source": [
        "\n",
        "**Semana 4:**\n",
        "\n",
        "Caso de Estudio: Sistema de Evaluación de Condición de Vehículos Usados\n",
        "\n",
        "Contexto:\n",
        "\n",
        "Una empresa de venta de vehículos usados desea implementar un sistema automatizado para evaluar la condición de los coches que recibe para su inventario. La evaluación se basa en varios factores: el kilometraje, el año de fabricación, el estado del motor y el estado de la carrocería. Dependiendo de estos factores, los vehículos se clasifican en cuatro categorías de condición: \"Excelente\", \"Buena\", \"Regular\" y \"Pobre\".\n",
        "\n",
        "Reglas de Clasificación\n",
        "Excelente:\n",
        "\n",
        "Kilometraje < 20,000 km\n",
        "Año de fabricación > 2018\n",
        "Estado del motor: Bueno\n",
        "Estado de la carrocería: Sin daños\n",
        "Buena:\n",
        "\n",
        "Kilometraje entre 20,000 km y 60,000 km\n",
        "Año de fabricación entre 2015 y 2018\n",
        "Estado del motor: Bueno o Regular\n",
        "Estado de la carrocería: Mínimos daños\n",
        "Regular:\n",
        "\n",
        "Kilometraje entre 60,000 km y 100,000 km\n",
        "Año de fabricación entre 2010 y 2015\n",
        "Estado del motor: Regular\n",
        "Estado de la carrocería: Daños visibles\n",
        "Pobre:\n",
        "\n",
        "Kilometraje > 100,000 km\n",
        "Año de fabricación < 2010\n",
        "Estado del motor: Malo\n",
        "Estado de la carrocería: Daños severos"
      ]
    },
    {
      "cell_type": "code",
      "execution_count": null,
      "metadata": {
        "colab": {
          "base_uri": "https://localhost:8080/"
        },
        "id": "YnDkWGlVrlGf",
        "outputId": "3fdbe2fc-9aa0-434f-ee39-711bcce5c3f0"
      },
      "outputs": [
        {
          "name": "stdout",
          "output_type": "stream",
          "text": [
            "Ingrese la marca del vehículo: Mazda\n",
            "Ingrese el kilometraje del vehículo: 19000\n",
            "Ingrese el año de fabricación del vehículo: 2017\n",
            "Ingrese el estado del motor del vehículo (Bueno, Regular, Malo): Bueno\n",
            "Ingrese el estado de la carrocería del vehículo (Sin daños, Mínimos daños, Daños visibles, Daños severos): Sin daños\n",
            "La condición del vehículo Mazda no se puede evaluar\n"
          ]
        }
      ],
      "source": [
        "# Definición de variables\n",
        "vehiculo = input(\"Ingrese la marca del vehículo: \")\n",
        "vehiculo_km = int(input(\"Ingrese el kilometraje del vehículo: \"))\n",
        "vehiculo_anio = int(input(\"Ingrese el año de fabricación del vehículo: \"))\n",
        "vehiculo_motor = input(\"Ingrese el estado del motor del vehículo (Bueno, Regular, Malo): \")\n",
        "vehiculo_carroceria = input(\"Ingrese el estado de la carrocería del vehículo (Sin daños, Mínimos daños, Daños visibles, Daños severos): \")\n",
        "\n",
        "# condicionales para evaluar la condición del vehículo\n",
        "\n",
        "if vehiculo_km < 20000 and vehiculo_anio > 2018 and vehiculo_motor == \"Bueno\" and vehiculo_carroceria == \"Sin daños\":\n",
        "    print(f\"La condición del vehículo {vehiculo} es Buena\")\n",
        "elif 20000 <= vehiculo_km <= 60000 and (vehiculo_anio >= 2015 and vehiculo_anio <= 2018) and (vehiculo_motor == \"Bueno\" or vehiculo_motor == \"Regular\"):\n",
        "    print(f\"La condición del vehículo {vehiculo} es Regular\")\n",
        "elif 60000 < vehiculo_km < 100000 and (vehiculo_anio >= 2010 and vehiculo_anio <= 2015) and vehiculo_motor == \"Regular\" and vehiculo_carroceria == \"Daños visibles\":\n",
        "    print(f\"La condición del vehículo {vehiculo} es Pobre\")\n",
        "elif vehiculo_km > 100000 and vehiculo_anio < 2010 and vehiculo_motor == \"Malo\" and vehiculo_carroceria == \"Daños severos\":\n",
        "    print(f\"La condición del vehículo {vehiculo} es Mala\")\n",
        "else:\n",
        "    print(f\"Teniendo en cuenta las situaciones dadas, la condición del vehículo {vehiculo} no se puede evaluar\")\n"
      ]
    },
    {
      "cell_type": "markdown",
      "metadata": {
        "id": "7754BNpF8Lgm"
      },
      "source": [
        "**Sala 3:**\n",
        "Caso de Estudio: Análisis de Rendimiento Académico en una Escuela\n",
        "\n",
        "Contexto\n",
        "\n",
        "Una escuela desea implementar un sistema para analizar el rendimiento académico de sus estudiantes. El sistema debe calcular el promedio de calificaciones de cada estudiante, identificar estudiantes con bajo rendimiento, y generar un reporte final con el promedio general del grupo y los estudiantes destacados. Se utilizarán ciclos for y while para procesar los datos de los estudiantes.\n",
        "\n",
        "Detalles del Caso\n",
        "Datos de Entrada:\n",
        "\n",
        "Una lista de estudiantes, donde cada estudiante tiene una lista de calificaciones.\n",
        "Un umbral para identificar a estudiantes de bajo rendimiento (por ejemplo, promedio menor a 60).\n",
        "Un umbral para identificar a estudiantes destacados (por ejemplo, promedio mayor o igual a 90).\n",
        "Objetivos del Sistema:\n",
        "\n",
        "Calcular el promedio de calificaciones de cada estudiante.\n",
        "Identificar estudiantes con bajo rendimiento.\n",
        "Identificar estudiantes destacados.\n",
        "Calcular el promedio general del grupo.\n",
        "Generar un reporte final."
      ]
    },
    {
      "cell_type": "markdown",
      "source": [
        "**Opción 1:**"
      ],
      "metadata": {
        "id": "jadM6ydiBsjK"
      }
    },
    {
      "cell_type": "code",
      "execution_count": null,
      "metadata": {
        "colab": {
          "base_uri": "https://localhost:8080/"
        },
        "id": "beZktB6yHAuN",
        "outputId": "282488a1-66f9-4324-ac3d-240ad4096a44"
      },
      "outputs": [
        {
          "name": "stdout",
          "output_type": "stream",
          "text": [
            "Estudiantes con bajo rendimiento: ['Juan']\n",
            "Estudiantes destacados: ['Miguel', 'Maria', 'Pablo']\n",
            "Promedio general del grupo: 81.93333333333334\n",
            "Calificaciones del estudiante Miguel:\n",
            "Biol: 90\n",
            "Math: 100\n",
            "Art: 100\n",
            "Calificaciones del estudiante Maria:\n",
            "Biol: 90\n",
            "Math: 91.2\n",
            "Art: 99\n",
            "Calificaciones del estudiante Juan:\n",
            "Biol: 90\n",
            "Math: 0\n",
            "Art: 50\n",
            "Calificaciones del estudiante Pablo:\n",
            "Biol: 90\n",
            "Math: 91\n",
            "Art: 92\n",
            "El promedio del estudiante Miguel es: 96.66666666666667\n",
            "El promedio del estudiante Maria es: 93.39999999999999\n",
            "El promedio del estudiante Juan es: 46.666666666666664\n",
            "El promedio del estudiante Pablo es: 91.0\n"
          ]
        }
      ],
      "source": [
        "# Para este ejercicio se utilizaron diccionarios anidados dentro de otro diccionario\n",
        "# Diccionario con la lista de calificaciones de cada estudiante por asignatura\n",
        "calificaciones_estudiantes = {\"Miguel\": {\"Biol\" : 90, \"Math\": 100, \"Art\": 100},\n",
        "                              \"Maria\": {\"Biol\" : 90, \"Math\": 91.2, \"Art\": 99},\n",
        "                              \"Juan\": {\"Biol\" : 90, \"Math\": 0, \"Art\": 50},\n",
        "                              \"Pablo\": {\"Biol\" : 90, \"Math\": 91, \"Art\": 92}}\n",
        "# Creación de variables\n",
        "umbral_bajo = 60\n",
        "umbral_alto = 90\n",
        "promedio_general = 0\n",
        "estudiantes_destacados = []\n",
        "estudiantes_bajo_rendimiento = []\n",
        "\n",
        "# Ciclo for para calcular el promedio de cada estudiante\n",
        "for nombre, calificaciones in calificaciones_estudiantes.items():\n",
        "  promedio = sum(calificaciones.values()) / len(calificaciones)\n",
        "  promedio_general += promedio\n",
        "  if promedio < umbral_bajo:\n",
        "    estudiantes_bajo_rendimiento.append(nombre)\n",
        "  elif promedio >= umbral_alto:\n",
        "    estudiantes_destacados.append(nombre)\n",
        "\n",
        "# Cálculo del promedio general del grupo\n",
        "promedio_general /= len(calificaciones_estudiantes)\n",
        "\n",
        "print(\"Estudiantes con bajo rendimiento:\", estudiantes_bajo_rendimiento)\n",
        "print(\"Estudiantes destacados:\", estudiantes_destacados)\n",
        "print(\"Promedio general del grupo:\", promedio_general)\n",
        "\n",
        "# Ciclo for para imprimir los resultados de cada estudiante\n",
        "for nombre, calificaciones in calificaciones_estudiantes.items():\n",
        "  print(f\"Calificaciones del estudiante {nombre}:\")\n",
        "  for materia, calificacion in calificaciones.items():\n",
        "    print(f\"{materia}: {calificacion}\")\n",
        "\n",
        "# ciclo for para imprimir el promedio general de cada estudiante\n",
        "for nombre, calificaciones in calificaciones_estudiantes.items():\n",
        "  promedio = sum(calificaciones.values()) / len(calificaciones)\n",
        "  print(f\"El promedio del estudiante {nombre} es: {promedio}\")"
      ]
    },
    {
      "cell_type": "markdown",
      "source": [
        "**Opción 2:**"
      ],
      "metadata": {
        "id": "saOkZhuBBwl9"
      }
    },
    {
      "cell_type": "code",
      "execution_count": null,
      "metadata": {
        "colab": {
          "base_uri": "https://localhost:8080/"
        },
        "id": "yxmCOl0ku80n",
        "outputId": "400c61a8-80b5-4ac9-84f1-3af996a14118"
      },
      "outputs": [
        {
          "name": "stdout",
          "output_type": "stream",
          "text": [
            "Estudiantes con bajo rendimiento: ['Juan', 'Pablo']\n",
            "Estudiantes destacados: ['Miguel', 'Maria']\n",
            "Promedio general del grupo: 71.0\n",
            "El promedio del estudiante Miguel es: 90.0\n",
            "El promedio del estudiante Maria es: 99.66666666666667\n",
            "El promedio del estudiante Juan es: 56.666666666666664\n",
            "El promedio del estudiante Pablo es: 37.666666666666664\n"
          ]
        }
      ],
      "source": [
        "# Para este ejercicio se utilizaron listas anidadas dentro de un diccionario\n",
        "# Diccionario con la lista de calificaciones de cada estudiante\n",
        "calificaciones_estudiantes = {\"Miguel\": [90, 80, 100],\n",
        "                              \"Maria\": [100, 100, 99],\n",
        "                              \"Juan\": [70, 60, 40],\n",
        "                              \"Pablo\": [50, 30, 33]}\n",
        "# variables\n",
        "umbral_bajo = 60\n",
        "umbral_alto = 90\n",
        "promedio_general = 0\n",
        "estudiantes_destacados = []\n",
        "estudiantes_bajo_rendimiento = []\n",
        "\n",
        "# Ciclo for para calcular el promedio de cada estudiante\n",
        "for nombre, calificaciones in calificaciones_estudiantes.items():\n",
        "  promedio = sum(calificaciones) / len(calificaciones)\n",
        "  promedio_general += promedio\n",
        "  if promedio < umbral_bajo:\n",
        "    estudiantes_bajo_rendimiento.append(nombre)\n",
        "  elif promedio >= umbral_alto:\n",
        "    estudiantes_destacados.append(nombre)\n",
        "\n",
        "# Cálculo del promedio general del grupo\n",
        "promedio_general /= len(calificaciones_estudiantes)\n",
        "\n",
        "print(\"Estudiantes con bajo rendimiento:\", estudiantes_bajo_rendimiento)\n",
        "print(\"Estudiantes destacados:\", estudiantes_destacados)\n",
        "print(\"Promedio general del grupo:\", promedio_general)\n",
        "\n",
        "# Ciclo for para imprimir los resultados de cada estudiante\n",
        "for nombre, calificaciones in calificaciones_estudiantes.items():\n",
        "  promedio = sum(calificaciones) / len(calificaciones)\n",
        "  print(f\"El promedio del estudiante {nombre} es: {promedio}\")\n",
        "\n",
        "\n",
        "\n"
      ]
    },
    {
      "cell_type": "markdown",
      "source": [
        "**Opción 3:**"
      ],
      "metadata": {
        "id": "od_Wie8PByTK"
      }
    },
    {
      "cell_type": "code",
      "execution_count": 3,
      "metadata": {
        "id": "e3UX0BDQ9O2Q",
        "colab": {
          "base_uri": "https://localhost:8080/"
        },
        "outputId": "899cfcbd-8abf-4be5-8de7-74f8925747c0"
      },
      "outputs": [
        {
          "output_type": "stream",
          "name": "stdout",
          "text": [
            "Ingrese la cantidad de estudiantes: 3\n",
            "\n",
            "Ingrese el nombre del estudiante: Maria\n",
            "Ingrese la calificación: 10\n",
            "Ingrese la calificación: 100\n",
            "Ingrese la calificación: 100\n",
            "Calificaciones del estudiante: Maria   [10.0, 100.0, 100.0]\n",
            "El promedio del estudiante Maria es: 70.0\n",
            "\n",
            "Ingrese el nombre del estudiante: Pardo\n",
            "Ingrese la calificación: 100\n",
            "Ingrese la calificación: 100\n",
            "Ingrese la calificación: 80\n",
            "Calificaciones del estudiante: Pardo   [100.0, 100.0, 80.0]\n",
            "El promedio del estudiante Pardo es: 93.3\n",
            "\n",
            "Ingrese el nombre del estudiante: Sofia\n",
            "Ingrese la calificación: 70\n",
            "Ingrese la calificación: 70\n",
            "Ingrese la calificación: 70\n",
            "Calificaciones del estudiante: Sofia   [70.0, 70.0, 70.0]\n",
            "El promedio del estudiante Sofia es: 70.0\n",
            "\n",
            "------ Reporte Final -------\n",
            "El promedio general del grupo es: 77.8\n",
            "Los estudiantes con bajo rendimiento son: []\n",
            "Los estudiantes destacados son: ['Pardo']\n"
          ]
        }
      ],
      "source": [
        "cant_estudiantes = int(input(\"Ingrese la cantidad de estudiantes: \"))\n",
        "estudiantes = []\n",
        "estudantes_bajo_rendimiento = []\n",
        "estudantes_destacados = []\n",
        "promedio_general = 0\n",
        "for i in range(cant_estudiantes):\n",
        "  nombre=input(\"\\nIngrese el nombre del estudiante: \")\n",
        "  estudiantes.append(nombre)\n",
        "  calificaciones = []\n",
        "  promedio = 0\n",
        "  for j in range(3):\n",
        "    calificacion = float(input(\"Ingrese la calificación: \"))\n",
        "    while calificacion < 10 or calificacion > 100:\n",
        "      calificacion = float(input(\"Ingrese la calificación (entre 10 y 100): \"))\n",
        "    promedio += calificacion # promedio = promedio + calificacion\n",
        "    calificaciones.append(calificacion)\n",
        "  promedio = promedio/3\n",
        "  if promedio < 60:\n",
        "    estudantes_bajo_rendimiento.append(estudiantes[i])\n",
        "  if promedio >= 90:\n",
        "    estudantes_destacados.append(estudiantes[i])\n",
        "  promedio_general += promedio\n",
        "  print(\"Calificaciones del estudiante:\",estudiantes[i],\" \",calificaciones)\n",
        "  print(\"El promedio del estudiante\",estudiantes[i],\"es:\",round(promedio,1))\n",
        "  i+=1\n",
        "promedio_general = promedio_general/cant_estudiantes\n",
        "print(\"\\n------ Reporte Final -------\")\n",
        "print(\"El promedio general del grupo es:\",round(promedio_general,1))\n",
        "print(\"Los estudiantes con bajo rendimiento son:\",estudantes_bajo_rendimiento)\n",
        "print(\"Los estudiantes destacados son:\",estudantes_destacados)"
      ]
    }
  ],
  "metadata": {
    "colab": {
      "provenance": []
    },
    "kernelspec": {
      "display_name": "Python 3",
      "name": "python3"
    },
    "language_info": {
      "name": "python"
    }
  },
  "nbformat": 4,
  "nbformat_minor": 0
}