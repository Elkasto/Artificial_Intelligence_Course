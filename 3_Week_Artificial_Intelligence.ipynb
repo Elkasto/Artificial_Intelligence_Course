{
  "nbformat": 4,
  "nbformat_minor": 0,
  "metadata": {
    "colab": {
      "provenance": []
    },
    "kernelspec": {
      "name": "python3",
      "display_name": "Python 3"
    },
    "language_info": {
      "name": "python"
    }
  },
  "cells": [
    {
      "cell_type": "markdown",
      "source": [
        "**Estructuras de repetición for**"
      ],
      "metadata": {
        "id": "6J_ShqtKtu_L"
      }
    },
    {
      "cell_type": "markdown",
      "source": [
        "**Ejercicio 1:** *Crear un algoritmo que muestre los primeros 10 números de la sucesión de Fibonacci. La sucesión comienza con los números 0 y 1 y, a partir de éstos, cada elemento es la suma de los dos números anteriores en la secuencia: 0,1,1,2,3,4,8,13,21,34,55...*"
      ],
      "metadata": {
        "id": "T-SAzMHltzdw"
      }
    },
    {
      "cell_type": "code",
      "execution_count": null,
      "metadata": {
        "id": "IARmdoYxgDTZ",
        "colab": {
          "base_uri": "https://localhost:8080/"
        },
        "outputId": "8e2c2434-6284-4b9a-cff6-c41275f3769a"
      },
      "outputs": [
        {
          "output_type": "stream",
          "name": "stdout",
          "text": [
            "0\n",
            "1\n",
            "1\n",
            "2\n",
            "3\n",
            "5\n",
            "8\n",
            "13\n",
            "21\n",
            "34\n"
          ]
        }
      ],
      "source": [
        "def fibonacci(n):\n",
        "    a, b = 0, 1\n",
        "    for _ in range(n):\n",
        "        a, b = b, a + b\n",
        "    return a\n",
        "\n",
        "for i in range(10):\n",
        "    print(fibonacci(i))\n"
      ]
    },
    {
      "cell_type": "markdown",
      "source": [
        "**Ejercicio 2:** *Dado un numero entero positivo, mostrar su factorial. El factorial de un número se obtiene multiplicando todos los números enteros positivos que hay entre el 1 y ese número*"
      ],
      "metadata": {
        "id": "VYPgFPvpGUVA"
      }
    },
    {
      "cell_type": "code",
      "source": [
        "def factorial(number):\n",
        "    if number == 0:\n",
        "        return 1\n",
        "    else:\n",
        "        resultado = 1\n",
        "        for i in range(1, number + 1):\n",
        "            resultado *= i\n",
        "        return resultado\n",
        "\n",
        "number = int(input(\"Ingrese un número entero positivo: \"))\n",
        "print(f\"El factorial de {number} es {factorial(number)}\")"
      ],
      "metadata": {
        "colab": {
          "base_uri": "https://localhost:8080/"
        },
        "id": "EbnLeEoiGzcI",
        "outputId": "e28709c5-abe1-4eda-865f-1d80dbdbe5bb"
      },
      "execution_count": null,
      "outputs": [
        {
          "output_type": "stream",
          "name": "stdout",
          "text": [
            "Ingrese un número entero positivo: 5\n",
            "El factorial de 5 es 120\n"
          ]
        }
      ]
    },
    {
      "cell_type": "markdown",
      "source": [
        "**Ejercicio 3:** *Solicitar al usuario que ingrese una frase y luego imprimir la cantidad de volaces que se encuentran en dicha frase*"
      ],
      "metadata": {
        "id": "MHJQxrirIEof"
      }
    },
    {
      "cell_type": "code",
      "source": [
        "frase = input(\"Ingrese una frase: \")\n",
        "vocales = \"aeiouAEIOU\"\n",
        "cantidad_vocales = 0\n",
        "for letra in frase:\n",
        "    if letra in vocales:\n",
        "        cantidad_vocales += 1\n",
        "print(f\"La cantidad de vocales en la frase es: {cantidad_vocales}\")"
      ],
      "metadata": {
        "colab": {
          "base_uri": "https://localhost:8080/"
        },
        "id": "tsoiFLc-IDi2",
        "outputId": "357a7919-42a9-43bf-e6a3-f2a3096d0518"
      },
      "execution_count": null,
      "outputs": [
        {
          "output_type": "stream",
          "name": "stdout",
          "text": [
            "Ingrese una frase: yo soy cristian\n",
            "La cantidad de vocales en la frase es: 5\n"
          ]
        }
      ]
    },
    {
      "cell_type": "markdown",
      "source": [
        "**Ejercicio 4:** *Escribir un programa que solicite al usuario una cantidad y luego itere la cantidad de veces dada. En cada iteración, solicitar al usuario que ingrese un número. Al finalizar, mostrar la suma de todos los números ingresados*"
      ],
      "metadata": {
        "id": "F0QgmRc4Ib3c"
      }
    },
    {
      "cell_type": "code",
      "source": [
        "cantidad = int(input(\"Ingrese la cantidad de números a ingresar: \"))\n",
        "suma = 0\n",
        "for i in range(cantidad):\n",
        "    numero = int(input(f\"Ingrese el número {i+1}: \"))\n",
        "    suma += numero\n",
        "print(f\"La suma de los números ingresados es: {suma}\")"
      ],
      "metadata": {
        "colab": {
          "base_uri": "https://localhost:8080/"
        },
        "id": "g-FuDW8PHth_",
        "outputId": "6013cb64-9689-4046-9786-91640dfe3129"
      },
      "execution_count": null,
      "outputs": [
        {
          "output_type": "stream",
          "name": "stdout",
          "text": [
            "Ingrese la cantidad de números a ingresar: 4\n",
            "Ingrese el número 1: 4\n",
            "Ingrese el número 2: 6\n",
            "Ingrese el número 3: 3\n",
            "Ingrese el número 4: 6\n",
            "La suma de los números ingresados es: 19\n"
          ]
        }
      ]
    },
    {
      "cell_type": "markdown",
      "source": [
        "**Ejercicio 5:** *Escribir un programa que permita al usuario ingresar 6 números enteros, que pueden ser positivos o negativos. Al finalizar, mostrar la sumatoría de los números negativos y el promedio de los positivos.*\n",
        "\n",
        "**Nota:** *no olvidar que no es posible dividir por cero, por lo que es necesario evitar que el programa arroje un error si no se ingresaron números positivos.*"
      ],
      "metadata": {
        "id": "NwSoIQZeJFCu"
      }
    },
    {
      "cell_type": "code",
      "source": [
        "suma_negativos = 0\n",
        "suma_positivos = 0\n",
        "cantidad_positivos = 0\n",
        "for i in range(6):\n",
        "    numero = int(input(f\"Ingrese el número {i+1}: \"))\n",
        "    if numero < 0:\n",
        "        suma_negativos += numero\n",
        "    if numero > 0:\n",
        "        suma_positivos += numero\n",
        "        cantidad_positivos += 1\n",
        "if cantidad_positivos > 0:\n",
        "    promedio_positivos = suma_positivos / cantidad_positivos\n",
        "    print(f\"La suma de los números negativos es: {suma_negativos}\")\n",
        "    print(f\"El promedio de los números positivos es: {promedio_positivos}\")\n",
        "else:\n",
        "    print(\"No se ingresaron números positivos\")\n",
        "    print(f\"La suma de los números negativos es: {suma_negativos}\")"
      ],
      "metadata": {
        "colab": {
          "base_uri": "https://localhost:8080/"
        },
        "id": "dUEETxJrMcIz",
        "outputId": "d06c3fba-2e76-472d-b94f-b805edfa9c14"
      },
      "execution_count": null,
      "outputs": [
        {
          "output_type": "stream",
          "name": "stdout",
          "text": [
            "Ingrese el número 1: 0\n",
            "Ingrese el número 2: 0\n",
            "Ingrese el número 3: 0\n",
            "No se ingresaron números positivos\n",
            "La suma de los números negativos es: 0\n"
          ]
        }
      ]
    },
    {
      "cell_type": "markdown",
      "source": [
        "**Ejercicio 6:** *Realizar un programa que lea dos números por teclado y permita elegir entre 3 opciones en un menú:*\n",
        "\n",
        "\n",
        "*   Mostrar una suma de los dos números\n",
        "*   Mostrar una resta de los dos números (el primero menos el segundo)\n",
        "*   Mostrar una multiplicación de los dos números\n",
        "\n",
        "*En caso de no introducir una opción válida, el programa informará que la opción no es correcta.*\n",
        "\n",
        "*Instrucciones*: Para la solución de este problema, se requiere que el usuario escriba un script en donde se enumeren tres posibilidades. En cada posibilidad, el usuario deberá ingresar dos números, los cuales tendrá que operar según la opción escogida. La primera opción será la suma (numero1+numero2) La segunda será la resta (numero1 - numero 2) La tercera opción es la multiplicación de los números (numero1 * numero2). Si hay un error al ingresar los números, se debe colocar un mensaje que indique: información incorrecta"
      ],
      "metadata": {
        "id": "xa_BAu6UMXqs"
      }
    },
    {
      "cell_type": "code",
      "source": [
        "number1 = int(input(\"Ingrese el primer número: \"))\n",
        "number2 = int(input(\"Ingrese el segundo número: \"))\n",
        "\n",
        "print(\"¿Qué operación desea realizar?\")\n",
        "print(\"1. Sumar\")\n",
        "print(\"2. Restar\")\n",
        "print(\"3. Multiplicar\")\n",
        "opcion = int(input(\"Ingrese el número de la opción deseada: \"))\n",
        "while opcion:\n",
        "  if opcion == 1:\n",
        "      print(f\"La suma de los números es: {number1 + number2}\")\n",
        "      break\n",
        "  elif opcion == 2:\n",
        "      print(f\"La resta de los números es: {number1 - number2}\")\n",
        "      break\n",
        "  elif opcion == 3:\n",
        "      print(f\"La multiplicación de los números es: {number1 * number2}\")\n",
        "      break\n",
        "  else:\n",
        "      print(\"Opción incorrecta\")\n",
        "      opcion = int(input(\"Ingrese el número de la opción deseada: \"))\n",
        "\n",
        "\n"
      ],
      "metadata": {
        "id": "WWpODq5hKYwi",
        "colab": {
          "base_uri": "https://localhost:8080/"
        },
        "outputId": "0474117b-ed8e-4d1a-fe88-595416a6e55a"
      },
      "execution_count": null,
      "outputs": [
        {
          "output_type": "stream",
          "name": "stdout",
          "text": [
            "Ingrese el primer número: 2\n",
            "Ingrese el segundo número: 3\n",
            "¿Qué operación desea realizar?\n",
            "1. Sumar\n",
            "2. Restar\n",
            "3. Multiplicar\n",
            "Ingrese el número de la opción deseada: 4\n",
            "Opción incorrecta\n",
            "Ingrese el número de la opción deseada: 4\n",
            "Opción incorrecta\n",
            "Ingrese el número de la opción deseada: 1\n",
            "La suma de los números es: 5\n"
          ]
        }
      ]
    },
    {
      "cell_type": "markdown",
      "source": [
        "**Ejercicio 7:** *Realiza un programa que pida al usuario un número entero del 0 al 9, y que mientras el número no sea correcto se repita el proceso. Luego debe comprobar si el número se encuentra en la lista de números y notificarlo.*\n",
        "*Sugerencia: La sintaxis \"valor in lista\" permite comprobar fácilmente si un valor se encuentra en una lista (devuelve True o False)*\n",
        "\n",
        "*Instrucciones*:\n",
        "\n",
        "Para la solución de este problema, se requiere que el usuario escriba un script y utilice la estructura \"While\".\n",
        "\n",
        "Se debe tener como prueba una lista llamada numero=[1,2,3] Con números enteros del 0 al 9. Se debe solicitar al usuario ingresar el número que quiera comprobar.\n",
        "\n",
        "Ejemplo, si la lista de números tiene la siguiente estructura: numero=[1,3,5,9] y se ingresa por consola el numero 8, debe salir un mensaje que diga que él numero \"8\" no se encuentra en la lista.\n",
        "\n",
        "Si el número que se coloca está en la lista, sale un mensaje que indique, el numero \"x\" esta en la lista\n"
      ],
      "metadata": {
        "id": "IYK7t9-ikN_w"
      }
    },
    {
      "cell_type": "code",
      "source": [
        "lista = [1, 2, 4, 6, 7, 9]\n",
        "while True:\n",
        "  try:\n",
        "    numero = int(input(\"Ingrese un número del 1 al 9: \"))\n",
        "    if numero < 1 or numero > 9:\n",
        "      raise ValueError\n",
        "    if numero in lista:\n",
        "      print(f\"El número {numero} está en la lista\")\n",
        "      break\n",
        "    else:\n",
        "      print(f\"El número {numero} no está en la lista\")\n",
        "      break\n",
        "  except ValueError:\n",
        "    print(\"Información incorrecta, ingrese un número entre 1 y 9\")\n",
        "    continue\n",
        "\n"
      ],
      "metadata": {
        "colab": {
          "base_uri": "https://localhost:8080/"
        },
        "id": "bZBCeyZzjaVu",
        "outputId": "839c1910-c651-4136-d5b6-196cac98c656"
      },
      "execution_count": null,
      "outputs": [
        {
          "output_type": "stream",
          "name": "stdout",
          "text": [
            "Ingrese un número del 1 al 9: 10\n",
            "Información incorrecta, ingrese un número entre 1 y 9\n",
            "Ingrese un número del 1 al 9: 10\n",
            "Información incorrecta, ingrese un número entre 1 y 9\n",
            "Ingrese un número del 1 al 9: 0\n",
            "Información incorrecta, ingrese un número entre 1 y 9\n",
            "Ingrese un número del 1 al 9: s\n",
            "Información incorrecta, ingrese un número entre 1 y 9\n",
            "Ingrese un número del 1 al 9: 2\n",
            "El número 2 está en la lista\n"
          ]
        }
      ]
    },
    {
      "cell_type": "markdown",
      "source": [
        "**Ejercicio 8:** *Realiza un programa que pida al usuario cuantos números quiere introducir. Luego lee todos los números que se han introducido y se realiza una operación de media aritmética*\n",
        "\n",
        "*Instrucciones: Para solucionar este problema, se requiere que el usuario ingrese una cantidad limitada de números por consola. El programa debe solicitar la cantidad de números a ingresar. Con los números ingresados debe realizar el calculo de la media. Este calculo es la suma de todos los números dividido por el total de números sumados. Ejemplo, se ingresan los números 1,2,4,5, el calculo es 1+2+4+5/4.)*"
      ],
      "metadata": {
        "id": "KD1I58tdtP-c"
      }
    },
    {
      "cell_type": "code",
      "source": [
        "\n",
        "while True:\n",
        "  try:\n",
        "    cantidad = int(input(\"Ingrese la cantidad de números a ingresar: \"))\n",
        "    suma = 0\n",
        "    for i in range(cantidad):\n",
        "      numero = int(input(f\"Ingrese el número {i+1}: \"))\n",
        "      suma += numero\n",
        "    print(f\"La media de los números ingresados es: {suma/cantidad}\")\n",
        "  except ValueError:\n",
        "    print(\"Información incorrecta, ingrese un número entero\")\n",
        "    continue\n",
        "  break\n"
      ],
      "metadata": {
        "colab": {
          "base_uri": "https://localhost:8080/"
        },
        "id": "37DJHWYilTcn",
        "outputId": "cfc19d69-94d1-471b-8636-48e78cc651d2"
      },
      "execution_count": null,
      "outputs": [
        {
          "output_type": "stream",
          "name": "stdout",
          "text": [
            "Ingrese la cantidad de números a ingresar: s\n",
            "Información incorrecta, ingrese un número entero\n",
            "Ingrese la cantidad de números a ingresar: ss\n",
            "Información incorrecta, ingrese un número entero\n",
            "Ingrese la cantidad de números a ingresar: 2\n",
            "Ingrese el número 1: 98\n",
            "Ingrese el número 2: 4\n",
            "La media de los números ingresados es: 51.0\n"
          ]
        }
      ]
    },
    {
      "cell_type": "markdown",
      "source": [],
      "metadata": {
        "id": "1Gvpy4tsia5i"
      }
    },
    {
      "cell_type": "markdown",
      "source": [
        "**Control y desarrollo de Programas**\n",
        "\n",
        "**Algoritmos**\n",
        "\n",
        "*Un algoritmo es un conjunto finito de instrucciones o pasos precisos y ordenados que, partiendo de uno o más datos de entrada, resuelve un problema o realiza una tarea específica en un número finito de pasos. Los algoritmos son utilizados en todas las áreas de la informática y la programación, así como en muchas otras disciplinas, para diseñar soluciones eficientes y automatizadas a una amplia variedad de problemas. Un algoritmo debe ser claro, preciso, definido, y su ejecución debe llevar a una solución en un tiempo finito.*\n",
        "\n",
        "*Ejemplo simple de un algoritmo para encontrar la raíz cuadrada de un número en Python utilizando el método de aproximación sucesiva conocido como el método de Newton-Raphson:*"
      ],
      "metadata": {
        "id": "uR8etKqeiu5F"
      }
    },
    {
      "cell_type": "code",
      "source": [
        "def raiz_cuadrada(numero, tolerancia=1e-6):\n",
        "    if numero < 0:\n",
        "        raise ValueError(\"No se puede encontrar la raíz cuadrada de un número negativo.\")\n",
        "\n",
        "    aproximacion = numero / 2  # Empezamos con una aproximación inicial\n",
        "\n",
        "    while abs(aproximacion ** 2 - numero) > tolerancia:\n",
        "        aproximacion = (aproximacion + numero / aproximacion) / 2\n",
        "\n",
        "    return aproximacion\n",
        "\n",
        "# Ejemplo de uso\n",
        "numero = 25\n",
        "resultado = raiz_cuadrada(numero)\n",
        "print(f\"La raíz cuadrada de {numero} es aproximadamente {resultado:.6f}\")"
      ],
      "metadata": {
        "colab": {
          "base_uri": "https://localhost:8080/"
        },
        "id": "kSVAHxLat3z4",
        "outputId": "68ee04cb-9bd4-4f0b-e43f-dfd68eef2aba"
      },
      "execution_count": null,
      "outputs": [
        {
          "output_type": "stream",
          "name": "stdout",
          "text": [
            "La raíz cuadrada de 25 es aproximadamente 5.000000\n"
          ]
        }
      ]
    },
    {
      "cell_type": "markdown",
      "source": [
        "**Sentencia IF**"
      ],
      "metadata": {
        "id": "2EDi0F1SjJ_Y"
      }
    },
    {
      "cell_type": "code",
      "source": [
        "# Pedimos al usuario que ingrese su año de nacimiento\n",
        "anio_nacimiento = int(input(\"Ingrese su año de nacimiento: \"))\n",
        "\n",
        "# Calculamos la edad restando el año de nacimiento del año actual\n",
        "edad = 2021 - anio_nacimiento\n",
        "\n",
        "# Comprobamos si la edad es mayor o igual a 25\n",
        "resultado = \"Posible cliente\" if edad >= 25 else \"No es candidato\"\n",
        "\n",
        "# Imprimimos el resultado\n",
        "print(resultado)"
      ],
      "metadata": {
        "colab": {
          "base_uri": "https://localhost:8080/"
        },
        "id": "hrgEfEESi6te",
        "outputId": "19728ed6-99d1-4d63-d6e7-fd6140c8b2c3"
      },
      "execution_count": null,
      "outputs": [
        {
          "output_type": "stream",
          "name": "stdout",
          "text": [
            "Ingrese su año de nacimiento: 1991\n",
            "Posible cliente\n"
          ]
        }
      ]
    },
    {
      "cell_type": "markdown",
      "source": [
        "**Sentencia while**"
      ],
      "metadata": {
        "id": "xCCxaMBljxVN"
      }
    },
    {
      "cell_type": "code",
      "source": [
        "respuesta = input(\"¿Quieres continuar? (s/n): \")\n",
        "while respuesta.lower() == \"s\":\n",
        "    print(\"Realizando acción...\")\n",
        "    respuesta = input(\"¿Quieres continuar? (s/n): \")\n",
        "print(\"Fin del programa.\")"
      ],
      "metadata": {
        "colab": {
          "base_uri": "https://localhost:8080/"
        },
        "id": "44funsZ_jFXn",
        "outputId": "a29ad9e6-40a6-49ee-a66a-801a10b867cd"
      },
      "execution_count": null,
      "outputs": [
        {
          "output_type": "stream",
          "name": "stdout",
          "text": [
            "¿Quieres continuar? (s/n): s\n",
            "Realizando acción...\n",
            "¿Quieres continuar? (s/n): s\n",
            "Realizando acción...\n",
            "¿Quieres continuar? (s/n): s\n",
            "Realizando acción...\n",
            "¿Quieres continuar? (s/n): n}\n",
            "Fin del programa.\n"
          ]
        }
      ]
    },
    {
      "cell_type": "markdown",
      "source": [
        "**Sentencia for**"
      ],
      "metadata": {
        "id": "-hsNQcBJj7JF"
      }
    },
    {
      "cell_type": "markdown",
      "source": [
        "*Arma un programa que te calcule el factorial de algún número dado*"
      ],
      "metadata": {
        "id": "2cB9FhVSkBTJ"
      }
    },
    {
      "cell_type": "code",
      "source": [
        "def factorial(numero):\n",
        "    if numero == 0:\n",
        "        return 1\n",
        "    else:\n",
        "        resultado = 1\n",
        "        for i in range(1, numero + 1):\n",
        "            resultado *= i\n",
        "        return resultado\n",
        "\n",
        "# Pedimos al usuario que ingrese un número\n",
        "numero = int(input(\"Ingrese un número para calcular su factorial: \"))\n",
        "\n",
        "# Calculamos el factorial e imprimimos el resultado\n",
        "print(\"El factorial de\", numero, \"es:\", factorial(numero))"
      ],
      "metadata": {
        "colab": {
          "base_uri": "https://localhost:8080/"
        },
        "id": "jssWJKnzj241",
        "outputId": "e57c3892-5b6d-43f4-d0fb-5e7233495828"
      },
      "execution_count": null,
      "outputs": [
        {
          "output_type": "stream",
          "name": "stdout",
          "text": [
            "Ingrese un número para calcular su factorial: 10\n",
            "El factorial de 10 es: 3628800\n"
          ]
        }
      ]
    },
    {
      "cell_type": "markdown",
      "source": [
        "**Ejercicio 9:** *Usa for para calcular el consumo promedio de los siguientes clientes*\n",
        "\n",
        "[130,85,210,45,153,78.5,264.5,94]\n",
        "\n",
        "*Esta lista te muestra el consumo de cada cliente*\n"
      ],
      "metadata": {
        "id": "UR_OJOPVkb1A"
      }
    },
    {
      "cell_type": "code",
      "source": [
        "lista = [130,85,210,45,153,78.5,264.5,94]\n",
        "suma = 0\n",
        "for i in lista:\n",
        "  suma += i\n",
        "  promedio = suma / len(lista)\n",
        "print(f\"El consumo promedio de cada cliente es {promedio}\")\n"
      ],
      "metadata": {
        "colab": {
          "base_uri": "https://localhost:8080/"
        },
        "id": "7WmfynEakFLI",
        "outputId": "eabbcb09-4836-42d8-af05-57b45d0f985e"
      },
      "execution_count": null,
      "outputs": [
        {
          "output_type": "stream",
          "name": "stdout",
          "text": [
            "El consumo promedio de cada cliente es 132.5\n"
          ]
        }
      ]
    },
    {
      "cell_type": "markdown",
      "source": [
        "**Ejercicio 10:** *usa for para calcular el interes compuesto de una persona que invierte $10,000 en una cuenta que rinde el 8% de intereses. Supon que la persona reinvierte los intereses. Calcula la cantida del dinero al final de 10 años*"
      ],
      "metadata": {
        "id": "MEmf_rUYk_89"
      }
    },
    {
      "cell_type": "code",
      "source": [
        "inversion = 10000\n",
        "interes = 0.08\n",
        "anios = 10\n",
        "for i in range(anios):\n",
        "  interes_anual = inversion * interes\n",
        "  inversion += interes_anual\n",
        "print(f\"El dinero al final de 10 años es {inversion}\")"
      ],
      "metadata": {
        "colab": {
          "base_uri": "https://localhost:8080/"
        },
        "id": "f0xH-utFk78q",
        "outputId": "e68ade49-477a-4a23-db49-8e133cfe15a1"
      },
      "execution_count": null,
      "outputs": [
        {
          "output_type": "stream",
          "name": "stdout",
          "text": [
            "El dinero al final de 10 años es 21589.24997272787\n"
          ]
        }
      ]
    },
    {
      "cell_type": "markdown",
      "source": [
        "**Ejercicio 11:** *En una tienda de autoservicio hay un promotor en la sección de productos lácteos. La empresa para la que trabaja, le otorga un premio económico si rebasa $200 de ventas (venta meta) por cliente. La empresa cuenta con un registro en donde están marcadas las ventas de 8 clientes que adquirieron algunos de los productos de la marca. Por cada cliente que rebasó la cantidad meta se escribe 1, y si no la rebasa se escribe 2. Si número de clientes que rebasan la venta meta es más de la mitad, se le otorga el premio al promotor. Se requiere de un programa que señale si al promotor se le debe asignar el premio económico.*"
      ],
      "metadata": {
        "id": "6GWd9xNDntMn"
      }
    },
    {
      "cell_type": "code",
      "source": [
        "ventas = {\n",
        "    \"cliente_1\": 200,\n",
        "    \"cliente_2\": 210,\n",
        "    \"cliente_3\": 201,\n",
        "    \"cliente_4\": 199,\n",
        "    \"cliente_5\": 190,\n",
        "    \"cliente_6\": 220,\n",
        "    \"cliente_7\": 400,\n",
        "    \"cliente_8\": 330,\n",
        "    }\n",
        "contador = 0\n",
        "\n",
        "for cliente, venta in ventas.items():\n",
        "  if venta > 200:\n",
        "    print(f\"{cliente} = 1\")\n",
        "    contador += 1\n",
        "  else:\n",
        "    print(f\"{cliente} = 2\")\n",
        "\n",
        "if contador > len(ventas) / 2:\n",
        "  print(\"Se le otorga el premio al promotor\")\n",
        "else:\n",
        "  print(\"No se le otorga el premio al promotor\")"
      ],
      "metadata": {
        "id": "dWFjMTUmmFPa",
        "colab": {
          "base_uri": "https://localhost:8080/"
        },
        "outputId": "60943895-5365-4173-dfcd-cd2ba3471d57"
      },
      "execution_count": 7,
      "outputs": [
        {
          "output_type": "stream",
          "name": "stdout",
          "text": [
            "cliente_1 = 2\n",
            "cliente_2 = 1\n",
            "cliente_3 = 1\n",
            "cliente_4 = 2\n",
            "cliente_5 = 2\n",
            "cliente_6 = 1\n",
            "cliente_7 = 1\n",
            "cliente_8 = 1\n",
            "Se le otorga el premio al promotor\n"
          ]
        }
      ]
    },
    {
      "cell_type": "markdown",
      "source": [
        "**Operadores booleanos**\n",
        "\n",
        "*Arma un programa que revise si un cliente registró su mail Y que su salario mensual sea mayor a 20,000 pesos para poder declararlo como posible cliente.*"
      ],
      "metadata": {
        "id": "jek9jvk8KMwB"
      }
    },
    {
      "cell_type": "code",
      "source": [
        "# Solicitamos al usuario que ingrese su email y salario mensual\n",
        "email = input(\"Ingrese su email: \")\n",
        "salario_mensual = float(input(\"Ingrese su salario mensual en pesos: \"))\n",
        "\n",
        "# Verificamos si el cliente ha registrado su email y su salario mensual es mayor a 20,000 pesos\n",
        "if email != \"\" and salario_mensual > 20000:\n",
        "    print(\"Cliente potencial\")\n",
        "else:\n",
        "    print(\"No es cliente potencial\")"
      ],
      "metadata": {
        "colab": {
          "base_uri": "https://localhost:8080/"
        },
        "id": "_ZztBx5tF2wl",
        "outputId": "bf92564d-2fcb-40d1-9d0e-f9f43f3a3739"
      },
      "execution_count": 8,
      "outputs": [
        {
          "output_type": "stream",
          "name": "stdout",
          "text": [
            "Ingrese su email: cristia\n",
            "Ingrese su salario mensual en pesos: 20000\n",
            "No es cliente potencial\n"
          ]
        }
      ]
    },
    {
      "cell_type": "markdown",
      "source": [
        "*Arma un programa que revise si un posible candidato laboral va tiene titulo o al menos 5 años de experiencia laboral para poder llamarlo a entrevista.*"
      ],
      "metadata": {
        "id": "YK3Hgb2hKjVY"
      }
    },
    {
      "cell_type": "code",
      "source": [
        "# Solicitamos al usuario que ingrese si tiene título (Sí o No) y su experiencia laboral en años\n",
        "tiene_titulo = input(\"¿Tiene título? (Sí/No): \").lower()\n",
        "experiencia_laboral = int(input(\"Ingrese su experiencia laboral en años: \"))\n",
        "\n",
        "# Verificamos si el posible candidato tiene título o al menos 5 años de experiencia laboral\n",
        "if tiene_titulo == \"sí\" or experiencia_laboral >= 5:\n",
        "    print(\"¡Llamar a entrevista!\")\n",
        "else:\n",
        "    print(\"No cumple con los requisitos para la entrevista.\")"
      ],
      "metadata": {
        "colab": {
          "base_uri": "https://localhost:8080/"
        },
        "id": "YEpM5TTyKcOL",
        "outputId": "3eee4e62-b444-4ee4-f006-365fe2cb5d66"
      },
      "execution_count": 9,
      "outputs": [
        {
          "output_type": "stream",
          "name": "stdout",
          "text": [
            "¿Tiene título? (Sí/No): si\n",
            "Ingrese su experiencia laboral en años: 8\n",
            "¡Llamar a entrevista!\n"
          ]
        }
      ]
    },
    {
      "cell_type": "code",
      "source": [],
      "metadata": {
        "id": "os_YsrsYKlol"
      },
      "execution_count": null,
      "outputs": []
    }
  ]
}