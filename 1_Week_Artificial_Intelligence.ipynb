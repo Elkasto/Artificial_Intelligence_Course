{
  "nbformat": 4,
  "nbformat_minor": 0,
  "metadata": {
    "colab": {
      "provenance": []
    },
    "kernelspec": {
      "name": "python3",
      "display_name": "Python 3"
    },
    "language_info": {
      "name": "python"
    }
  },
  "cells": [
    {
      "cell_type": "markdown",
      "source": [
        "**Operaciones matemáticas con Python**"
      ],
      "metadata": {
        "id": "swyri-jGv0iA"
      }
    },
    {
      "cell_type": "markdown",
      "source": [
        "*Realiza un programa que cumpla con el siguiente algoritmo, utilizando siempre que sea posible, operadores en asignación:\n",
        "Guarda en una variable numero_magico el valor 12345679 (sin el 8)\n",
        "Asignar a otra variable numero_usuario. Hay que especificar que sea entre 1 y 9 (asegúrate que es un número)\n",
        "Multiplica el numero_usuario por 9 en sí mismo\n",
        "Multiplica el numero_magico por el numero_usuario en sí mismo\n",
        "Finalmente muestra el valor final del numero_magico por pantalla.*"
      ],
      "metadata": {
        "id": "DYWFxkITvdDk"
      }
    },
    {
      "cell_type": "code",
      "execution_count": null,
      "metadata": {
        "id": "gSa2Xe4LYDp_",
        "colab": {
          "base_uri": "https://localhost:8080/"
        },
        "outputId": "d1b028e0-d97c-4f7d-f241-d7818952332d"
      },
      "outputs": [
        {
          "output_type": "stream",
          "name": "stdout",
          "text": [
            "**************************************\n",
            "*Vamos a realizar algunas operaciones*\n",
            "**************************************\n",
            "\n",
            "Por favor ingrese un número del 1-9 \n",
            "Debes ingresar un número valido\n",
            "Por favor ingrese un número del 1-9 \n",
            "Debes ingresar un número valido\n",
            "Por favor ingrese un número del 1-9 0\n",
            "el dato ingresado no corresponde a un número del 1-9\n",
            "Por favor ingrese un número del 1-9 s\n",
            "Debes ingresar un número valido\n",
            "Por favor ingrese un número del 1-9 dddd\n",
            "Debes ingresar un número valido\n",
            "Por favor ingrese un número del 1-9 22\n",
            "el dato ingresado no corresponde a un número del 1-9\n",
            "Por favor ingrese un número del 1-9 1\n",
            "el número mágico es  111111111\n",
            "Gracias por seguir las indicaciones correctamente\n"
          ]
        }
      ],
      "source": [
        "print(\"**************************************\")\n",
        "print(\"*Vamos a realizar algunas operaciones*\")\n",
        "print(\"**************************************\")\n",
        "print()\n",
        "\n",
        "numero_magico = 12345679\n",
        "while True:\n",
        "  try:\n",
        "    numero_usuario = int(input(\"Por favor ingrese un número del 1-9 \"))\n",
        "    if numero_usuario > 0 and numero_usuario < 10:\n",
        "      numero_usuario = numero_usuario * 9\n",
        "      numero_magico = numero_magico * numero_usuario\n",
        "      print(\"el número mágico es \", numero_magico)\n",
        "      break\n",
        "    else:\n",
        "      print(\"el dato ingresado no corresponde a un número del 1-9\")\n",
        "  except ValueError:\n",
        "    print(\"Debes ingresar un número valido\")\n",
        "print(\"Gracias por seguir las indicaciones correctamente\")\n"
      ]
    },
    {
      "cell_type": "markdown",
      "source": [
        "**Identificar el tipo de dato en Python**"
      ],
      "metadata": {
        "id": "FbMkza9AwM7a"
      }
    },
    {
      "cell_type": "markdown",
      "source": [
        "*Identifica el tipo de dato (int, float, string o list) de los siguientes valores literales:*\n",
        "\n",
        "*   \"Hola Mundo\"\n",
        "*   [1, 10, 100]\n",
        "*   -25\n",
        "*   1.167\n",
        "*   [\"Hola\", \"Mundo\"]\n",
        "*   True\n",
        "*   ' '\n",
        "*   A={Uno:\"uno\", Dos:\"dos\"}"
      ],
      "metadata": {
        "id": "DVGP6Y1wwTkm"
      }
    },
    {
      "cell_type": "code",
      "source": [
        "print(\"******************************************\")\n",
        "print(\"*Vamos a comprobar algunos tipos de datos*\")\n",
        "print(\"******************************************\")\n",
        "print()\n",
        "\n",
        "\"Hola Mundo\"\n",
        "[1, 10, 100]\n",
        "-25\n",
        "1.167\n",
        "[\"Hola\", \"Mundo\"]\n",
        "' '\n",
        "True\n",
        "A={1:\"uno\", 2:\"dos\"}\n",
        "\n",
        "print(type(\"Hola mundo\"))\n",
        "print(type(10))\n",
        "print(type(1.167))\n",
        "print(type([]))\n",
        "print(type(' '))\n",
        "print(type(True))\n",
        "print(type(A))"
      ],
      "metadata": {
        "colab": {
          "base_uri": "https://localhost:8080/"
        },
        "id": "lCIUM34aqnw1",
        "outputId": "6882cbe0-3cb8-4a2b-e4c3-8ba6dc6dcd87"
      },
      "execution_count": null,
      "outputs": [
        {
          "output_type": "stream",
          "name": "stdout",
          "text": [
            "******************************************\n",
            "*Vamos a comprobar algunos tipos de datos*\n",
            "******************************************\n",
            "\n",
            "<class 'str'>\n",
            "<class 'int'>\n",
            "<class 'float'>\n",
            "<class 'list'>\n",
            "<class 'str'>\n",
            "<class 'bool'>\n",
            "<class 'dict'>\n"
          ]
        }
      ]
    },
    {
      "cell_type": "markdown",
      "source": [
        "**Escritura de código en Python**"
      ],
      "metadata": {
        "id": "kHVucxjuwfRO"
      }
    },
    {
      "cell_type": "markdown",
      "source": [
        "*Siguiendo la recomendaciones de PEP 8, describir y solucionar el error del siguiente bloque de instrucciones.*\n",
        "\n",
        "*   n = 10\n",
        "*   if n> 5:\n",
        "*   print “n es grande”"
      ],
      "metadata": {
        "id": "tuhFT8u7wp0v"
      }
    },
    {
      "cell_type": "code",
      "source": [
        "print(\"************************************\")\n",
        "print(\"*Vamos a  realizar una comprobación*\")\n",
        "print(\"************************************\")\n",
        "print()\n",
        "\n",
        "n = 10\n",
        "if n > 5:\n",
        "  print(\"n es mas grande que 5\")\n"
      ],
      "metadata": {
        "colab": {
          "base_uri": "https://localhost:8080/"
        },
        "id": "g3mOw1ck9VDm",
        "outputId": "aadf2204-2d2c-468b-f8b5-cadc92027603"
      },
      "execution_count": null,
      "outputs": [
        {
          "output_type": "stream",
          "name": "stdout",
          "text": [
            "************************************\n",
            "*Vamos a  realizar una comprobación*\n",
            "************************************\n",
            "\n",
            "n es mas grande que 5\n"
          ]
        }
      ]
    },
    {
      "cell_type": "markdown",
      "source": [
        "**Verificaciones de tipos de datos con Python**"
      ],
      "metadata": {
        "id": "6Jp2x0W0yH1M"
      }
    },
    {
      "cell_type": "code",
      "source": [
        "x = 10/5e-3+1\n",
        "print(x)\n",
        "print(type(x))"
      ],
      "metadata": {
        "id": "vZhzWXSj-VCz",
        "colab": {
          "base_uri": "https://localhost:8080/"
        },
        "outputId": "ae876699-50de-4083-90fa-f9c739aabbe0"
      },
      "execution_count": null,
      "outputs": [
        {
          "output_type": "stream",
          "name": "stdout",
          "text": [
            "2001.0\n",
            "<class 'float'>\n"
          ]
        }
      ]
    },
    {
      "cell_type": "code",
      "source": [
        "x = \"africa\"\n",
        "y = \"base\"\n",
        "print(x > y)"
      ],
      "metadata": {
        "colab": {
          "base_uri": "https://localhost:8080/"
        },
        "id": "aTtFB3j8GkWr",
        "outputId": "2836faa9-f20e-4870-f8e0-fef2db89f38f"
      },
      "execution_count": null,
      "outputs": [
        {
          "output_type": "stream",
          "name": "stdout",
          "text": [
            "False\n"
          ]
        }
      ]
    },
    {
      "cell_type": "markdown",
      "source": [
        "**Ejercicios con Python**"
      ],
      "metadata": {
        "id": "9mv3nCY3yW5x"
      }
    },
    {
      "cell_type": "markdown",
      "source": [
        "**Ejercicio 1:** *Dada una cantidad en pesos, obtener la equivalencia en dólares, asumiendo que la unidad cambiaría a un dato desconocido.*"
      ],
      "metadata": {
        "id": "vE9F-eNSLDhx"
      }
    },
    {
      "cell_type": "code",
      "source": [
        "import random\n",
        "unidad_cambiaria = random.uniform(3500, 4200)\n",
        "\n",
        "peso = float(input(\"Ingrese el valor en pesos \"))\n",
        "valor_dolares = peso / unidad_cambiaria\n",
        "redondeo = round(valor_dolares, 2)\n",
        "print(\"el valor del dolar hoy es \", unidad_cambiaria)\n",
        "print(\"El valor en dolares es \" , redondeo)"
      ],
      "metadata": {
        "colab": {
          "base_uri": "https://localhost:8080/"
        },
        "id": "mptP6OMxL-gt",
        "outputId": "a7e54155-c09c-47fd-f2aa-ae31c3866ce8"
      },
      "execution_count": null,
      "outputs": [
        {
          "output_type": "stream",
          "name": "stdout",
          "text": [
            "Ingrese el valor en pesos 2000\n",
            "el valor del dolar hoy es  3649.574708745879\n",
            "El valor en dolares es  0.55\n"
          ]
        }
      ]
    },
    {
      "cell_type": "markdown",
      "source": [
        "**Ejercicio 2:** *Calculo de la masa de un objeto*"
      ],
      "metadata": {
        "id": "lQ3mO_okyfTr"
      }
    },
    {
      "cell_type": "code",
      "source": [
        "print(\"Ejercicio numero 3: Cálculo de la masa\")\n",
        "presion=float(input(\"Ingrese la presión (Pa): \"))\n",
        "volumen=float(input(\"Ingrese el volumen (m^3): \"))\n",
        "temperatura=float(input(\"Ingrese la temperatura (K): \"))\n",
        "masa=(presion*volumen)/(0.37*(temperatura+460))\n",
        "print(\"La masa del objeto es: \",masa,\"kg\")"
      ],
      "metadata": {
        "colab": {
          "base_uri": "https://localhost:8080/"
        },
        "id": "3DJ0EzQKM-U9",
        "outputId": "b222c625-7d9e-467d-a97e-69ca8aee6fc3"
      },
      "execution_count": null,
      "outputs": [
        {
          "output_type": "stream",
          "name": "stdout",
          "text": [
            "Ejercicio numero 3: Cálculo de la masa\n",
            "Ingrese la presión (Pa): 2\n",
            "Ingrese el volumen (m^3): 3\n",
            "Ingrese la temperatura (K): 3\n",
            "La masa del objeto es:  0.0350242250890199 kg\n"
          ]
        }
      ]
    },
    {
      "cell_type": "markdown",
      "source": [
        "**Ejercicio 3:** *Calculo del valor absoluto de un valor*"
      ],
      "metadata": {
        "id": "duzrhWU1ymbZ"
      }
    },
    {
      "cell_type": "code",
      "source": [
        "numero=float(input(\"ingrese un valor:\"))\n",
        "valor_absoluto= abs(numero)\n",
        "print(\"el valor absoluto es: \", valor_absoluto)"
      ],
      "metadata": {
        "colab": {
          "base_uri": "https://localhost:8080/"
        },
        "id": "pCxjLuBtN6_q",
        "outputId": "bf122e19-c4d6-4bcf-9529-0d08be582f08"
      },
      "execution_count": null,
      "outputs": [
        {
          "output_type": "stream",
          "name": "stdout",
          "text": [
            "ingrese un valor:33\n",
            "el valor absoluto es:  33.0\n"
          ]
        }
      ]
    },
    {
      "cell_type": "markdown",
      "source": [
        "**Ejercicio 4:** *Calculo del pago de horas extras de acuerdo a las siguientes situaciones*\n",
        "\n",
        "*   *Un trabajador revise el pago de horas extras si trabajó más de 50 horas por semana.*\n",
        "*   *Si el trabajador realiza 8 o menos horas extras, estas horas adicionales se pagan al doble de una hora normal.*\n",
        "*   *Si el trabajador realiza más de 8 horas extras, las primeras 8 horas adicionales se pagan al doble de una hora normal, las siguientes al triple.*\n"
      ],
      "metadata": {
        "id": "sdvcbUGjyr6T"
      }
    },
    {
      "cell_type": "code",
      "source": [
        "horas_trabajadas = float(input(\"Ingrese la cantidad de horas trabajadas: \"))\n",
        "valor_hora = float(input(\"Ingrese el valor de la hora: \"))\n",
        "\n",
        "if horas_trabajadas > 40:\n",
        "    horas_extras = horas_trabajadas - 40\n",
        "    if horas_extras < 8:\n",
        "        pago_horas_extras = horas_extras * (valor_hora * 2)\n",
        "        pago_total = (40 * valor_hora) + pago_horas_extras\n",
        "    elif horas_extras >= 8:\n",
        "        pago_horas_extras = (horas_extras - 8) * (valor_hora * 3)\n",
        "        horas_extras = 8 * (valor_hora * 2)\n",
        "        pago_horas_extras = horas_extras + pago_horas_extras\n",
        "        pago_total = (40 * valor_hora) + pago_horas_extras\n",
        "    print(\"El pago total es: $\", pago_total)\n",
        "else:\n",
        "  print(\"El pago total es: $\", horas_trabajadas * valor_hora)\n",
        "\n"
      ],
      "metadata": {
        "colab": {
          "base_uri": "https://localhost:8080/"
        },
        "id": "pok9MyqiN-Lq",
        "outputId": "0d4df697-5948-4206-bad3-ec9ec6102ae3"
      },
      "execution_count": null,
      "outputs": [
        {
          "output_type": "stream",
          "name": "stdout",
          "text": [
            "Ingrese la cantidad de horas trabajadas: 32\n",
            "Ingrese el valor de la hora: 1000\n",
            "El pago total es: $ 32000.0\n"
          ]
        }
      ]
    },
    {
      "cell_type": "markdown",
      "source": [
        "**Ejercicio 5:** *Compara la edad entre tú y un amigo tuyo*"
      ],
      "metadata": {
        "id": "9iMuCl8WzmqV"
      }
    },
    {
      "cell_type": "code",
      "source": [
        "print('Ingresa tu edad y la de tu mejor amigo, para decirte la relación qué hay entre ellas ')\n",
        "#Lee la primera edad\n",
        "edad1=int(input('Ingresa tu edad: '))\n",
        "edad2=int(input('Ingresa la edad de tu mejor amigo: '))\n",
        "\n",
        "\n",
        "if edad1==edad2:\n",
        "    print(edad1,'es igual',edad2,'\\n Tu amigo y tú, tienen la misma edad.')\n",
        "if edad1 !=edad2:\n",
        "    print(edad1,' es diferente de',edad2,'\\n Tu amigo y tú tienen edades diferentes.')\n",
        "if edad1 < edad2:\n",
        "    print(edad1,' es menor que',edad2,'\\n Tu amigo es mayor que tú.')\n",
        "if edad1 > edad2:\n",
        "    print(edad1,' es mayor que',edad2,'\\n Tu amigo es menor que tú.')\n",
        "if edad1 <= edad2:\n",
        "    print(edad1,' es menor o igual a',edad2,'\\n Tu amigo tiene al menos, tu edad.')\n",
        "if edad1 > edad2:\n",
        "    print(edad1,' es mayor que',edad2,'\\n Tu amigo tiene a lo más, tu edad.')"
      ],
      "metadata": {
        "id": "4U4wp9duWO8G",
        "colab": {
          "base_uri": "https://localhost:8080/"
        },
        "outputId": "dbba16be-8faa-45ce-fedb-43586ec93102"
      },
      "execution_count": null,
      "outputs": [
        {
          "output_type": "stream",
          "name": "stdout",
          "text": [
            "Ingresa tu edad y la de tu mejor amigo, para decirte la relación qué hay entre ellas \n",
            "Ingresa tu edad: 33\n",
            "Ingresa la edad de tu mejor amigo: 32\n",
            "33  es diferente de 32 \n",
            " Tu amigo y tú tienen edades diferentes.\n",
            "33  es mayor que 32 \n",
            " Tu amigo es menor que tú.\n",
            "33  es mayor que 32 \n",
            " Tu amigo tiene a lo más, tu edad.\n"
          ]
        }
      ]
    },
    {
      "cell_type": "markdown",
      "source": [
        "**Ejercicio 6:** *Calculo de la superficie de un cuadrado conociendo uno de sus lados*"
      ],
      "metadata": {
        "id": "0_nDGlWP001l"
      }
    },
    {
      "cell_type": "code",
      "source": [
        "lado = int(input(\"Ingrese la medida del lado del cuadrado: \"))\n",
        "superficie = lado * lado\n",
        "print(\"La superficie del cuadrado es \")\n",
        "print (superficie)"
      ],
      "metadata": {
        "colab": {
          "base_uri": "https://localhost:8080/"
        },
        "id": "CU9fH9Ohzv2U",
        "outputId": "efa2b0b5-8853-4a6d-c14c-9199762e7bd9"
      },
      "execution_count": null,
      "outputs": [
        {
          "output_type": "stream",
          "name": "stdout",
          "text": [
            "Ingrese la medida del lado del cuadrado: 5\n",
            "La superficie del cuadrado es \n",
            "25\n"
          ]
        }
      ]
    },
    {
      "cell_type": "markdown",
      "source": [
        "**Ejercicio 7:** *Asigna dos números a variables y realiza las operaciones básicas (suma, resta, multiplicación y división).*"
      ],
      "metadata": {
        "id": "xdqg2DMV1Alo"
      }
    },
    {
      "cell_type": "code",
      "source": [
        "num1 = 10\n",
        "num2 = 5\n",
        "suma = num1 + num2\n",
        "resta = num1 - num2\n",
        "multiplicacion = num1 * num2\n",
        "division = num1 / num2\n",
        "\n",
        "print(f\"Suma: {suma}, Resta: {resta}, Multiplicación: {multiplicacion}, División: {division}\")"
      ],
      "metadata": {
        "colab": {
          "base_uri": "https://localhost:8080/"
        },
        "id": "CNH7eRf10-Y6",
        "outputId": "49c22a2d-6b4a-49ea-b848-a788c6ecef96"
      },
      "execution_count": null,
      "outputs": [
        {
          "output_type": "stream",
          "name": "stdout",
          "text": [
            "Suma: 15, Resta: 5, Multiplicación: 50, División: 2.0\n"
          ]
        }
      ]
    },
    {
      "cell_type": "markdown",
      "source": [
        "**Ejercicio 8:** *Asigna un número a una variable y utiliza operadores de asignación para incrementar y decrementar su valor.*"
      ],
      "metadata": {
        "id": "XKvVjR4s1QqD"
      }
    },
    {
      "cell_type": "code",
      "source": [
        "num = 8\n",
        "num += 3  # Incrementa en 3\n",
        "num -= 2  # Decrementa en 2\n",
        "\n",
        "print(f\"Nuevo valor de num: {num}\")"
      ],
      "metadata": {
        "colab": {
          "base_uri": "https://localhost:8080/"
        },
        "id": "_RDm7Zct1KjK",
        "outputId": "336c3302-0946-4b6c-ec2e-bc1f0f66b8cf"
      },
      "execution_count": null,
      "outputs": [
        {
          "output_type": "stream",
          "name": "stdout",
          "text": [
            "Nuevo valor de num: 9\n"
          ]
        }
      ]
    },
    {
      "cell_type": "markdown",
      "source": [
        "**Ejercicio 9:** *Asigna dos valores booleanos y realiza operaciones lógicas (AND, OR, NOT).*"
      ],
      "metadata": {
        "id": "ZLwoialm1czo"
      }
    },
    {
      "cell_type": "code",
      "source": [
        "bool1 = True\n",
        "bool2 = False\n",
        "resultado_and = bool1 and bool2\n",
        "resultado_or = bool1 or bool2\n",
        "resultado_not = not bool1\n",
        "\n",
        "print(f\"AND: {resultado_and}, OR: {resultado_or}, NOT: {resultado_not}\")"
      ],
      "metadata": {
        "colab": {
          "base_uri": "https://localhost:8080/"
        },
        "id": "2dodPSxL1VDB",
        "outputId": "f916e8d8-85e4-4738-92d8-6755222ce760"
      },
      "execution_count": null,
      "outputs": [
        {
          "output_type": "stream",
          "name": "stdout",
          "text": [
            "AND: False, OR: True, NOT: False\n"
          ]
        }
      ]
    },
    {
      "cell_type": "markdown",
      "source": [
        "**Ejercicio 10:** *Asigna dos números decimales y realiza operaciones de redondeo y potencia.*"
      ],
      "metadata": {
        "id": "VojPzsOF1mgp"
      }
    },
    {
      "cell_type": "code",
      "source": [
        "decimal1 = 3.14\n",
        "decimal2 = 2.5\n",
        "redondeo = round(decimal1)\n",
        "potencia = decimal1 ** decimal2\n",
        "\n",
        "print(f\"Redondeo: {redondeo}, Potencia: {potencia}\")"
      ],
      "metadata": {
        "colab": {
          "base_uri": "https://localhost:8080/"
        },
        "id": "0muJ-Cg91iPf",
        "outputId": "c0e55d00-e083-4282-c537-589e09482877"
      },
      "execution_count": null,
      "outputs": [
        {
          "output_type": "stream",
          "name": "stdout",
          "text": [
            "Redondeo: 3, Potencia: 17.471255712810116\n"
          ]
        }
      ]
    },
    {
      "cell_type": "markdown",
      "source": [
        "**Ejercicio 11:** *Crea dos listas y realiza operaciones de concatenación y repetición.*"
      ],
      "metadata": {
        "id": "h9KQZkLw1ty6"
      }
    },
    {
      "cell_type": "code",
      "source": [
        "lista1 = [1, 2, 3]\n",
        "lista2 = [4, 5, 6]\n",
        "concatenacion = lista1 + lista2\n",
        "repeticion = lista1 * 2\n",
        "\n",
        "print(f\"Concatenación: {concatenacion}, Repetición: {repeticion}\")"
      ],
      "metadata": {
        "colab": {
          "base_uri": "https://localhost:8080/"
        },
        "id": "Vex1UXed1qRI",
        "outputId": "507ca1a7-5c48-446f-fba8-d64573cf9a15"
      },
      "execution_count": null,
      "outputs": [
        {
          "output_type": "stream",
          "name": "stdout",
          "text": [
            "Concatenación: [1, 2, 3, 4, 5, 6], Repetición: [1, 2, 3, 1, 2, 3]\n"
          ]
        }
      ]
    },
    {
      "cell_type": "markdown",
      "source": [
        "**Ejercicio 12:** *Asigna un número entero e implementa operadores de comparación (<, >, ==).*"
      ],
      "metadata": {
        "id": "NUuQeB-714Jm"
      }
    },
    {
      "cell_type": "code",
      "source": [
        "entero = 15\n",
        "es_mayor = entero > 10\n",
        "es_menor = entero < 20\n",
        "es_igual = entero == 15\n",
        "\n",
        "print(f\"Mayor: {es_mayor}, Menor: {es_menor}, Igual: {es_igual}\")"
      ],
      "metadata": {
        "colab": {
          "base_uri": "https://localhost:8080/"
        },
        "id": "zyXwJTR81zti",
        "outputId": "07700ae3-39eb-433c-db33-2a2c65bcea75"
      },
      "execution_count": null,
      "outputs": [
        {
          "output_type": "stream",
          "name": "stdout",
          "text": [
            "Mayor: True, Menor: True, Igual: True\n"
          ]
        }
      ]
    },
    {
      "cell_type": "markdown",
      "source": [
        "**Ejercicio 13:** *Asigna dos números enteros y utiliza operadores módulo y de división entera.*"
      ],
      "metadata": {
        "id": "IO2pHMPM2Bt8"
      }
    },
    {
      "cell_type": "code",
      "source": [
        "num_entero1 = 25\n",
        "num_entero2 = 7\n",
        "modulo = num_entero1 % num_entero2\n",
        "division_entera = num_entero1 // num_entero2\n",
        "\n",
        "print(f\"Módulo: {modulo}, División Entera: {division_entera}\")"
      ],
      "metadata": {
        "colab": {
          "base_uri": "https://localhost:8080/"
        },
        "id": "D8g5RzFE1-P_",
        "outputId": "3e7ac998-6bb1-4f5d-cc76-5464f0cdee26"
      },
      "execution_count": null,
      "outputs": [
        {
          "output_type": "stream",
          "name": "stdout",
          "text": [
            "Módulo: 4, División Entera: 3\n"
          ]
        }
      ]
    },
    {
      "cell_type": "markdown",
      "source": [
        "**Ejercicio 14:** *Crea dos tuplas y realiza operaciones de concatenación y repetición.*"
      ],
      "metadata": {
        "id": "UxN2N7OG2JuN"
      }
    },
    {
      "cell_type": "code",
      "source": [
        "tupla1 = (1, 2, 3)\n",
        "tupla2 = (4, 5, 6)\n",
        "concatenacion_tuplas = tupla1 + tupla2\n",
        "repeticion_tupla = tupla1 * 2\n",
        "\n",
        "print(f\"Concatenación de Tuplas: {concatenacion_tuplas}, Repetición de Tupla: {repeticion_tupla}\")"
      ],
      "metadata": {
        "colab": {
          "base_uri": "https://localhost:8080/"
        },
        "id": "vpSONnHG2Fu_",
        "outputId": "78d86ed9-7181-4bcf-b75f-bb4980975de6"
      },
      "execution_count": null,
      "outputs": [
        {
          "output_type": "stream",
          "name": "stdout",
          "text": [
            "Concatenación de Tuplas: (1, 2, 3, 4, 5, 6), Repetición de Tupla: (1, 2, 3, 1, 2, 3)\n"
          ]
        }
      ]
    },
    {
      "cell_type": "markdown",
      "source": [
        "**Ejercicio 15:** *Realiza operaciones aritméticas con variables de diferentes tipos.*"
      ],
      "metadata": {
        "id": "YN-ZXFR_2TCi"
      }
    },
    {
      "cell_type": "code",
      "source": [
        "entero_mixto = 10\n",
        "decimal_mixto = 3.5\n",
        "resultado_mixto = entero_mixto * decimal_mixto\n",
        "\n",
        "print(f\"Resultado Mixto: {resultado_mixto}\")"
      ],
      "metadata": {
        "colab": {
          "base_uri": "https://localhost:8080/"
        },
        "id": "H9U_RqpE2N-z",
        "outputId": "4749ac95-9263-44b2-ffe9-9f681a0f755b"
      },
      "execution_count": null,
      "outputs": [
        {
          "output_type": "stream",
          "name": "stdout",
          "text": [
            "Resultado Mixto: 35.0\n"
          ]
        }
      ]
    },
    {
      "cell_type": "markdown",
      "source": [
        "**Ejercicio 16:** *Calcular el área de un círculo con un radio dado*"
      ],
      "metadata": {
        "id": "y5AkF0Bm2bN4"
      }
    },
    {
      "cell_type": "code",
      "source": [
        "import math\n",
        "\n",
        "radio = float(input(\"Ingrese el valor del radio del circulo: \"))\n",
        "area = math.pi * (radio*2)\n",
        "print(f\"Un circulo con radio: {radio} tiene un área de: {area}\")"
      ],
      "metadata": {
        "colab": {
          "base_uri": "https://localhost:8080/"
        },
        "id": "Ha5ofMvx2W1T",
        "outputId": "780c705f-4d14-4c87-bba2-a4794260c798"
      },
      "execution_count": null,
      "outputs": [
        {
          "output_type": "stream",
          "name": "stdout",
          "text": [
            "Ingrese el valor del radio del circulo: 6\n",
            "Un circulo con radio: 6.0 tiene un área de: 37.69911184307752\n"
          ]
        }
      ]
    },
    {
      "cell_type": "markdown",
      "source": [
        "**Ejercicio 17:** *Convertir una temperatura en grados Celsius a Fahrenheit*"
      ],
      "metadata": {
        "id": "QK7SP1nr2j6v"
      }
    },
    {
      "cell_type": "code",
      "source": [
        "celsius = float(input(\"Ingrese el valor en grados Celsius: \"))\n",
        "fahrenheit = (9/5) * celsius + 32\n",
        "print(f\"Una temperatura de: {celsius} grados Celsius equivale a: {fahrenheit} grados Faherenheit \")"
      ],
      "metadata": {
        "colab": {
          "base_uri": "https://localhost:8080/"
        },
        "id": "CfQObyT42oct",
        "outputId": "2861ae2a-fd0d-4a6e-ca0d-1573f43da8f9"
      },
      "execution_count": null,
      "outputs": [
        {
          "output_type": "stream",
          "name": "stdout",
          "text": [
            "Ingrese el valor en grados Celsius: 23\n",
            "Una temperatura de: 23.0 grados Celsius equivale a: 73.4 grados Faherenheit \n"
          ]
        }
      ]
    },
    {
      "cell_type": "markdown",
      "source": [
        "**Ejercicio 18:** *Crear una calculadora de propina. Dado el total de la cuenta y el porcentaje de propina deseado, calcular el monto de propina y el total final.*"
      ],
      "metadata": {
        "id": "Ft_Q5B2H2s5I"
      }
    },
    {
      "cell_type": "code",
      "source": [
        "cuenta = float(input(\"Ingrese el valor de la cuenta: \"))\n",
        "porcentaje = float(input(\"Ingrese el porcentaje de propina que desea aportar: \"))\n",
        "porcentaje = porcentaje/100\n",
        "valor_propina = porcentaje * cuenta\n",
        "cuenta_neta = valor_propina + cuenta\n",
        "print(f\"El valor total de la cuenta a pagar es: ${cuenta_neta}. \\nMuchas gracias por su compra\")"
      ],
      "metadata": {
        "colab": {
          "base_uri": "https://localhost:8080/"
        },
        "id": "MuOUfhWG2trR",
        "outputId": "f556f6e4-e4ac-4ce4-8e6c-087564d20572"
      },
      "execution_count": null,
      "outputs": [
        {
          "output_type": "stream",
          "name": "stdout",
          "text": [
            "Ingrese el valor de la cuenta: 1000\n",
            "Ingrese el porcentaje de propina que desea aportar: 23\n",
            "El valor total de la cuenta a pagar es: $1230.0. \n",
            "Muchas gracias por su compra\n"
          ]
        }
      ]
    },
    {
      "cell_type": "markdown",
      "source": [
        "**Ejercicio 19:** *Calcular el precio final de un producto después de aplicar un descuento. Se proporcionan el precio original y el porcentaje de descuento.*"
      ],
      "metadata": {
        "id": "01gh2WbJ2uId"
      }
    },
    {
      "cell_type": "code",
      "source": [
        "valor_inicial_producto = float(input(\"Ingrese el valor del producto: \"))\n",
        "descuento= float(input(\"Ingrese el descuento que desea aplicar: \"))\n",
        "descuento = descuento/100\n",
        "valor_descuento = descuento * valor_inicial_producto\n",
        "valor_final = valor_inicial_producto - valor_descuento\n",
        "print(f\"El valor final del producto es: ${valor_final}. \\nSu descuento fue de: ${valor_descuento} \\nMuchas gracias por su compra.\")"
      ],
      "metadata": {
        "colab": {
          "base_uri": "https://localhost:8080/"
        },
        "id": "5OEyqxOJ2vZ1",
        "outputId": "722f9ae6-ad2f-4a81-f325-54bd02407492"
      },
      "execution_count": null,
      "outputs": [
        {
          "output_type": "stream",
          "name": "stdout",
          "text": [
            "Ingrese el valor del producto: 10000\n",
            "Ingrese el descuento que desea aplicar: 12\n",
            "El valor final del producto es: $8800.0. \n",
            "Su descuento fue de: $1200.0 \n",
            "Muchas gracias por su compra.\n"
          ]
        }
      ]
    },
    {
      "cell_type": "markdown",
      "source": [
        "**Ejercicio 20:** *Determinar la edad de una persona dados su año de nacimiento y el año actual.*"
      ],
      "metadata": {
        "id": "3DCMrDRx2v2j"
      }
    },
    {
      "cell_type": "code",
      "source": [
        "from datetime import datetime\n",
        "\n",
        "anio_nacimiento = int(input(\"Ingrese su año de nacimiento: \"))\n",
        "edad = datetime.now().year - anio_nacimiento\n",
        "print(f\"su edad actual es: {edad}\")"
      ],
      "metadata": {
        "id": "ynBUt7CA2xJ6",
        "colab": {
          "base_uri": "https://localhost:8080/"
        },
        "outputId": "1e469554-38f6-489f-e317-0d3eff954528"
      },
      "execution_count": null,
      "outputs": [
        {
          "output_type": "stream",
          "name": "stdout",
          "text": [
            "Ingrese su año de nacimiento: 1992\n",
            "su edad actual es: 32\n"
          ]
        }
      ]
    },
    {
      "cell_type": "markdown",
      "source": [
        "**Ejercicio 21:** *Calcular la velocidad media de un objeto. Se dan la distancia recorrida y el tiempo empleado.*"
      ],
      "metadata": {
        "id": "JWH_XgEA2xqD"
      }
    },
    {
      "cell_type": "code",
      "source": [
        "distancia_recorrida_m = 100\n",
        "tiempo_empleado_min = 2\n",
        "velocidad_media = distancia_recorrida_m / tiempo_empleado_min\n",
        "print(f\"La velocidad media del corredor es de {velocidad_media} m/min\")"
      ],
      "metadata": {
        "id": "N4502--J2ykH",
        "colab": {
          "base_uri": "https://localhost:8080/"
        },
        "outputId": "8620631d-c3b5-4db3-b00e-500a1e56b5df"
      },
      "execution_count": 5,
      "outputs": [
        {
          "output_type": "stream",
          "name": "stdout",
          "text": [
            "La velocidad media del corredor es de 50.0 m/min\n"
          ]
        }
      ]
    },
    {
      "cell_type": "markdown",
      "source": [
        "**Ejercicio 22:** *Crear una calculadora de índice de masa corporal (IMC). Se proporciona el peso en kilogramos y la altura en metros.*"
      ],
      "metadata": {
        "id": "E37v2qGm2zM0"
      }
    },
    {
      "cell_type": "code",
      "source": [
        "weight_kil = 61\n",
        "height_m = 1.75\n",
        "IMC = weight_kil / (height_m * height_m)\n",
        "print(f\"El indice de masa corporal es {IMC}\")"
      ],
      "metadata": {
        "id": "2xeUOvPz20H6",
        "colab": {
          "base_uri": "https://localhost:8080/"
        },
        "outputId": "d1480074-7424-4a82-f95f-029dfb182f3e"
      },
      "execution_count": 12,
      "outputs": [
        {
          "output_type": "stream",
          "name": "stdout",
          "text": [
            "El indice de masa corporal es 19.918367346938776\n"
          ]
        }
      ]
    },
    {
      "cell_type": "markdown",
      "source": [
        "**Ejercicio 23:** *Calcular la suma de los primeros n números pares. El valor de n se proporciona como entrada.*"
      ],
      "metadata": {
        "id": "pXA-TUyE20kT"
      }
    },
    {
      "cell_type": "code",
      "source": [
        "n = int(input(\"Ingrese un número entero: \"))\n",
        "suma = 0\n",
        "for i in range(0,n+1):\n",
        "  if i % 2 == 0:\n",
        "    suma = suma + i\n",
        "print(f\"La suma de los primeros n números pares es {suma}\")\n"
      ],
      "metadata": {
        "id": "zjRhmD4Y21jg",
        "colab": {
          "base_uri": "https://localhost:8080/"
        },
        "outputId": "45706c27-05ab-42cd-9427-8a7e73eb6c4a"
      },
      "execution_count": 18,
      "outputs": [
        {
          "output_type": "stream",
          "name": "stdout",
          "text": [
            "Ingrese un número entero: 6\n",
            "La suma de los primeros n números pares es 12\n"
          ]
        }
      ]
    },
    {
      "cell_type": "markdown",
      "source": [
        "**Ejercicio 24:** *Calcular la raíz cuadrada de un número dado. Utiliza la función sqrt del módulo math*"
      ],
      "metadata": {
        "id": "1fnsAbsC22GE"
      }
    },
    {
      "cell_type": "code",
      "source": [
        "import math\n",
        "\n",
        "num = float(input(\"Ingrese un valor númerico: \"))\n",
        "raiz = math.sqrt(num)\n",
        "print(f\"La raiz cuadrada de {num} es: {raiz}\")"
      ],
      "metadata": {
        "id": "j1TCxLn-23Cv",
        "colab": {
          "base_uri": "https://localhost:8080/"
        },
        "outputId": "226aae6d-9287-472a-9dee-173cbf93c7d3"
      },
      "execution_count": 20,
      "outputs": [
        {
          "output_type": "stream",
          "name": "stdout",
          "text": [
            "Ingrese un valor númerico: 6.9\n",
            "La raiz cuadrada de 6.9 es: 2.6267851073127395\n"
          ]
        }
      ]
    },
    {
      "cell_type": "markdown",
      "source": [
        "**Ejercicio 25:** *Calcular el monto final después de ciertos años utilizando la fórmula del interés simple:*"
      ],
      "metadata": {
        "id": "TW01OwvM23is"
      }
    },
    {
      "cell_type": "code",
      "source": [
        "initial_value = 1000\n",
        "tasa_interes = 0.16\n",
        "time = 5\n",
        "final_value = initial_value * (1 + tasa_interes * time)\n",
        "print(f\"El monto final del valor inicial de ${initial_value}, con una tasa de interés de {tasa_interes * 100}% a {time} anios es de ${final_value}\")"
      ],
      "metadata": {
        "id": "xBs1tMXB24i7",
        "colab": {
          "base_uri": "https://localhost:8080/"
        },
        "outputId": "a82b3ed1-1b9c-4cce-b91a-6f7f2633a374"
      },
      "execution_count": 23,
      "outputs": [
        {
          "output_type": "stream",
          "name": "stdout",
          "text": [
            "El monto final del valor inicial de $1000, con una tasa de interés de 16.0% a 5 anios es de $1800.0\n"
          ]
        }
      ]
    },
    {
      "cell_type": "markdown",
      "source": [
        "**Ejercicio 26 - Bonus:** *Crea una lista de todos los números del 1 a 100 que sean divisibles por un número que introduzca el usuario. Este número tiene que estar comprendido entre 2 y 7. Pinta la lista por pantalla.*"
      ],
      "metadata": {
        "id": "f9N-IaLd2csO"
      }
    },
    {
      "cell_type": "code",
      "source": [
        "lista = []\n",
        "numero_usuario = int(input(\"Ingrese un número entre 2 y 7: \"))\n",
        "while 2 > numero_usuario or numero_usuario > 7:\n",
        "  print(\"El número debe estar entre 2 y 7.\")\n",
        "  numero_usuario = int(input(\"Ingrese un número entre 2 y 7: \"))\n",
        "if 2 <= numero_usuario <= 7:\n",
        "  for i in range(1, 101):\n",
        "    if i % numero_usuario == 0:\n",
        "      lista.append(i)\n",
        "print(lista)"
      ],
      "metadata": {
        "colab": {
          "base_uri": "https://localhost:8080/"
        },
        "id": "ng1-WD4l2nPH",
        "outputId": "b4844cbd-8358-4898-fd23-598a7999d8ea"
      },
      "execution_count": null,
      "outputs": [
        {
          "output_type": "stream",
          "name": "stdout",
          "text": [
            "Ingrese un número entre 2 y 7: 10\n",
            "El número debe estar entre 2 y 7.\n",
            "Ingrese un número entre 2 y 7: 7\n",
            "[7, 14, 21, 28, 35, 42, 49, 56, 63, 70, 77, 84, 91, 98]\n"
          ]
        }
      ]
    },
    {
      "cell_type": "code",
      "source": [],
      "metadata": {
        "id": "CGnMnsJk2roy"
      },
      "execution_count": null,
      "outputs": []
    }
  ]
}